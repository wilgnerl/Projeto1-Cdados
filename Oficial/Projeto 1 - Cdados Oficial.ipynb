{
 "cells": [
  {
   "cell_type": "markdown",
   "metadata": {},
   "source": [
    "# Projeto 1 - Classificador Naive-Bayes com Tweets\n"
   ]
  },
  {
   "cell_type": "markdown",
   "metadata": {},
   "source": [
    "## Objetivo\n",
    "\n",
    "* Você foi contratado por uma empresa parar analisar como os clientes estão reagindo a um determinado produto no Twitter. A empresa deseja que você crie um programa selecionealgumas mensagens disponíveis no Twitter que mencionam esse produto e classifique-as como\"relevante\" ou \"irrelevante\".\n",
    "\n",
    "* Com isso, essa empresa deseja que mensagens relevantes, que denigrem o nome do produto, ou que mereçam destaque, disparem um foco de atenção da área de marketing.\n",
    "\n",
    "* Como aluno de Ciência dos Dados, você lembrou do Teorema de Bayes, mais especificamentedo Classificador Naive-Bayes, que é largamente utilizado em filtros anti-spam de e-mails, porexemplo. Esse classificador permite calcular qual a probabilidade de uma mensagem ser relevante dada as palavras em seu conteúdo.\n",
    "\n",
    "* Para realizar o MVP (minimum viable product) do projeto, você precisa implementar umaversão do classificador que \"aprende\" o que é relevante com uma base de treinamento e compara a performance dos resultados com uma base de testes.\n",
    "\n",
    "* Após validado, o seu protótipo poderá também capturar e classificar automaticamente as mensagens da plataforma."
   ]
  },
  {
   "cell_type": "markdown",
   "metadata": {},
   "source": [
    "## Integrantes do Projeto\n",
    "\n",
    "**Nome:** Wilgner Lopes Araujo\n",
    "\n",
    "**Nome:** Fabricio Neri Lima"
   ]
  },
  {
   "cell_type": "markdown",
   "metadata": {},
   "source": [
    "## Informações relevantes\n",
    "\n",
    "* Esse arquivo representa a ultima etapa do projeto onde haverá todas as etapas de cleaning da base de dados e implantação do algoritmo de classificação\n",
    "\n",
    "* O arquivo que pesquisa os tweets esta na pasta Arquivo Jupyter/Projeto1_Obtenção_dos_tweets nessa mesma raiz do repositório\n",
    "\n",
    "* A base de dados se encontra na pasta dados/Valorant.xlsx\n",
    "\n",
    "* A conta utiliza no twitter para obtenção de dados é @AnalyticsInsper\n",
    "\n",
    "* O produto escolhido para o projeto é o jogo : **Valorant**\n",
    "\n",
    "* Os criterios para a classificação dos tweets na primeira etapa do projeto foram: Os tweets que falavam de alguma forma positiva ou negativa sobre o jogo ou até mesmo que relacionavam o jogo a alguma emoção, foram classificados como relevantes. Os demais foram classificados como Irrelevantes.\n"
   ]
  },
  {
   "cell_type": "markdown",
   "metadata": {},
   "source": [
    "# Começando"
   ]
  },
  {
   "cell_type": "markdown",
   "metadata": {},
   "source": [
    "## Declarando as bibliotecas"
   ]
  },
  {
   "cell_type": "code",
   "execution_count": 1,
   "metadata": {},
   "outputs": [],
   "source": [
    "#importando cada uma das bibliotecas que serão usadas\n",
    "import math\n",
    "import numpy as np\n",
    "import pandas as pd\n",
    "import re\n",
    "import functools\n",
    "import operator\n",
    "import emoji"
   ]
  },
  {
   "cell_type": "markdown",
   "metadata": {},
   "source": [
    "## Abrindo a base de dados e visualizando os primeiros 5 termos"
   ]
  },
  {
   "cell_type": "code",
   "execution_count": 2,
   "metadata": {},
   "outputs": [
    {
     "data": {
      "text/html": [
       "<div>\n",
       "<style scoped>\n",
       "    .dataframe tbody tr th:only-of-type {\n",
       "        vertical-align: middle;\n",
       "    }\n",
       "\n",
       "    .dataframe tbody tr th {\n",
       "        vertical-align: top;\n",
       "    }\n",
       "\n",
       "    .dataframe thead th {\n",
       "        text-align: right;\n",
       "    }\n",
       "</style>\n",
       "<table border=\"1\" class=\"dataframe\">\n",
       "  <thead>\n",
       "    <tr style=\"text-align: right;\">\n",
       "      <th></th>\n",
       "      <th>Treinamento</th>\n",
       "      <th>Etiquetas</th>\n",
       "      <th>Classificado</th>\n",
       "    </tr>\n",
       "  </thead>\n",
       "  <tbody>\n",
       "    <tr>\n",
       "      <th>0</th>\n",
       "      <td>@caos__0 eu no valorant :v\\nfon</td>\n",
       "      <td>2</td>\n",
       "      <td>Irrelevante</td>\n",
       "    </tr>\n",
       "    <tr>\n",
       "      <th>1</th>\n",
       "      <td>o cara q pra mim é o melhor player de valorant...</td>\n",
       "      <td>2</td>\n",
       "      <td>Irrelevante</td>\n",
       "    </tr>\n",
       "    <tr>\n",
       "      <th>2</th>\n",
       "      <td>mano algm upa meu passe no valorant na humildade</td>\n",
       "      <td>2</td>\n",
       "      <td>Irrelevante</td>\n",
       "    </tr>\n",
       "    <tr>\n",
       "      <th>3</th>\n",
       "      <td>deletei o valorant, agora meu pc volta a ligar...</td>\n",
       "      <td>1</td>\n",
       "      <td>Relevante</td>\n",
       "    </tr>\n",
       "    <tr>\n",
       "      <th>4</th>\n",
       "      <td>quem tiver pc baixa valorant nessa porr que eu...</td>\n",
       "      <td>1</td>\n",
       "      <td>Relevante</td>\n",
       "    </tr>\n",
       "  </tbody>\n",
       "</table>\n",
       "</div>"
      ],
      "text/plain": [
       "                                         Treinamento  Etiquetas Classificado\n",
       "0                    @caos__0 eu no valorant :v\\nfon          2  Irrelevante\n",
       "1  o cara q pra mim é o melhor player de valorant...          2  Irrelevante\n",
       "2   mano algm upa meu passe no valorant na humildade          2  Irrelevante\n",
       "3  deletei o valorant, agora meu pc volta a ligar...          1    Relevante\n",
       "4  quem tiver pc baixa valorant nessa porr que eu...          1    Relevante"
      ]
     },
     "execution_count": 2,
     "metadata": {},
     "output_type": "execute_result"
    }
   ],
   "source": [
    "#abrindo o arquivo de treino\n",
    "dados = pd.read_excel('../dados/Valorant.xlsx')\n",
    "dados.head()"
   ]
  },
  {
   "cell_type": "markdown",
   "metadata": {},
   "source": [
    "## Informações do DataFrame"
   ]
  },
  {
   "cell_type": "code",
   "execution_count": 3,
   "metadata": {},
   "outputs": [
    {
     "name": "stdout",
     "output_type": "stream",
     "text": [
      "<class 'pandas.core.frame.DataFrame'>\n",
      "RangeIndex: 500 entries, 0 to 499\n",
      "Data columns (total 3 columns):\n",
      " #   Column        Non-Null Count  Dtype \n",
      "---  ------        --------------  ----- \n",
      " 0   Treinamento   500 non-null    object\n",
      " 1   Etiquetas     500 non-null    int64 \n",
      " 2   Classificado  500 non-null    object\n",
      "dtypes: int64(1), object(2)\n",
      "memory usage: 11.8+ KB\n"
     ]
    }
   ],
   "source": [
    "#lendo as informações da base de treino\n",
    "dados.info()"
   ]
  },
  {
   "cell_type": "markdown",
   "metadata": {},
   "source": [
    "## Classificando \n",
    "\n",
    "* A coluna Treinamento e Classificado são categoricas, pois ambas são variaveis qualitativas nominais"
   ]
  },
  {
   "cell_type": "code",
   "execution_count": 4,
   "metadata": {},
   "outputs": [],
   "source": [
    "#definindo como tipo como variáveis categóricas\n",
    "dados['Treinamento'] = dados['Treinamento'].astype('category')\n",
    "dados['Classificado'] = dados['Classificado'].astype('category')"
   ]
  },
  {
   "cell_type": "markdown",
   "metadata": {},
   "source": [
    "## Iniciando as coletas de probabilidades"
   ]
  },
  {
   "cell_type": "markdown",
   "metadata": {},
   "source": [
    "### Analisando frequencia de Relevante e Irrelevante na base de dados"
   ]
  },
  {
   "cell_type": "code",
   "execution_count": 5,
   "metadata": {},
   "outputs": [
    {
     "data": {
      "text/plain": [
       "Irrelevante    0.542\n",
       "Relevante      0.458\n",
       "Name: Classificado, dtype: float64"
      ]
     },
     "execution_count": 5,
     "metadata": {},
     "output_type": "execute_result"
    }
   ],
   "source": [
    "#identificando as probabilidades de Relevante P(R) e probabilidade de Irrelevante P(R_c)\n",
    "Probabilidade_total = dados.Classificado.value_counts(True)\n",
    "Probabilidade_total"
   ]
  },
  {
   "cell_type": "markdown",
   "metadata": {},
   "source": [
    "## Declarando as variaveis de probabilidade\n",
    "\n",
    "* Considere P(R) para probabilidade de ser Relevante\n",
    "* Considere P(R_c) para probabilidade de ser Irrelevante"
   ]
  },
  {
   "cell_type": "code",
   "execution_count": 6,
   "metadata": {},
   "outputs": [],
   "source": [
    "#Probabilidade de Irrelevantes\n",
    "P_R_c = Probabilidade_total[0]\n",
    "#Probabilidade de relevantes\n",
    "P_R = Probabilidade_total[1]"
   ]
  },
  {
   "cell_type": "markdown",
   "metadata": {},
   "source": [
    "## Antes de prosseguir vamos limpar o codigo\n",
    "\n",
    "* Será removido os seguintes simbolos: ! - . : ? ; _ , < > / \\ ) ( # % $ | \\n"
   ]
  },
  {
   "cell_type": "code",
   "execution_count": 7,
   "metadata": {},
   "outputs": [],
   "source": [
    "#Função utilizada para realizar a limpeza no Dataframe\n",
    "def limpa_texto(text):\n",
    "    \n",
    "    #import string\n",
    "    punctuation = '[!-.:?;_,<>/\\)(#%$|\\n]' # Note que os sinais [] são delimitadores de um conjunto.\n",
    "    pattern = re.compile(punctuation)\n",
    "    text_subbed = re.sub(pattern, ' ', text)\n",
    "    return text_subbed"
   ]
  },
  {
   "cell_type": "markdown",
   "metadata": {},
   "source": [
    "## Alem disso vamos espaçar os emojis entre si\n",
    "\n",
    "* O codigo utilizado foi extraido e modificado do seguinte site: https://stackoverflow.com/questions/49921720/how-to-split-emoji-from-each-other-python\n",
    "\n",
    "* O codigo utiliza a biblioteca emoji, functools, operator para atingir o objetivo de separar os emojis"
   ]
  },
  {
   "cell_type": "code",
   "execution_count": 8,
   "metadata": {},
   "outputs": [],
   "source": [
    "def separa_emoji(text):\n",
    "    frase = text\n",
    "    frase_split_emoji = emoji.get_emoji_regexp().split(frase)\n",
    "    frase_split_com_espaço_em_branco = [substr.split() for substr in frase_split_emoji]\n",
    "    frase_split = functools.reduce(operator.concat, frase_split_com_espaço_em_branco)\n",
    "    frase_espacada = ' '.join(frase_split)\n",
    "    return frase_espacada"
   ]
  },
  {
   "cell_type": "markdown",
   "metadata": {},
   "source": [
    "## Aplicando a função de limpeza na base de dados"
   ]
  },
  {
   "cell_type": "code",
   "execution_count": 9,
   "metadata": {},
   "outputs": [],
   "source": [
    "#Aplicando as funções no dataframe\n",
    "dados['Treinamento'] = dados['Treinamento'].apply(limpa_texto)\n",
    "dados['Treinamento'] = dados['Treinamento'].apply(separa_emoji)"
   ]
  },
  {
   "cell_type": "code",
   "execution_count": 10,
   "metadata": {},
   "outputs": [
    {
     "data": {
      "text/html": [
       "<div>\n",
       "<style scoped>\n",
       "    .dataframe tbody tr th:only-of-type {\n",
       "        vertical-align: middle;\n",
       "    }\n",
       "\n",
       "    .dataframe tbody tr th {\n",
       "        vertical-align: top;\n",
       "    }\n",
       "\n",
       "    .dataframe thead th {\n",
       "        text-align: right;\n",
       "    }\n",
       "</style>\n",
       "<table border=\"1\" class=\"dataframe\">\n",
       "  <thead>\n",
       "    <tr style=\"text-align: right;\">\n",
       "      <th></th>\n",
       "      <th>Treinamento</th>\n",
       "      <th>Etiquetas</th>\n",
       "      <th>Classificado</th>\n",
       "    </tr>\n",
       "  </thead>\n",
       "  <tbody>\n",
       "    <tr>\n",
       "      <th>0</th>\n",
       "      <td>@caos 0 eu no valorant v fon</td>\n",
       "      <td>2</td>\n",
       "      <td>Irrelevante</td>\n",
       "    </tr>\n",
       "    <tr>\n",
       "      <th>1</th>\n",
       "      <td>o cara q pra mim é o melhor player de valorant do mundo joga osu</td>\n",
       "      <td>2</td>\n",
       "      <td>Irrelevante</td>\n",
       "    </tr>\n",
       "    <tr>\n",
       "      <th>2</th>\n",
       "      <td>mano algm upa meu passe no valorant na humildade</td>\n",
       "      <td>2</td>\n",
       "      <td>Irrelevante</td>\n",
       "    </tr>\n",
       "    <tr>\n",
       "      <th>3</th>\n",
       "      <td>deletei o valorant agora meu pc volta a ligar em 3 segundos</td>\n",
       "      <td>1</td>\n",
       "      <td>Relevante</td>\n",
       "    </tr>\n",
       "    <tr>\n",
       "      <th>4</th>\n",
       "      <td>quem tiver pc baixa valorant nessa porr que eu tô no ódio e vai ser o dia todo só isso</td>\n",
       "      <td>1</td>\n",
       "      <td>Relevante</td>\n",
       "    </tr>\n",
       "    <tr>\n",
       "      <th>5</th>\n",
       "      <td>voltei a jogar valorant so por causa do mata mata</td>\n",
       "      <td>1</td>\n",
       "      <td>Relevante</td>\n",
       "    </tr>\n",
       "    <tr>\n",
       "      <th>6</th>\n",
       "      <td>viciei em valorant esse é o tweet</td>\n",
       "      <td>1</td>\n",
       "      <td>Relevante</td>\n",
       "    </tr>\n",
       "    <tr>\n",
       "      <th>7</th>\n",
       "      <td>@zncabral free fire fez mais sucesso que o valorant só no brasil no resto do mundo quase ngm joga isso</td>\n",
       "      <td>1</td>\n",
       "      <td>Relevante</td>\n",
       "    </tr>\n",
       "    <tr>\n",
       "      <th>8</th>\n",
       "      <td>alguem me explica o motivo das 12 do valorant menos a shorty atirar tão bem de longe tipo comparando com cs e fortnite não faz sentido os cara vai de bucky atacando vai se fuder</td>\n",
       "      <td>1</td>\n",
       "      <td>Relevante</td>\n",
       "    </tr>\n",
       "    <tr>\n",
       "      <th>9</th>\n",
       "      <td>rt @leozjn o matchmaking do valorant n faz o minimo sentido</td>\n",
       "      <td>1</td>\n",
       "      <td>Relevante</td>\n",
       "    </tr>\n",
       "  </tbody>\n",
       "</table>\n",
       "</div>"
      ],
      "text/plain": [
       "                                                                                                                                                                         Treinamento  \\\n",
       "0                                                                                                                                                       @caos 0 eu no valorant v fon   \n",
       "1                                                                                                                   o cara q pra mim é o melhor player de valorant do mundo joga osu   \n",
       "2                                                                                                                                   mano algm upa meu passe no valorant na humildade   \n",
       "3                                                                                                                        deletei o valorant agora meu pc volta a ligar em 3 segundos   \n",
       "4                                                                                             quem tiver pc baixa valorant nessa porr que eu tô no ódio e vai ser o dia todo só isso   \n",
       "5                                                                                                                                  voltei a jogar valorant so por causa do mata mata   \n",
       "6                                                                                                                                                  viciei em valorant esse é o tweet   \n",
       "7                                                                             @zncabral free fire fez mais sucesso que o valorant só no brasil no resto do mundo quase ngm joga isso   \n",
       "8  alguem me explica o motivo das 12 do valorant menos a shorty atirar tão bem de longe tipo comparando com cs e fortnite não faz sentido os cara vai de bucky atacando vai se fuder   \n",
       "9                                                                                                                        rt @leozjn o matchmaking do valorant n faz o minimo sentido   \n",
       "\n",
       "   Etiquetas Classificado  \n",
       "0          2  Irrelevante  \n",
       "1          2  Irrelevante  \n",
       "2          2  Irrelevante  \n",
       "3          1    Relevante  \n",
       "4          1    Relevante  \n",
       "5          1    Relevante  \n",
       "6          1    Relevante  \n",
       "7          1    Relevante  \n",
       "8          1    Relevante  \n",
       "9          1    Relevante  "
      ]
     },
     "execution_count": 10,
     "metadata": {},
     "output_type": "execute_result"
    }
   ],
   "source": [
    "# Checando se funcionou e se os emojis ainda funcionam\n",
    "pd.set_option('max_colwidth', None)\n",
    "dados.head(10)"
   ]
  },
  {
   "cell_type": "markdown",
   "metadata": {},
   "source": [
    "## Preparação para fazer o smoothing"
   ]
  },
  {
   "cell_type": "markdown",
   "metadata": {},
   "source": [
    "* Primeiro passo: Verificar a contagem de cada palavra no grupo de DataFrame Relevante e Irrelevante"
   ]
  },
  {
   "cell_type": "code",
   "execution_count": 11,
   "metadata": {},
   "outputs": [],
   "source": [
    "# Separando o dataFrame em duas Strings com todas as palavras do grupo de Relevante e Irrelevante\n",
    "dados_relevantes = dados[dados.Classificado == 'Relevante']\n",
    "dados_irrelevantes = dados[dados.Classificado == 'Irrelevante']\n",
    "\n",
    "# Transformando colunas em listas de palavras\n",
    "palavras_relevantes = str(dados_relevantes.Treinamento.to_list()).split()\n",
    "palavras_irrelevantes = str(dados_irrelevantes.Treinamento.to_list()).split()\n",
    "\n",
    "# Contando aparição total das palavras\n",
    "contagem_relevantes = pd.Series(palavras_relevantes).value_counts()\n",
    "contagem_irrelevante = pd.Series(palavras_irrelevantes).value_counts()\n",
    "\n",
    "# Somando total de contagens\n",
    "N_relevante = contagem_relevantes.sum()\n",
    "N_irrelevante = contagem_irrelevante.sum()\n",
    "\n",
    "\n"
   ]
  },
  {
   "cell_type": "markdown",
   "metadata": {},
   "source": [
    "* Segundo passo: Aplicar o alfa nas contagem das palavras e o alfa x V no total de palavras "
   ]
  },
  {
   "cell_type": "code",
   "execution_count": 12,
   "metadata": {},
   "outputs": [],
   "source": [
    "#criando um alpha para realizar a técnica de smoothing\n",
    "alfa = 1\n",
    "#Criando um V para estimar o total de palavras da lingua \n",
    "V = 10e6\n",
    "\n",
    "# Contagem + alfa\n",
    "contagem_relevantes_com_alfa = contagem_relevantes + alfa\n",
    "contagem_irrelevantes_com_alfa = contagem_irrelevante + alfa\n",
    "\n",
    "# Total + alfaV\n",
    "N_relevante_com_alfaV = N_relevante+alfa*V\n",
    "N_irrelevante_com_alfaV = N_irrelevante+alfa*V\n"
   ]
  },
  {
   "cell_type": "markdown",
   "metadata": {},
   "source": [
    "* Calculando probabilidade de cada palavra dada que é relevante e irrelevante\n",
    "\n"
   ]
  },
  {
   "cell_type": "code",
   "execution_count": 13,
   "metadata": {},
   "outputs": [],
   "source": [
    "P_palavra_dado_relevante = contagem_relevantes_com_alfa/N_relevante_com_alfaV\n",
    "P_palavra_dado_irrelevante = contagem_irrelevantes_com_alfa/N_irrelevante_com_alfaV"
   ]
  },
  {
   "cell_type": "markdown",
   "metadata": {},
   "source": [
    "## O teorema de bayes requer as seguintes probabilidades"
   ]
  },
  {
   "cell_type": "markdown",
   "metadata": {},
   "source": [
    "$P(Relevante|tweet)$:\n",
    "\n",
    "$$P(Relevante|tweet) = \\frac{P(tweet|Relevante) \\cdot P(Relevante)}{P(tweet)}$$\n",
    "\n",
    "Ou seja, precisamos de: \n",
    "- $P(tweet|Relevante)$: probabilidade de encontrar o tweet dado que ele é relevante;\n",
    "- $P(tweet|Irrelevante)$: probabilidade de encontrar o tweet dado que ele é relevante;\n",
    "- $P(Relevante)$:  probabilidade do tweet ser relevante;\n",
    "- $P(Irrelevante)$: probabilidade do tweet ser irrelevante;\n",
    "- $P(tweet)$: probabilidade de um tweet ocorrer na lingua portuguesa.\n"
   ]
  },
  {
   "cell_type": "markdown",
   "metadata": {},
   "source": [
    "Para encontrar a probabilidade de $P(tweet|Relevante)$, temos que fazer:\n",
    "\n",
    "$P(tweet | Relevante) = P(Palavra_1 | Relevante) \\cdot P(Palavra_2 | Relevante) \\cdot P(Palavra_3 | Relevante) \\cdot ... P(Palavra_n | Relevante)$\n",
    "\n",
    "Contudo, como as probabilidades são muito pequenas, basta fazer a soma dos expoentes. Logo, basta aplicar logaritmo:\n",
    "\n",
    "$log(P(tweet | Relevante)) = \n",
    "log(P(Palavra_1 | Relevante)) + log(P(Palavra_2 | Relevante)) + ... log(P(Palavra_n | Relevante))$\n",
    "\n",
    "Dessa forma, aplicando o log, temos que: \n",
    "\n",
    "$log(P(Relevante|tweet)) = \\frac{log(P(palavra_1|Relevante)) + log(P(palavra_2|Relevante)) + log(P(palavra_3|Relevante)) + log(P(palavra_4|Relevante)) + log(P(Relevante))}{P(tweet)}$\n",
    "\n",
    "Como iremos realizar a comparação entre $P(Relevante|Tweet)$ e $P(Irrelevante|Tweet)$, não é necessário se preocupar com a divisão ou a subtração pelo $P(Tweet)$, se aplicarmos $log$, pois esse termo se cancelará."
   ]
  },
  {
   "cell_type": "markdown",
   "metadata": {},
   "source": [
    "## Calculando a coluna de probabilidade relevante"
   ]
  },
  {
   "cell_type": "code",
   "execution_count": 14,
   "metadata": {},
   "outputs": [
    {
     "data": {
      "text/html": [
       "<div>\n",
       "<style scoped>\n",
       "    .dataframe tbody tr th:only-of-type {\n",
       "        vertical-align: middle;\n",
       "    }\n",
       "\n",
       "    .dataframe tbody tr th {\n",
       "        vertical-align: top;\n",
       "    }\n",
       "\n",
       "    .dataframe thead th {\n",
       "        text-align: right;\n",
       "    }\n",
       "</style>\n",
       "<table border=\"1\" class=\"dataframe\">\n",
       "  <thead>\n",
       "    <tr style=\"text-align: right;\">\n",
       "      <th></th>\n",
       "      <th>Tweet</th>\n",
       "      <th>Probabilidade dado que é relevante</th>\n",
       "    </tr>\n",
       "  </thead>\n",
       "  <tbody>\n",
       "    <tr>\n",
       "      <th>0</th>\n",
       "      <td>@caos 0 eu no valorant v fon</td>\n",
       "      <td>43.076253</td>\n",
       "    </tr>\n",
       "    <tr>\n",
       "      <th>1</th>\n",
       "      <td>o cara q pra mim é o melhor player de valorant do mundo joga osu</td>\n",
       "      <td>87.415776</td>\n",
       "    </tr>\n",
       "    <tr>\n",
       "      <th>2</th>\n",
       "      <td>mano algm upa meu passe no valorant na humildade</td>\n",
       "      <td>55.373890</td>\n",
       "    </tr>\n",
       "    <tr>\n",
       "      <th>3</th>\n",
       "      <td>deletei o valorant agora meu pc volta a ligar em 3 segundos</td>\n",
       "      <td>72.071868</td>\n",
       "    </tr>\n",
       "    <tr>\n",
       "      <th>4</th>\n",
       "      <td>quem tiver pc baixa valorant nessa porr que eu tô no ódio e vai ser o dia todo só isso</td>\n",
       "      <td>118.716192</td>\n",
       "    </tr>\n",
       "  </tbody>\n",
       "</table>\n",
       "</div>"
      ],
      "text/plain": [
       "                                                                                    Tweet  \\\n",
       "0                                                            @caos 0 eu no valorant v fon   \n",
       "1                        o cara q pra mim é o melhor player de valorant do mundo joga osu   \n",
       "2                                        mano algm upa meu passe no valorant na humildade   \n",
       "3                             deletei o valorant agora meu pc volta a ligar em 3 segundos   \n",
       "4  quem tiver pc baixa valorant nessa porr que eu tô no ódio e vai ser o dia todo só isso   \n",
       "\n",
       "   Probabilidade dado que é relevante  \n",
       "0                           43.076253  \n",
       "1                           87.415776  \n",
       "2                           55.373890  \n",
       "3                           72.071868  \n",
       "4                          118.716192  "
      ]
     },
     "execution_count": 14,
     "metadata": {},
     "output_type": "execute_result"
    }
   ],
   "source": [
    "#valor inicial\n",
    "frase = 0\n",
    "\n",
    "tabela_relevante = dict()\n",
    "\n",
    "probabilidade_da_frase = 0\n",
    "\n",
    "#para cada um dos índices da tabela de tweets\n",
    "for indice in range(len(dados)):\n",
    "    \n",
    "    frase = dados.iloc[indice,0]\n",
    "    #divide o tweet em uma lista de palavras que compõem o tweet\n",
    "    palavras_da_frase = frase.split()\n",
    "    \n",
    "    for palavra in palavras_da_frase:\n",
    "    #faz o cálculo da probabilidade de CADA palavra    \n",
    "        \n",
    "        if palavra in palavras_relevantes:\n",
    "        #se for uma palavra conhecida entre as palavras presentes nos tweets relevantes\n",
    "\n",
    "            probabilidade_da_palavra = P_palavra_dado_relevante[palavra]\n",
    "            #como estamos apenas pegando os expoentes, estamos somando\n",
    "            probabilidade_da_frase += abs(math.log10(probabilidade_da_palavra))\n",
    "            \n",
    "        else:\n",
    "        #se for uma palavra desconhecida entre a lista das palavras presentes nos tweets relevantes\n",
    "        \n",
    "            probabilidade_da_palavra = alfa/N_relevante_com_alfaV\n",
    "            #como estamos apenas pegando os expoentes, estamos somando\n",
    "            probabilidade_da_frase += abs(math.log10(probabilidade_da_palavra))\n",
    "    \n",
    "    #adiciona a um dicionario em que a chave é o tweet e o item é a probabilidade dele\n",
    "    tabela_relevante[frase] = (probabilidade_da_frase)\n",
    "    probabilidade_da_frase = 0\n",
    "    \n",
    "df = pd.DataFrame.from_dict(data = tabela_relevante, orient='index').reset_index()\n",
    "df.columns = ['Tweet', 'Probabilidade dado que é relevante']\n",
    "df.head()"
   ]
  },
  {
   "cell_type": "markdown",
   "metadata": {},
   "source": [
    "## Calculando a coluna de probabilidade irrelevante"
   ]
  },
  {
   "cell_type": "markdown",
   "metadata": {},
   "source": [
    "Assim como feito para os Relevantes, iremos repetir o processo para os Irrelevantes"
   ]
  },
  {
   "cell_type": "code",
   "execution_count": 15,
   "metadata": {},
   "outputs": [
    {
     "data": {
      "text/html": [
       "<div>\n",
       "<style scoped>\n",
       "    .dataframe tbody tr th:only-of-type {\n",
       "        vertical-align: middle;\n",
       "    }\n",
       "\n",
       "    .dataframe tbody tr th {\n",
       "        vertical-align: top;\n",
       "    }\n",
       "\n",
       "    .dataframe thead th {\n",
       "        text-align: right;\n",
       "    }\n",
       "</style>\n",
       "<table border=\"1\" class=\"dataframe\">\n",
       "  <thead>\n",
       "    <tr style=\"text-align: right;\">\n",
       "      <th></th>\n",
       "      <th>Tweet</th>\n",
       "      <th>Probabilidade dado que é irrelevante</th>\n",
       "    </tr>\n",
       "  </thead>\n",
       "  <tbody>\n",
       "    <tr>\n",
       "      <th>0</th>\n",
       "      <td>@caos 0 eu no valorant v fon</td>\n",
       "      <td>41.436916</td>\n",
       "    </tr>\n",
       "    <tr>\n",
       "      <th>1</th>\n",
       "      <td>o cara q pra mim é o melhor player de valorant do mundo joga osu</td>\n",
       "      <td>84.870098</td>\n",
       "    </tr>\n",
       "    <tr>\n",
       "      <th>2</th>\n",
       "      <td>mano algm upa meu passe no valorant na humildade</td>\n",
       "      <td>54.365370</td>\n",
       "    </tr>\n",
       "    <tr>\n",
       "      <th>3</th>\n",
       "      <td>deletei o valorant agora meu pc volta a ligar em 3 segundos</td>\n",
       "      <td>72.956548</td>\n",
       "    </tr>\n",
       "    <tr>\n",
       "      <th>4</th>\n",
       "      <td>quem tiver pc baixa valorant nessa porr que eu tô no ódio e vai ser o dia todo só isso</td>\n",
       "      <td>119.731469</td>\n",
       "    </tr>\n",
       "  </tbody>\n",
       "</table>\n",
       "</div>"
      ],
      "text/plain": [
       "                                                                                    Tweet  \\\n",
       "0                                                            @caos 0 eu no valorant v fon   \n",
       "1                        o cara q pra mim é o melhor player de valorant do mundo joga osu   \n",
       "2                                        mano algm upa meu passe no valorant na humildade   \n",
       "3                             deletei o valorant agora meu pc volta a ligar em 3 segundos   \n",
       "4  quem tiver pc baixa valorant nessa porr que eu tô no ódio e vai ser o dia todo só isso   \n",
       "\n",
       "   Probabilidade dado que é irrelevante  \n",
       "0                             41.436916  \n",
       "1                             84.870098  \n",
       "2                             54.365370  \n",
       "3                             72.956548  \n",
       "4                            119.731469  "
      ]
     },
     "execution_count": 15,
     "metadata": {},
     "output_type": "execute_result"
    }
   ],
   "source": [
    "frase = 0\n",
    "tabela_irrelevante = dict()\n",
    "#iniciando a probabilidade em 1\n",
    "probabilidade_da_frase = 0\n",
    "\n",
    "for indice in range(len(dados)):\n",
    "    #para cada índice (linha) na planilha dados\n",
    "    frase = dados.iloc[indice,0]\n",
    "    #criando uma lista com as palavras presentes no tweet separadas individualmente\n",
    "    palavras_da_frase = frase.split()\n",
    "\n",
    "    for palavra in palavras_da_frase:\n",
    "        #calculando a probabilidade de cada palavra\n",
    "\n",
    "        if palavra in palavras_irrelevantes:\n",
    "            #se a palavra estiver entre todas as palavras presentes no grupo de palavras irrelevantes\n",
    "\n",
    "            probabilidade_da_palavra = P_palavra_dado_irrelevante[palavra]\n",
    "             #somando os expoentes da probabilidade de cada palavra\n",
    "            probabilidade_da_frase += abs(math.log10(probabilidade_da_palavra))\n",
    "            \n",
    "        else:\n",
    "            #se a palavra não for uma das presentes no grupo de palavras irrelevantes\n",
    "            probabilidade_da_palavra = alfa/N_irrelevante_com_alfaV\n",
    "            #somando os expoentes da probabilidade de cada palavra\n",
    "            probabilidade_da_frase += abs(math.log10(probabilidade_da_palavra))\n",
    "        \n",
    "    #salvando a probabilidade do tweet   \n",
    "    tabela_irrelevante[frase] = (probabilidade_da_frase)\n",
    "    #reiniciando a contagem da probabilidade para o próximo tweet\n",
    "    probabilidade_da_frase = 0\n",
    "    \n",
    "df1 = pd.DataFrame.from_dict(data = tabela_irrelevante, orient='index').reset_index()\n",
    "df1.columns = ['Tweet', 'Probabilidade dado que é irrelevante']\n",
    "df1.head()"
   ]
  },
  {
   "cell_type": "markdown",
   "metadata": {},
   "source": [
    "## Juntando resultados"
   ]
  },
  {
   "cell_type": "code",
   "execution_count": 16,
   "metadata": {},
   "outputs": [],
   "source": [
    "novodf = pd.concat([dados, df['Probabilidade dado que é relevante'], df1['Probabilidade dado que é irrelevante']], axis=1)"
   ]
  },
  {
   "cell_type": "code",
   "execution_count": 17,
   "metadata": {},
   "outputs": [
    {
     "data": {
      "text/html": [
       "<div>\n",
       "<style scoped>\n",
       "    .dataframe tbody tr th:only-of-type {\n",
       "        vertical-align: middle;\n",
       "    }\n",
       "\n",
       "    .dataframe tbody tr th {\n",
       "        vertical-align: top;\n",
       "    }\n",
       "\n",
       "    .dataframe thead th {\n",
       "        text-align: right;\n",
       "    }\n",
       "</style>\n",
       "<table border=\"1\" class=\"dataframe\">\n",
       "  <thead>\n",
       "    <tr style=\"text-align: right;\">\n",
       "      <th></th>\n",
       "      <th>Treinamento</th>\n",
       "      <th>Etiquetas</th>\n",
       "      <th>Classificado</th>\n",
       "      <th>Probabilidade dado que é relevante</th>\n",
       "      <th>Probabilidade dado que é irrelevante</th>\n",
       "    </tr>\n",
       "  </thead>\n",
       "  <tbody>\n",
       "    <tr>\n",
       "      <th>0</th>\n",
       "      <td>@caos 0 eu no valorant v fon</td>\n",
       "      <td>2</td>\n",
       "      <td>Irrelevante</td>\n",
       "      <td>43.076253</td>\n",
       "      <td>41.436916</td>\n",
       "    </tr>\n",
       "    <tr>\n",
       "      <th>1</th>\n",
       "      <td>o cara q pra mim é o melhor player de valorant do mundo joga osu</td>\n",
       "      <td>2</td>\n",
       "      <td>Irrelevante</td>\n",
       "      <td>87.415776</td>\n",
       "      <td>84.870098</td>\n",
       "    </tr>\n",
       "    <tr>\n",
       "      <th>2</th>\n",
       "      <td>mano algm upa meu passe no valorant na humildade</td>\n",
       "      <td>2</td>\n",
       "      <td>Irrelevante</td>\n",
       "      <td>55.373890</td>\n",
       "      <td>54.365370</td>\n",
       "    </tr>\n",
       "    <tr>\n",
       "      <th>3</th>\n",
       "      <td>deletei o valorant agora meu pc volta a ligar em 3 segundos</td>\n",
       "      <td>1</td>\n",
       "      <td>Relevante</td>\n",
       "      <td>72.071868</td>\n",
       "      <td>72.956548</td>\n",
       "    </tr>\n",
       "    <tr>\n",
       "      <th>4</th>\n",
       "      <td>quem tiver pc baixa valorant nessa porr que eu tô no ódio e vai ser o dia todo só isso</td>\n",
       "      <td>1</td>\n",
       "      <td>Relevante</td>\n",
       "      <td>118.716192</td>\n",
       "      <td>119.731469</td>\n",
       "    </tr>\n",
       "  </tbody>\n",
       "</table>\n",
       "</div>"
      ],
      "text/plain": [
       "                                                                              Treinamento  \\\n",
       "0                                                            @caos 0 eu no valorant v fon   \n",
       "1                        o cara q pra mim é o melhor player de valorant do mundo joga osu   \n",
       "2                                        mano algm upa meu passe no valorant na humildade   \n",
       "3                             deletei o valorant agora meu pc volta a ligar em 3 segundos   \n",
       "4  quem tiver pc baixa valorant nessa porr que eu tô no ódio e vai ser o dia todo só isso   \n",
       "\n",
       "   Etiquetas Classificado  Probabilidade dado que é relevante  \\\n",
       "0          2  Irrelevante                           43.076253   \n",
       "1          2  Irrelevante                           87.415776   \n",
       "2          2  Irrelevante                           55.373890   \n",
       "3          1    Relevante                           72.071868   \n",
       "4          1    Relevante                          118.716192   \n",
       "\n",
       "   Probabilidade dado que é irrelevante  \n",
       "0                             41.436916  \n",
       "1                             84.870098  \n",
       "2                             54.365370  \n",
       "3                             72.956548  \n",
       "4                            119.731469  "
      ]
     },
     "execution_count": 17,
     "metadata": {},
     "output_type": "execute_result"
    }
   ],
   "source": [
    "novodf.head()"
   ]
  },
  {
   "cell_type": "markdown",
   "metadata": {},
   "source": [
    "## Aplicando calculo final\n",
    "\n",
    "$log(P(tweet|Relevante)) + log(P(Relevante))$ e $log(P(tweet|Irrelevante)) + log(P(irrelevante))$\n",
    "\n",
    "Lembrando que não precisamos realizar a operação de divisão, visto que ambos seriam divididos pela mesma coisa, e como queremos compará-los, não mudaria em nada a comparação."
   ]
  },
  {
   "cell_type": "code",
   "execution_count": 18,
   "metadata": {},
   "outputs": [],
   "source": [
    "#realizando a operação\n",
    "novodf['Probabilidade dado relevante x Probabilidade de Relevante'] = novodf['Probabilidade dado que é relevante']+math.log10(P_R)\n",
    "novodf['Probabilidade dado irrelevante x Probabilidade de Irelevante'] = novodf['Probabilidade dado que é irrelevante']+math.log10(P_R_c)"
   ]
  },
  {
   "cell_type": "code",
   "execution_count": 19,
   "metadata": {},
   "outputs": [
    {
     "data": {
      "text/html": [
       "<div>\n",
       "<style scoped>\n",
       "    .dataframe tbody tr th:only-of-type {\n",
       "        vertical-align: middle;\n",
       "    }\n",
       "\n",
       "    .dataframe tbody tr th {\n",
       "        vertical-align: top;\n",
       "    }\n",
       "\n",
       "    .dataframe thead th {\n",
       "        text-align: right;\n",
       "    }\n",
       "</style>\n",
       "<table border=\"1\" class=\"dataframe\">\n",
       "  <thead>\n",
       "    <tr style=\"text-align: right;\">\n",
       "      <th></th>\n",
       "      <th>Treinamento</th>\n",
       "      <th>Etiquetas</th>\n",
       "      <th>Classificado</th>\n",
       "      <th>Probabilidade dado que é relevante</th>\n",
       "      <th>Probabilidade dado que é irrelevante</th>\n",
       "      <th>Probabilidade dado relevante x Probabilidade de Relevante</th>\n",
       "      <th>Probabilidade dado irrelevante x Probabilidade de Irelevante</th>\n",
       "    </tr>\n",
       "  </thead>\n",
       "  <tbody>\n",
       "    <tr>\n",
       "      <th>0</th>\n",
       "      <td>@caos 0 eu no valorant v fon</td>\n",
       "      <td>2</td>\n",
       "      <td>Irrelevante</td>\n",
       "      <td>43.076253</td>\n",
       "      <td>41.436916</td>\n",
       "      <td>42.737119</td>\n",
       "      <td>41.170915</td>\n",
       "    </tr>\n",
       "    <tr>\n",
       "      <th>1</th>\n",
       "      <td>o cara q pra mim é o melhor player de valorant do mundo joga osu</td>\n",
       "      <td>2</td>\n",
       "      <td>Irrelevante</td>\n",
       "      <td>87.415776</td>\n",
       "      <td>84.870098</td>\n",
       "      <td>87.076642</td>\n",
       "      <td>84.604098</td>\n",
       "    </tr>\n",
       "    <tr>\n",
       "      <th>2</th>\n",
       "      <td>mano algm upa meu passe no valorant na humildade</td>\n",
       "      <td>2</td>\n",
       "      <td>Irrelevante</td>\n",
       "      <td>55.373890</td>\n",
       "      <td>54.365370</td>\n",
       "      <td>55.034755</td>\n",
       "      <td>54.099369</td>\n",
       "    </tr>\n",
       "    <tr>\n",
       "      <th>3</th>\n",
       "      <td>deletei o valorant agora meu pc volta a ligar em 3 segundos</td>\n",
       "      <td>1</td>\n",
       "      <td>Relevante</td>\n",
       "      <td>72.071868</td>\n",
       "      <td>72.956548</td>\n",
       "      <td>71.732734</td>\n",
       "      <td>72.690547</td>\n",
       "    </tr>\n",
       "    <tr>\n",
       "      <th>4</th>\n",
       "      <td>quem tiver pc baixa valorant nessa porr que eu tô no ódio e vai ser o dia todo só isso</td>\n",
       "      <td>1</td>\n",
       "      <td>Relevante</td>\n",
       "      <td>118.716192</td>\n",
       "      <td>119.731469</td>\n",
       "      <td>118.377058</td>\n",
       "      <td>119.465468</td>\n",
       "    </tr>\n",
       "    <tr>\n",
       "      <th>5</th>\n",
       "      <td>voltei a jogar valorant so por causa do mata mata</td>\n",
       "      <td>1</td>\n",
       "      <td>Relevante</td>\n",
       "      <td>58.942680</td>\n",
       "      <td>59.773108</td>\n",
       "      <td>58.603545</td>\n",
       "      <td>59.507107</td>\n",
       "    </tr>\n",
       "    <tr>\n",
       "      <th>6</th>\n",
       "      <td>viciei em valorant esse é o tweet</td>\n",
       "      <td>1</td>\n",
       "      <td>Relevante</td>\n",
       "      <td>41.539170</td>\n",
       "      <td>40.444920</td>\n",
       "      <td>41.200036</td>\n",
       "      <td>40.178919</td>\n",
       "    </tr>\n",
       "    <tr>\n",
       "      <th>7</th>\n",
       "      <td>@zncabral free fire fez mais sucesso que o valorant só no brasil no resto do mundo quase ngm joga isso</td>\n",
       "      <td>1</td>\n",
       "      <td>Relevante</td>\n",
       "      <td>121.148123</td>\n",
       "      <td>121.552353</td>\n",
       "      <td>120.808988</td>\n",
       "      <td>121.286352</td>\n",
       "    </tr>\n",
       "    <tr>\n",
       "      <th>8</th>\n",
       "      <td>alguem me explica o motivo das 12 do valorant menos a shorty atirar tão bem de longe tipo comparando com cs e fortnite não faz sentido os cara vai de bucky atacando vai se fuder</td>\n",
       "      <td>1</td>\n",
       "      <td>Relevante</td>\n",
       "      <td>213.539203</td>\n",
       "      <td>213.133537</td>\n",
       "      <td>213.200069</td>\n",
       "      <td>212.867536</td>\n",
       "    </tr>\n",
       "    <tr>\n",
       "      <th>9</th>\n",
       "      <td>rt @leozjn o matchmaking do valorant n faz o minimo sentido</td>\n",
       "      <td>1</td>\n",
       "      <td>Relevante</td>\n",
       "      <td>66.497866</td>\n",
       "      <td>66.064682</td>\n",
       "      <td>66.158731</td>\n",
       "      <td>65.798682</td>\n",
       "    </tr>\n",
       "  </tbody>\n",
       "</table>\n",
       "</div>"
      ],
      "text/plain": [
       "                                                                                                                                                                         Treinamento  \\\n",
       "0                                                                                                                                                       @caos 0 eu no valorant v fon   \n",
       "1                                                                                                                   o cara q pra mim é o melhor player de valorant do mundo joga osu   \n",
       "2                                                                                                                                   mano algm upa meu passe no valorant na humildade   \n",
       "3                                                                                                                        deletei o valorant agora meu pc volta a ligar em 3 segundos   \n",
       "4                                                                                             quem tiver pc baixa valorant nessa porr que eu tô no ódio e vai ser o dia todo só isso   \n",
       "5                                                                                                                                  voltei a jogar valorant so por causa do mata mata   \n",
       "6                                                                                                                                                  viciei em valorant esse é o tweet   \n",
       "7                                                                             @zncabral free fire fez mais sucesso que o valorant só no brasil no resto do mundo quase ngm joga isso   \n",
       "8  alguem me explica o motivo das 12 do valorant menos a shorty atirar tão bem de longe tipo comparando com cs e fortnite não faz sentido os cara vai de bucky atacando vai se fuder   \n",
       "9                                                                                                                        rt @leozjn o matchmaking do valorant n faz o minimo sentido   \n",
       "\n",
       "   Etiquetas Classificado  Probabilidade dado que é relevante  \\\n",
       "0          2  Irrelevante                           43.076253   \n",
       "1          2  Irrelevante                           87.415776   \n",
       "2          2  Irrelevante                           55.373890   \n",
       "3          1    Relevante                           72.071868   \n",
       "4          1    Relevante                          118.716192   \n",
       "5          1    Relevante                           58.942680   \n",
       "6          1    Relevante                           41.539170   \n",
       "7          1    Relevante                          121.148123   \n",
       "8          1    Relevante                          213.539203   \n",
       "9          1    Relevante                           66.497866   \n",
       "\n",
       "   Probabilidade dado que é irrelevante  \\\n",
       "0                             41.436916   \n",
       "1                             84.870098   \n",
       "2                             54.365370   \n",
       "3                             72.956548   \n",
       "4                            119.731469   \n",
       "5                             59.773108   \n",
       "6                             40.444920   \n",
       "7                            121.552353   \n",
       "8                            213.133537   \n",
       "9                             66.064682   \n",
       "\n",
       "   Probabilidade dado relevante x Probabilidade de Relevante  \\\n",
       "0                                                  42.737119   \n",
       "1                                                  87.076642   \n",
       "2                                                  55.034755   \n",
       "3                                                  71.732734   \n",
       "4                                                 118.377058   \n",
       "5                                                  58.603545   \n",
       "6                                                  41.200036   \n",
       "7                                                 120.808988   \n",
       "8                                                 213.200069   \n",
       "9                                                  66.158731   \n",
       "\n",
       "   Probabilidade dado irrelevante x Probabilidade de Irelevante  \n",
       "0                                                     41.170915  \n",
       "1                                                     84.604098  \n",
       "2                                                     54.099369  \n",
       "3                                                     72.690547  \n",
       "4                                                    119.465468  \n",
       "5                                                     59.507107  \n",
       "6                                                     40.178919  \n",
       "7                                                    121.286352  \n",
       "8                                                    212.867536  \n",
       "9                                                     65.798682  "
      ]
     },
     "execution_count": 19,
     "metadata": {},
     "output_type": "execute_result"
    }
   ],
   "source": [
    "novodf.head(10)"
   ]
  },
  {
   "cell_type": "markdown",
   "metadata": {},
   "source": [
    "## Aplicando:"
   ]
  },
  {
   "cell_type": "markdown",
   "metadata": {},
   "source": [
    "Se $P(Relevante|tweet) < P(Irrelevante|tweet)$, classificaremos o tweet como Relevante (Como estamos verificando o expoente das probabilidades e eles são números muito pequenos (expoente negativo), queremos o expoente mais próximo de 0), senão, classificaremos como Irrelevante."
   ]
  },
  {
   "cell_type": "code",
   "execution_count": 20,
   "metadata": {},
   "outputs": [
    {
     "data": {
      "text/html": [
       "<div>\n",
       "<style scoped>\n",
       "    .dataframe tbody tr th:only-of-type {\n",
       "        vertical-align: middle;\n",
       "    }\n",
       "\n",
       "    .dataframe tbody tr th {\n",
       "        vertical-align: top;\n",
       "    }\n",
       "\n",
       "    .dataframe thead th {\n",
       "        text-align: right;\n",
       "    }\n",
       "</style>\n",
       "<table border=\"1\" class=\"dataframe\">\n",
       "  <thead>\n",
       "    <tr style=\"text-align: right;\">\n",
       "      <th></th>\n",
       "      <th>Treinamento</th>\n",
       "      <th>Etiquetas</th>\n",
       "      <th>Classificado</th>\n",
       "      <th>Probabilidade dado que é relevante</th>\n",
       "      <th>Probabilidade dado que é irrelevante</th>\n",
       "      <th>Probabilidade dado relevante x Probabilidade de Relevante</th>\n",
       "      <th>Probabilidade dado irrelevante x Probabilidade de Irelevante</th>\n",
       "      <th>Navy Bayes</th>\n",
       "    </tr>\n",
       "  </thead>\n",
       "  <tbody>\n",
       "    <tr>\n",
       "      <th>0</th>\n",
       "      <td>@caos 0 eu no valorant v fon</td>\n",
       "      <td>2</td>\n",
       "      <td>Irrelevante</td>\n",
       "      <td>43.076253</td>\n",
       "      <td>41.436916</td>\n",
       "      <td>42.737119</td>\n",
       "      <td>41.170915</td>\n",
       "      <td>Irrelevante</td>\n",
       "    </tr>\n",
       "    <tr>\n",
       "      <th>1</th>\n",
       "      <td>o cara q pra mim é o melhor player de valorant do mundo joga osu</td>\n",
       "      <td>2</td>\n",
       "      <td>Irrelevante</td>\n",
       "      <td>87.415776</td>\n",
       "      <td>84.870098</td>\n",
       "      <td>87.076642</td>\n",
       "      <td>84.604098</td>\n",
       "      <td>Irrelevante</td>\n",
       "    </tr>\n",
       "    <tr>\n",
       "      <th>2</th>\n",
       "      <td>mano algm upa meu passe no valorant na humildade</td>\n",
       "      <td>2</td>\n",
       "      <td>Irrelevante</td>\n",
       "      <td>55.373890</td>\n",
       "      <td>54.365370</td>\n",
       "      <td>55.034755</td>\n",
       "      <td>54.099369</td>\n",
       "      <td>Irrelevante</td>\n",
       "    </tr>\n",
       "    <tr>\n",
       "      <th>3</th>\n",
       "      <td>deletei o valorant agora meu pc volta a ligar em 3 segundos</td>\n",
       "      <td>1</td>\n",
       "      <td>Relevante</td>\n",
       "      <td>72.071868</td>\n",
       "      <td>72.956548</td>\n",
       "      <td>71.732734</td>\n",
       "      <td>72.690547</td>\n",
       "      <td>Relevante</td>\n",
       "    </tr>\n",
       "    <tr>\n",
       "      <th>4</th>\n",
       "      <td>quem tiver pc baixa valorant nessa porr que eu tô no ódio e vai ser o dia todo só isso</td>\n",
       "      <td>1</td>\n",
       "      <td>Relevante</td>\n",
       "      <td>118.716192</td>\n",
       "      <td>119.731469</td>\n",
       "      <td>118.377058</td>\n",
       "      <td>119.465468</td>\n",
       "      <td>Relevante</td>\n",
       "    </tr>\n",
       "  </tbody>\n",
       "</table>\n",
       "</div>"
      ],
      "text/plain": [
       "                                                                              Treinamento  \\\n",
       "0                                                            @caos 0 eu no valorant v fon   \n",
       "1                        o cara q pra mim é o melhor player de valorant do mundo joga osu   \n",
       "2                                        mano algm upa meu passe no valorant na humildade   \n",
       "3                             deletei o valorant agora meu pc volta a ligar em 3 segundos   \n",
       "4  quem tiver pc baixa valorant nessa porr que eu tô no ódio e vai ser o dia todo só isso   \n",
       "\n",
       "   Etiquetas Classificado  Probabilidade dado que é relevante  \\\n",
       "0          2  Irrelevante                           43.076253   \n",
       "1          2  Irrelevante                           87.415776   \n",
       "2          2  Irrelevante                           55.373890   \n",
       "3          1    Relevante                           72.071868   \n",
       "4          1    Relevante                          118.716192   \n",
       "\n",
       "   Probabilidade dado que é irrelevante  \\\n",
       "0                             41.436916   \n",
       "1                             84.870098   \n",
       "2                             54.365370   \n",
       "3                             72.956548   \n",
       "4                            119.731469   \n",
       "\n",
       "   Probabilidade dado relevante x Probabilidade de Relevante  \\\n",
       "0                                                  42.737119   \n",
       "1                                                  87.076642   \n",
       "2                                                  55.034755   \n",
       "3                                                  71.732734   \n",
       "4                                                 118.377058   \n",
       "\n",
       "   Probabilidade dado irrelevante x Probabilidade de Irelevante   Navy Bayes  \n",
       "0                                                     41.170915  Irrelevante  \n",
       "1                                                     84.604098  Irrelevante  \n",
       "2                                                     54.099369  Irrelevante  \n",
       "3                                                     72.690547    Relevante  \n",
       "4                                                    119.465468    Relevante  "
      ]
     },
     "execution_count": 20,
     "metadata": {},
     "output_type": "execute_result"
    }
   ],
   "source": [
    "#comparando os dados obtidos anteriomente e realizando a classificação\n",
    "novodf['Navy Bayes'] = np.where(novodf['Probabilidade dado que é relevante'] < novodf['Probabilidade dado que é irrelevante'], 'Relevante', 'Irrelevante')\n",
    "novodf.head()"
   ]
  },
  {
   "cell_type": "markdown",
   "metadata": {},
   "source": [
    "## Resultados\n",
    "\n",
    "Para obtermos os resultados, vamos comparar a classificação manual com a classificação pelo nosso modelo de MVP utilizando o pandas Crosstab"
   ]
  },
  {
   "cell_type": "code",
   "execution_count": 21,
   "metadata": {},
   "outputs": [
    {
     "data": {
      "text/html": [
       "<div>\n",
       "<style scoped>\n",
       "    .dataframe tbody tr th:only-of-type {\n",
       "        vertical-align: middle;\n",
       "    }\n",
       "\n",
       "    .dataframe tbody tr th {\n",
       "        vertical-align: top;\n",
       "    }\n",
       "\n",
       "    .dataframe thead th {\n",
       "        text-align: right;\n",
       "    }\n",
       "</style>\n",
       "<table border=\"1\" class=\"dataframe\">\n",
       "  <thead>\n",
       "    <tr style=\"text-align: right;\">\n",
       "      <th>Navy Bayes</th>\n",
       "      <th>Irrelevante</th>\n",
       "      <th>Relevante</th>\n",
       "    </tr>\n",
       "    <tr>\n",
       "      <th>Classificado</th>\n",
       "      <th></th>\n",
       "      <th></th>\n",
       "    </tr>\n",
       "  </thead>\n",
       "  <tbody>\n",
       "    <tr>\n",
       "      <th>Irrelevante</th>\n",
       "      <td>0.538</td>\n",
       "      <td>0.004</td>\n",
       "    </tr>\n",
       "    <tr>\n",
       "      <th>Relevante</th>\n",
       "      <td>0.174</td>\n",
       "      <td>0.284</td>\n",
       "    </tr>\n",
       "  </tbody>\n",
       "</table>\n",
       "</div>"
      ],
      "text/plain": [
       "Navy Bayes    Irrelevante  Relevante\n",
       "Classificado                        \n",
       "Irrelevante         0.538      0.004\n",
       "Relevante           0.174      0.284"
      ]
     },
     "execution_count": 21,
     "metadata": {},
     "output_type": "execute_result"
    }
   ],
   "source": [
    "tabela = pd.crosstab(novodf.Classificado, novodf['Navy Bayes'], normalize=True)\n",
    "tabela"
   ]
  },
  {
   "cell_type": "code",
   "execution_count": 22,
   "metadata": {},
   "outputs": [
    {
     "name": "stdout",
     "output_type": "stream",
     "text": [
      "A porcentagem de verdadeiros positivos é: 28.400%\n",
      "\n",
      "A porcentagem de falsos positivos é: 17.400%\n",
      "\n",
      "A porcentagem de verdadeiros negativos é: 53.800%\n",
      "\n",
      "A porcentagem de falsos negativos é: 0.400%\n",
      "\n"
     ]
    }
   ],
   "source": [
    "verdadeiros_positivos = tabela.iloc[1,1]*100\n",
    "falsos_positivos = tabela.iloc[1,0]*100\n",
    "verdadeiros_negativos = tabela.iloc[0,0]*100\n",
    "falsos_negativos = tabela.iloc[0,1]*100\n",
    "\n",
    "print('A porcentagem de verdadeiros positivos é: {:.3f}%\\n'.format(verdadeiros_positivos))\n",
    "print('A porcentagem de falsos positivos é: {:.3f}%\\n'.format(falsos_positivos))\n",
    "print('A porcentagem de verdadeiros negativos é: {:.3f}%\\n'.format(verdadeiros_negativos))\n",
    "print('A porcentagem de falsos negativos é: {:.3f}%\\n'.format(falsos_negativos))"
   ]
  },
  {
   "cell_type": "code",
   "execution_count": 23,
   "metadata": {},
   "outputs": [
    {
     "data": {
      "text/plain": [
       "0.8220000000000001"
      ]
     },
     "execution_count": 23,
     "metadata": {},
     "output_type": "execute_result"
    }
   ],
   "source": [
    "precisao = tabela.iloc[0,0] + tabela.iloc[1,1]\n",
    "precisao"
   ]
  },
  {
   "cell_type": "markdown",
   "metadata": {},
   "source": [
    "# Teste\n",
    "\n",
    "A partir deste ponto, iremos aplicar o nosso modelo na planilha de teste, para verificar o quão bom é o modelo."
   ]
  },
  {
   "cell_type": "code",
   "execution_count": 24,
   "metadata": {},
   "outputs": [
    {
     "data": {
      "text/html": [
       "<div>\n",
       "<style scoped>\n",
       "    .dataframe tbody tr th:only-of-type {\n",
       "        vertical-align: middle;\n",
       "    }\n",
       "\n",
       "    .dataframe tbody tr th {\n",
       "        vertical-align: top;\n",
       "    }\n",
       "\n",
       "    .dataframe thead th {\n",
       "        text-align: right;\n",
       "    }\n",
       "</style>\n",
       "<table border=\"1\" class=\"dataframe\">\n",
       "  <thead>\n",
       "    <tr style=\"text-align: right;\">\n",
       "      <th></th>\n",
       "      <th>Teste</th>\n",
       "      <th>Etiquetas</th>\n",
       "      <th>Classificado</th>\n",
       "    </tr>\n",
       "  </thead>\n",
       "  <tbody>\n",
       "    <tr>\n",
       "      <th>0</th>\n",
       "      <td>mt silverio abandona a carreira como dj e vira pro player de valorant, em breve nos cinemas</td>\n",
       "      <td>2</td>\n",
       "      <td>Irrelevante</td>\n",
       "    </tr>\n",
       "    <tr>\n",
       "      <th>1</th>\n",
       "      <td>definitivamente o valorant n quer mais me ver jogar, é cada bronze com jogatina de imortal q pelamor</td>\n",
       "      <td>1</td>\n",
       "      <td>Relevante</td>\n",
       "    </tr>\n",
       "    <tr>\n",
       "      <th>2</th>\n",
       "      <td>eu jogando valorant com meus amigos // eu jogando valorant sozinho https://t.co/esjhdslejb</td>\n",
       "      <td>2</td>\n",
       "      <td>Irrelevante</td>\n",
       "    </tr>\n",
       "    <tr>\n",
       "      <th>3</th>\n",
       "      <td>eu sei que a minha equipa no valorant é má quando sou eu a top fragger</td>\n",
       "      <td>2</td>\n",
       "      <td>Irrelevante</td>\n",
       "    </tr>\n",
       "    <tr>\n",
       "      <th>4</th>\n",
       "      <td>baixei valorant.. esse foi o erro da noite kkk</td>\n",
       "      <td>1</td>\n",
       "      <td>Relevante</td>\n",
       "    </tr>\n",
       "  </tbody>\n",
       "</table>\n",
       "</div>"
      ],
      "text/plain": [
       "                                                                                                  Teste  \\\n",
       "0           mt silverio abandona a carreira como dj e vira pro player de valorant, em breve nos cinemas   \n",
       "1  definitivamente o valorant n quer mais me ver jogar, é cada bronze com jogatina de imortal q pelamor   \n",
       "2            eu jogando valorant com meus amigos // eu jogando valorant sozinho https://t.co/esjhdslejb   \n",
       "3                                eu sei que a minha equipa no valorant é má quando sou eu a top fragger   \n",
       "4                                                        baixei valorant.. esse foi o erro da noite kkk   \n",
       "\n",
       "   Etiquetas Classificado  \n",
       "0          2  Irrelevante  \n",
       "1          1    Relevante  \n",
       "2          2  Irrelevante  \n",
       "3          2  Irrelevante  \n",
       "4          1    Relevante  "
      ]
     },
     "execution_count": 24,
     "metadata": {},
     "output_type": "execute_result"
    }
   ],
   "source": [
    "#lendo a planilha teste\n",
    "teste = pd.read_excel('../dados/Valorant.xlsx', sheet_name = 'Teste')\n",
    "teste.head()"
   ]
  },
  {
   "cell_type": "markdown",
   "metadata": {},
   "source": [
    "### Checa relevante\n",
    "\n",
    "Vamos realizar o mesmo procedimento de passar pelas tweets e verificarmos a probabilidade deles dado que são relevantes. "
   ]
  },
  {
   "cell_type": "code",
   "execution_count": 25,
   "metadata": {},
   "outputs": [
    {
     "data": {
      "text/html": [
       "<div>\n",
       "<style scoped>\n",
       "    .dataframe tbody tr th:only-of-type {\n",
       "        vertical-align: middle;\n",
       "    }\n",
       "\n",
       "    .dataframe tbody tr th {\n",
       "        vertical-align: top;\n",
       "    }\n",
       "\n",
       "    .dataframe thead th {\n",
       "        text-align: right;\n",
       "    }\n",
       "</style>\n",
       "<table border=\"1\" class=\"dataframe\">\n",
       "  <thead>\n",
       "    <tr style=\"text-align: right;\">\n",
       "      <th></th>\n",
       "      <th>Tweet</th>\n",
       "      <th>Probabilidade dado que é relevante</th>\n",
       "    </tr>\n",
       "  </thead>\n",
       "  <tbody>\n",
       "    <tr>\n",
       "      <th>0</th>\n",
       "      <td>mt silverio abandona a carreira como dj e vira pro player de valorant, em breve nos cinemas</td>\n",
       "      <td>107.851813</td>\n",
       "    </tr>\n",
       "    <tr>\n",
       "      <th>1</th>\n",
       "      <td>definitivamente o valorant n quer mais me ver jogar, é cada bronze com jogatina de imortal q pelamor</td>\n",
       "      <td>109.700044</td>\n",
       "    </tr>\n",
       "    <tr>\n",
       "      <th>2</th>\n",
       "      <td>eu jogando valorant com meus amigos // eu jogando valorant sozinho https://t.co/esjhdslejb</td>\n",
       "      <td>70.892549</td>\n",
       "    </tr>\n",
       "    <tr>\n",
       "      <th>3</th>\n",
       "      <td>eu sei que a minha equipa no valorant é má quando sou eu a top fragger</td>\n",
       "      <td>93.703128</td>\n",
       "    </tr>\n",
       "    <tr>\n",
       "      <th>4</th>\n",
       "      <td>baixei valorant.. esse foi o erro da noite kkk</td>\n",
       "      <td>57.298812</td>\n",
       "    </tr>\n",
       "  </tbody>\n",
       "</table>\n",
       "</div>"
      ],
      "text/plain": [
       "                                                                                                  Tweet  \\\n",
       "0           mt silverio abandona a carreira como dj e vira pro player de valorant, em breve nos cinemas   \n",
       "1  definitivamente o valorant n quer mais me ver jogar, é cada bronze com jogatina de imortal q pelamor   \n",
       "2            eu jogando valorant com meus amigos // eu jogando valorant sozinho https://t.co/esjhdslejb   \n",
       "3                                eu sei que a minha equipa no valorant é má quando sou eu a top fragger   \n",
       "4                                                        baixei valorant.. esse foi o erro da noite kkk   \n",
       "\n",
       "   Probabilidade dado que é relevante  \n",
       "0                          107.851813  \n",
       "1                          109.700044  \n",
       "2                           70.892549  \n",
       "3                           93.703128  \n",
       "4                           57.298812  "
      ]
     },
     "execution_count": 25,
     "metadata": {},
     "output_type": "execute_result"
    }
   ],
   "source": [
    "frase = 0\n",
    "\n",
    "tabela_relevante = dict()\n",
    "#iniciando a probabilidade como 0\n",
    "probabilidade_da_frase = 0\n",
    "for indice in range(len(teste)):\n",
    "    #passando de linha em linha\n",
    "    frase = teste.iloc[indice,0]\n",
    "    #dividindo cada tweet de palavra em palavra\n",
    "    palavras_da_frase = frase.split()\n",
    "    \n",
    "    for palavra in palavras_da_frase:\n",
    "    #para cada palavra presente no tweet, verificar se ela pertence a base das palavras relevantes    \n",
    "        \n",
    "        if palavra in palavras_relevantes:\n",
    "        #se for uma palavra presente dentre as relevantes, realiza o cálculo utilizando o valor dela + alpha\n",
    "            probabilidade_da_palavra = P_palavra_dado_relevante[palavra]\n",
    "            \n",
    "            probabilidade_da_frase += abs(math.log10(probabilidade_da_palavra))\n",
    "            \n",
    "        else:\n",
    "            #se não estiver presente dentre as palavras relevantes,realiza o cálculo apenas com o alpha\n",
    "            probabilidade_da_palavra = alfa/N_relevante_com_alfaV\n",
    "            probabilidade_da_frase += abs(math.log10(probabilidade_da_palavra))\n",
    "    \n",
    "    #guarda o valor da probabilidade do tweet \n",
    "    tabela_relevante[frase] = (probabilidade_da_frase)\n",
    "    probabilidade_da_frase = 0\n",
    "    \n",
    "df4 = pd.DataFrame.from_dict(data = tabela_relevante, orient='index').reset_index()\n",
    "df4.columns = ['Tweet', 'Probabilidade dado que é relevante']\n",
    "df4.head()"
   ]
  },
  {
   "cell_type": "markdown",
   "metadata": {},
   "source": [
    "### Checa Irrelevante"
   ]
  },
  {
   "cell_type": "code",
   "execution_count": 26,
   "metadata": {},
   "outputs": [
    {
     "data": {
      "text/html": [
       "<div>\n",
       "<style scoped>\n",
       "    .dataframe tbody tr th:only-of-type {\n",
       "        vertical-align: middle;\n",
       "    }\n",
       "\n",
       "    .dataframe tbody tr th {\n",
       "        vertical-align: top;\n",
       "    }\n",
       "\n",
       "    .dataframe thead th {\n",
       "        text-align: right;\n",
       "    }\n",
       "</style>\n",
       "<table border=\"1\" class=\"dataframe\">\n",
       "  <thead>\n",
       "    <tr style=\"text-align: right;\">\n",
       "      <th></th>\n",
       "      <th>Tweet</th>\n",
       "      <th>Probabilidade dado que é irrelevante</th>\n",
       "    </tr>\n",
       "  </thead>\n",
       "  <tbody>\n",
       "    <tr>\n",
       "      <th>0</th>\n",
       "      <td>mt silverio abandona a carreira como dj e vira pro player de valorant, em breve nos cinemas</td>\n",
       "      <td>105.361818</td>\n",
       "    </tr>\n",
       "    <tr>\n",
       "      <th>1</th>\n",
       "      <td>definitivamente o valorant n quer mais me ver jogar, é cada bronze com jogatina de imortal q pelamor</td>\n",
       "      <td>108.597595</td>\n",
       "    </tr>\n",
       "    <tr>\n",
       "      <th>2</th>\n",
       "      <td>eu jogando valorant com meus amigos // eu jogando valorant sozinho https://t.co/esjhdslejb</td>\n",
       "      <td>70.352071</td>\n",
       "    </tr>\n",
       "    <tr>\n",
       "      <th>3</th>\n",
       "      <td>eu sei que a minha equipa no valorant é má quando sou eu a top fragger</td>\n",
       "      <td>93.007725</td>\n",
       "    </tr>\n",
       "    <tr>\n",
       "      <th>4</th>\n",
       "      <td>baixei valorant.. esse foi o erro da noite kkk</td>\n",
       "      <td>57.061789</td>\n",
       "    </tr>\n",
       "  </tbody>\n",
       "</table>\n",
       "</div>"
      ],
      "text/plain": [
       "                                                                                                  Tweet  \\\n",
       "0           mt silverio abandona a carreira como dj e vira pro player de valorant, em breve nos cinemas   \n",
       "1  definitivamente o valorant n quer mais me ver jogar, é cada bronze com jogatina de imortal q pelamor   \n",
       "2            eu jogando valorant com meus amigos // eu jogando valorant sozinho https://t.co/esjhdslejb   \n",
       "3                                eu sei que a minha equipa no valorant é má quando sou eu a top fragger   \n",
       "4                                                        baixei valorant.. esse foi o erro da noite kkk   \n",
       "\n",
       "   Probabilidade dado que é irrelevante  \n",
       "0                            105.361818  \n",
       "1                            108.597595  \n",
       "2                             70.352071  \n",
       "3                             93.007725  \n",
       "4                             57.061789  "
      ]
     },
     "execution_count": 26,
     "metadata": {},
     "output_type": "execute_result"
    }
   ],
   "source": [
    "frase = 0\n",
    "tabela_irrelevante = dict()\n",
    "\n",
    "#inicializando a probabilidade em 0\n",
    "probabilidade_da_frase = 0\n",
    "#percorrendo cada uma das linhas da planilha\n",
    "for indice in range(len(teste)):\n",
    "    frase = teste.iloc[indice,0]\n",
    "    #dividindo cada tweet em uma lista com as palavras separadas individualmente\n",
    "    palavras_da_frase = frase.split()\n",
    "\n",
    "    for palavra in palavras_da_frase:\n",
    "        \n",
    "        if palavra in palavras_irrelevantes:\n",
    "        #se a palavra for uma das presentes no grupo de palavras irrelevantes, realiza o cálculo com ela + alpha\n",
    "            probabilidade_da_palavra = P_palavra_dado_irrelevante[palavra]\n",
    "            probabilidade_da_frase += abs(math.log10(probabilidade_da_palavra))\n",
    "            \n",
    "        else:\n",
    "            # se a palavra não estiver presente no grupo de palavras irrelevantes, realiza o cálculo apenas com o apha\n",
    "            probabilidade_da_palavra = alfa/N_irrelevante_com_alfaV\n",
    "            probabilidade_da_frase += abs(math.log10(probabilidade_da_palavra))\n",
    "    #guarda a probabilidade do tweet      \n",
    "    tabela_irrelevante[frase] = (probabilidade_da_frase)\n",
    "    probabilidade_da_frase = 0\n",
    "    \n",
    "df5 = pd.DataFrame.from_dict(data = tabela_irrelevante, orient='index').reset_index()\n",
    "df5.columns = ['Tweet', 'Probabilidade dado que é irrelevante']\n",
    "df5.head()"
   ]
  },
  {
   "cell_type": "markdown",
   "metadata": {},
   "source": [
    "### Junta resultados"
   ]
  },
  {
   "cell_type": "code",
   "execution_count": 27,
   "metadata": {},
   "outputs": [
    {
     "data": {
      "text/html": [
       "<div>\n",
       "<style scoped>\n",
       "    .dataframe tbody tr th:only-of-type {\n",
       "        vertical-align: middle;\n",
       "    }\n",
       "\n",
       "    .dataframe tbody tr th {\n",
       "        vertical-align: top;\n",
       "    }\n",
       "\n",
       "    .dataframe thead th {\n",
       "        text-align: right;\n",
       "    }\n",
       "</style>\n",
       "<table border=\"1\" class=\"dataframe\">\n",
       "  <thead>\n",
       "    <tr style=\"text-align: right;\">\n",
       "      <th></th>\n",
       "      <th>Teste</th>\n",
       "      <th>Etiquetas</th>\n",
       "      <th>Classificado</th>\n",
       "      <th>Probabilidade dado que é relevante</th>\n",
       "      <th>Probabilidade dado que é irrelevante</th>\n",
       "    </tr>\n",
       "  </thead>\n",
       "  <tbody>\n",
       "    <tr>\n",
       "      <th>0</th>\n",
       "      <td>mt silverio abandona a carreira como dj e vira pro player de valorant, em breve nos cinemas</td>\n",
       "      <td>2</td>\n",
       "      <td>Irrelevante</td>\n",
       "      <td>107.851813</td>\n",
       "      <td>105.361818</td>\n",
       "    </tr>\n",
       "    <tr>\n",
       "      <th>1</th>\n",
       "      <td>definitivamente o valorant n quer mais me ver jogar, é cada bronze com jogatina de imortal q pelamor</td>\n",
       "      <td>1</td>\n",
       "      <td>Relevante</td>\n",
       "      <td>109.700044</td>\n",
       "      <td>108.597595</td>\n",
       "    </tr>\n",
       "    <tr>\n",
       "      <th>2</th>\n",
       "      <td>eu jogando valorant com meus amigos // eu jogando valorant sozinho https://t.co/esjhdslejb</td>\n",
       "      <td>2</td>\n",
       "      <td>Irrelevante</td>\n",
       "      <td>70.892549</td>\n",
       "      <td>70.352071</td>\n",
       "    </tr>\n",
       "    <tr>\n",
       "      <th>3</th>\n",
       "      <td>eu sei que a minha equipa no valorant é má quando sou eu a top fragger</td>\n",
       "      <td>2</td>\n",
       "      <td>Irrelevante</td>\n",
       "      <td>93.703128</td>\n",
       "      <td>93.007725</td>\n",
       "    </tr>\n",
       "    <tr>\n",
       "      <th>4</th>\n",
       "      <td>baixei valorant.. esse foi o erro da noite kkk</td>\n",
       "      <td>1</td>\n",
       "      <td>Relevante</td>\n",
       "      <td>57.298812</td>\n",
       "      <td>57.061789</td>\n",
       "    </tr>\n",
       "  </tbody>\n",
       "</table>\n",
       "</div>"
      ],
      "text/plain": [
       "                                                                                                  Teste  \\\n",
       "0           mt silverio abandona a carreira como dj e vira pro player de valorant, em breve nos cinemas   \n",
       "1  definitivamente o valorant n quer mais me ver jogar, é cada bronze com jogatina de imortal q pelamor   \n",
       "2            eu jogando valorant com meus amigos // eu jogando valorant sozinho https://t.co/esjhdslejb   \n",
       "3                                eu sei que a minha equipa no valorant é má quando sou eu a top fragger   \n",
       "4                                                        baixei valorant.. esse foi o erro da noite kkk   \n",
       "\n",
       "   Etiquetas Classificado  Probabilidade dado que é relevante  \\\n",
       "0          2  Irrelevante                          107.851813   \n",
       "1          1    Relevante                          109.700044   \n",
       "2          2  Irrelevante                           70.892549   \n",
       "3          2  Irrelevante                           93.703128   \n",
       "4          1    Relevante                           57.298812   \n",
       "\n",
       "   Probabilidade dado que é irrelevante  \n",
       "0                            105.361818  \n",
       "1                            108.597595  \n",
       "2                             70.352071  \n",
       "3                             93.007725  \n",
       "4                             57.061789  "
      ]
     },
     "execution_count": 27,
     "metadata": {},
     "output_type": "execute_result"
    }
   ],
   "source": [
    "#juntando os resultados obtidos\n",
    "novodf2 = pd.concat([teste, df4['Probabilidade dado que é relevante'], df5['Probabilidade dado que é irrelevante']], axis=1)\n",
    "novodf2.head()"
   ]
  },
  {
   "cell_type": "markdown",
   "metadata": {},
   "source": [
    "### Gera coluna final para analise"
   ]
  },
  {
   "cell_type": "code",
   "execution_count": 28,
   "metadata": {},
   "outputs": [
    {
     "data": {
      "text/html": [
       "<div>\n",
       "<style scoped>\n",
       "    .dataframe tbody tr th:only-of-type {\n",
       "        vertical-align: middle;\n",
       "    }\n",
       "\n",
       "    .dataframe tbody tr th {\n",
       "        vertical-align: top;\n",
       "    }\n",
       "\n",
       "    .dataframe thead th {\n",
       "        text-align: right;\n",
       "    }\n",
       "</style>\n",
       "<table border=\"1\" class=\"dataframe\">\n",
       "  <thead>\n",
       "    <tr style=\"text-align: right;\">\n",
       "      <th></th>\n",
       "      <th>Teste</th>\n",
       "      <th>Etiquetas</th>\n",
       "      <th>Classificado</th>\n",
       "      <th>Probabilidade dado que é relevante</th>\n",
       "      <th>Probabilidade dado que é irrelevante</th>\n",
       "      <th>Probabilidade dado relevante x Probabilidade de Relevante</th>\n",
       "      <th>Probabilidade dado irrelevante x Probabilidade de Irelevante</th>\n",
       "    </tr>\n",
       "  </thead>\n",
       "  <tbody>\n",
       "    <tr>\n",
       "      <th>0</th>\n",
       "      <td>mt silverio abandona a carreira como dj e vira pro player de valorant, em breve nos cinemas</td>\n",
       "      <td>2</td>\n",
       "      <td>Irrelevante</td>\n",
       "      <td>107.851813</td>\n",
       "      <td>105.361818</td>\n",
       "      <td>107.512678</td>\n",
       "      <td>105.095817</td>\n",
       "    </tr>\n",
       "    <tr>\n",
       "      <th>1</th>\n",
       "      <td>definitivamente o valorant n quer mais me ver jogar, é cada bronze com jogatina de imortal q pelamor</td>\n",
       "      <td>1</td>\n",
       "      <td>Relevante</td>\n",
       "      <td>109.700044</td>\n",
       "      <td>108.597595</td>\n",
       "      <td>109.360909</td>\n",
       "      <td>108.331594</td>\n",
       "    </tr>\n",
       "    <tr>\n",
       "      <th>2</th>\n",
       "      <td>eu jogando valorant com meus amigos // eu jogando valorant sozinho https://t.co/esjhdslejb</td>\n",
       "      <td>2</td>\n",
       "      <td>Irrelevante</td>\n",
       "      <td>70.892549</td>\n",
       "      <td>70.352071</td>\n",
       "      <td>70.553414</td>\n",
       "      <td>70.086070</td>\n",
       "    </tr>\n",
       "    <tr>\n",
       "      <th>3</th>\n",
       "      <td>eu sei que a minha equipa no valorant é má quando sou eu a top fragger</td>\n",
       "      <td>2</td>\n",
       "      <td>Irrelevante</td>\n",
       "      <td>93.703128</td>\n",
       "      <td>93.007725</td>\n",
       "      <td>93.363994</td>\n",
       "      <td>92.741724</td>\n",
       "    </tr>\n",
       "    <tr>\n",
       "      <th>4</th>\n",
       "      <td>baixei valorant.. esse foi o erro da noite kkk</td>\n",
       "      <td>1</td>\n",
       "      <td>Relevante</td>\n",
       "      <td>57.298812</td>\n",
       "      <td>57.061789</td>\n",
       "      <td>56.959678</td>\n",
       "      <td>56.795788</td>\n",
       "    </tr>\n",
       "  </tbody>\n",
       "</table>\n",
       "</div>"
      ],
      "text/plain": [
       "                                                                                                  Teste  \\\n",
       "0           mt silverio abandona a carreira como dj e vira pro player de valorant, em breve nos cinemas   \n",
       "1  definitivamente o valorant n quer mais me ver jogar, é cada bronze com jogatina de imortal q pelamor   \n",
       "2            eu jogando valorant com meus amigos // eu jogando valorant sozinho https://t.co/esjhdslejb   \n",
       "3                                eu sei que a minha equipa no valorant é má quando sou eu a top fragger   \n",
       "4                                                        baixei valorant.. esse foi o erro da noite kkk   \n",
       "\n",
       "   Etiquetas Classificado  Probabilidade dado que é relevante  \\\n",
       "0          2  Irrelevante                          107.851813   \n",
       "1          1    Relevante                          109.700044   \n",
       "2          2  Irrelevante                           70.892549   \n",
       "3          2  Irrelevante                           93.703128   \n",
       "4          1    Relevante                           57.298812   \n",
       "\n",
       "   Probabilidade dado que é irrelevante  \\\n",
       "0                            105.361818   \n",
       "1                            108.597595   \n",
       "2                             70.352071   \n",
       "3                             93.007725   \n",
       "4                             57.061789   \n",
       "\n",
       "   Probabilidade dado relevante x Probabilidade de Relevante  \\\n",
       "0                                                 107.512678   \n",
       "1                                                 109.360909   \n",
       "2                                                  70.553414   \n",
       "3                                                  93.363994   \n",
       "4                                                  56.959678   \n",
       "\n",
       "   Probabilidade dado irrelevante x Probabilidade de Irelevante  \n",
       "0                                                    105.095817  \n",
       "1                                                    108.331594  \n",
       "2                                                     70.086070  \n",
       "3                                                     92.741724  \n",
       "4                                                     56.795788  "
      ]
     },
     "execution_count": 28,
     "metadata": {},
     "output_type": "execute_result"
    }
   ],
   "source": [
    "#realizando o último procedimento de cálculo\n",
    "novodf2['Probabilidade dado relevante x Probabilidade de Relevante'] = novodf2['Probabilidade dado que é relevante']+math.log10(P_R)\n",
    "novodf2['Probabilidade dado irrelevante x Probabilidade de Irelevante'] = novodf2['Probabilidade dado que é irrelevante']+math.log10(P_R_c)\n",
    "novodf2.head()"
   ]
  },
  {
   "cell_type": "markdown",
   "metadata": {},
   "source": [
    "### Aplica Navy-Bayes"
   ]
  },
  {
   "cell_type": "code",
   "execution_count": 29,
   "metadata": {},
   "outputs": [
    {
     "data": {
      "text/html": [
       "<div>\n",
       "<style scoped>\n",
       "    .dataframe tbody tr th:only-of-type {\n",
       "        vertical-align: middle;\n",
       "    }\n",
       "\n",
       "    .dataframe tbody tr th {\n",
       "        vertical-align: top;\n",
       "    }\n",
       "\n",
       "    .dataframe thead th {\n",
       "        text-align: right;\n",
       "    }\n",
       "</style>\n",
       "<table border=\"1\" class=\"dataframe\">\n",
       "  <thead>\n",
       "    <tr style=\"text-align: right;\">\n",
       "      <th></th>\n",
       "      <th>Teste</th>\n",
       "      <th>Etiquetas</th>\n",
       "      <th>Classificado</th>\n",
       "      <th>Probabilidade dado que é relevante</th>\n",
       "      <th>Probabilidade dado que é irrelevante</th>\n",
       "      <th>Probabilidade dado relevante x Probabilidade de Relevante</th>\n",
       "      <th>Probabilidade dado irrelevante x Probabilidade de Irelevante</th>\n",
       "      <th>Navy Bayes</th>\n",
       "    </tr>\n",
       "  </thead>\n",
       "  <tbody>\n",
       "    <tr>\n",
       "      <th>0</th>\n",
       "      <td>mt silverio abandona a carreira como dj e vira pro player de valorant, em breve nos cinemas</td>\n",
       "      <td>2</td>\n",
       "      <td>Irrelevante</td>\n",
       "      <td>107.851813</td>\n",
       "      <td>105.361818</td>\n",
       "      <td>107.512678</td>\n",
       "      <td>105.095817</td>\n",
       "      <td>Irrelevante</td>\n",
       "    </tr>\n",
       "    <tr>\n",
       "      <th>1</th>\n",
       "      <td>definitivamente o valorant n quer mais me ver jogar, é cada bronze com jogatina de imortal q pelamor</td>\n",
       "      <td>1</td>\n",
       "      <td>Relevante</td>\n",
       "      <td>109.700044</td>\n",
       "      <td>108.597595</td>\n",
       "      <td>109.360909</td>\n",
       "      <td>108.331594</td>\n",
       "      <td>Irrelevante</td>\n",
       "    </tr>\n",
       "    <tr>\n",
       "      <th>2</th>\n",
       "      <td>eu jogando valorant com meus amigos // eu jogando valorant sozinho https://t.co/esjhdslejb</td>\n",
       "      <td>2</td>\n",
       "      <td>Irrelevante</td>\n",
       "      <td>70.892549</td>\n",
       "      <td>70.352071</td>\n",
       "      <td>70.553414</td>\n",
       "      <td>70.086070</td>\n",
       "      <td>Irrelevante</td>\n",
       "    </tr>\n",
       "    <tr>\n",
       "      <th>3</th>\n",
       "      <td>eu sei que a minha equipa no valorant é má quando sou eu a top fragger</td>\n",
       "      <td>2</td>\n",
       "      <td>Irrelevante</td>\n",
       "      <td>93.703128</td>\n",
       "      <td>93.007725</td>\n",
       "      <td>93.363994</td>\n",
       "      <td>92.741724</td>\n",
       "      <td>Irrelevante</td>\n",
       "    </tr>\n",
       "    <tr>\n",
       "      <th>4</th>\n",
       "      <td>baixei valorant.. esse foi o erro da noite kkk</td>\n",
       "      <td>1</td>\n",
       "      <td>Relevante</td>\n",
       "      <td>57.298812</td>\n",
       "      <td>57.061789</td>\n",
       "      <td>56.959678</td>\n",
       "      <td>56.795788</td>\n",
       "      <td>Irrelevante</td>\n",
       "    </tr>\n",
       "  </tbody>\n",
       "</table>\n",
       "</div>"
      ],
      "text/plain": [
       "                                                                                                  Teste  \\\n",
       "0           mt silverio abandona a carreira como dj e vira pro player de valorant, em breve nos cinemas   \n",
       "1  definitivamente o valorant n quer mais me ver jogar, é cada bronze com jogatina de imortal q pelamor   \n",
       "2            eu jogando valorant com meus amigos // eu jogando valorant sozinho https://t.co/esjhdslejb   \n",
       "3                                eu sei que a minha equipa no valorant é má quando sou eu a top fragger   \n",
       "4                                                        baixei valorant.. esse foi o erro da noite kkk   \n",
       "\n",
       "   Etiquetas Classificado  Probabilidade dado que é relevante  \\\n",
       "0          2  Irrelevante                          107.851813   \n",
       "1          1    Relevante                          109.700044   \n",
       "2          2  Irrelevante                           70.892549   \n",
       "3          2  Irrelevante                           93.703128   \n",
       "4          1    Relevante                           57.298812   \n",
       "\n",
       "   Probabilidade dado que é irrelevante  \\\n",
       "0                            105.361818   \n",
       "1                            108.597595   \n",
       "2                             70.352071   \n",
       "3                             93.007725   \n",
       "4                             57.061789   \n",
       "\n",
       "   Probabilidade dado relevante x Probabilidade de Relevante  \\\n",
       "0                                                 107.512678   \n",
       "1                                                 109.360909   \n",
       "2                                                  70.553414   \n",
       "3                                                  93.363994   \n",
       "4                                                  56.959678   \n",
       "\n",
       "   Probabilidade dado irrelevante x Probabilidade de Irelevante   Navy Bayes  \n",
       "0                                                    105.095817  Irrelevante  \n",
       "1                                                    108.331594  Irrelevante  \n",
       "2                                                     70.086070  Irrelevante  \n",
       "3                                                     92.741724  Irrelevante  \n",
       "4                                                     56.795788  Irrelevante  "
      ]
     },
     "execution_count": 29,
     "metadata": {},
     "output_type": "execute_result"
    }
   ],
   "source": [
    "#aplicando a compararação para verificar qual é relevante e qual é o irrelevante de acordo com as probabilidades\n",
    "novodf2['Navy Bayes'] = np.where(novodf2['Probabilidade dado que é relevante'] < novodf2['Probabilidade dado que é irrelevante'], 'Relevante', 'Irrelevante')\n",
    "novodf2.head()"
   ]
  },
  {
   "cell_type": "markdown",
   "metadata": {},
   "source": [
    "## Verificando o resultado do teste"
   ]
  },
  {
   "cell_type": "code",
   "execution_count": 30,
   "metadata": {},
   "outputs": [
    {
     "data": {
      "text/html": [
       "<div>\n",
       "<style scoped>\n",
       "    .dataframe tbody tr th:only-of-type {\n",
       "        vertical-align: middle;\n",
       "    }\n",
       "\n",
       "    .dataframe tbody tr th {\n",
       "        vertical-align: top;\n",
       "    }\n",
       "\n",
       "    .dataframe thead th {\n",
       "        text-align: right;\n",
       "    }\n",
       "</style>\n",
       "<table border=\"1\" class=\"dataframe\">\n",
       "  <thead>\n",
       "    <tr style=\"text-align: right;\">\n",
       "      <th>Navy Bayes</th>\n",
       "      <th>Irrelevante</th>\n",
       "      <th>Relevante</th>\n",
       "    </tr>\n",
       "    <tr>\n",
       "      <th>Classificado</th>\n",
       "      <th></th>\n",
       "      <th></th>\n",
       "    </tr>\n",
       "  </thead>\n",
       "  <tbody>\n",
       "    <tr>\n",
       "      <th>Irrelevante</th>\n",
       "      <td>0.361702</td>\n",
       "      <td>0.085106</td>\n",
       "    </tr>\n",
       "    <tr>\n",
       "      <th>Relevante</th>\n",
       "      <td>0.489362</td>\n",
       "      <td>0.063830</td>\n",
       "    </tr>\n",
       "  </tbody>\n",
       "</table>\n",
       "</div>"
      ],
      "text/plain": [
       "Navy Bayes    Irrelevante  Relevante\n",
       "Classificado                        \n",
       "Irrelevante      0.361702   0.085106\n",
       "Relevante        0.489362   0.063830"
      ]
     },
     "execution_count": 30,
     "metadata": {},
     "output_type": "execute_result"
    }
   ],
   "source": [
    "#comparando os resultados da classicação entre o manual e o Navy Bayes por meio do CrossTab\n",
    "tabela2 = pd.crosstab(novodf2.Classificado, novodf2['Navy Bayes'], normalize=True)\n",
    "tabela2"
   ]
  },
  {
   "cell_type": "code",
   "execution_count": 31,
   "metadata": {},
   "outputs": [
    {
     "name": "stdout",
     "output_type": "stream",
     "text": [
      "A porcentagem de verdadeiros positivos é: 6.383%\n",
      "\n",
      "A porcentagem de falsos positivos é: 48.936%\n",
      "\n",
      "A porcentagem de verdadeiros negativos é: 36.170%\n",
      "\n",
      "A porcentagem de falsos negativos é: 8.511%\n",
      "\n"
     ]
    }
   ],
   "source": [
    "verdadeiros_positivos2 = tabela2.iloc[1,1]*100\n",
    "falsos_positivos2 = tabela2.iloc[1,0]*100\n",
    "verdadeiros_negativos2 = tabela2.iloc[0,0]*100\n",
    "falsos_negativos2 = tabela2.iloc[0,1]*100\n",
    "\n",
    "print('A porcentagem de verdadeiros positivos é: {:.3f}%\\n'.format(verdadeiros_positivos2))\n",
    "print('A porcentagem de falsos positivos é: {:.3f}%\\n'.format(falsos_positivos2))\n",
    "print('A porcentagem de verdadeiros negativos é: {:.3f}%\\n'.format(verdadeiros_negativos2))\n",
    "print('A porcentagem de falsos negativos é: {:.3f}%\\n'.format(falsos_negativos2))"
   ]
  },
  {
   "cell_type": "code",
   "execution_count": 32,
   "metadata": {},
   "outputs": [
    {
     "data": {
      "text/plain": [
       "0.425531914893617"
      ]
     },
     "execution_count": 32,
     "metadata": {},
     "output_type": "execute_result"
    }
   ],
   "source": [
    "precisao = tabela2.iloc[0,0] + tabela2.iloc[1,1]\n",
    "precisao"
   ]
  },
  {
   "cell_type": "markdown",
   "metadata": {},
   "source": [
    "## Grafico comparativo"
   ]
  },
  {
   "cell_type": "markdown",
   "metadata": {},
   "source": [
<<<<<<< Updated upstream
    "Por meio dos resultados obtidos no treino, ficou evidente que a perfomance do classificador não é muito boa. Apesar de um acerto total de 54% na classificação dos tweets, ele acertou quase todos os irrelevantes, mas errou a grande maioria dos tweets relevantes.\n",
    "\n",
    "As mensagens de sarcamos e duplo sentido não tem sua conotação interpretada pelo Naive Bayes. Ele apenas leva em consideração cada palavra como algo independente, então o contexto é ignorado e assim o sarcasmo e duplo sentido também.\n",
    "\n",
    "**Plano de Expansão**\n",
    "**Sugerir melhorias**\n",
    "\n",
    "Não é possível alimentar a base de treinamento automaticamente utilizando o próprio classificador e aplicando a novos tweets porque diversas palavras do teste não estarão presentes no treino, e graças a isso, a taxa de acertos diminuirão notávelmente.\n",
    "\n",
    "O classificador Naive Bayes pode ser utilizado em diversos contextos, como:\n",
    "\n",
    "No jogo do prêmio escondido atrás de uma porta em que o jogador precisa escolher a porta, jogo comum em programas de televisão, o Naive Bayes pode ser aplicado pra descobrir a probabilidade de o prêmio estar atrás da porta dado que o apresentador perguntou se o jogador quer trocar de porta.\n",
    "\n",
    "Descobrir se você está com uma doença dado que um exame foi positivo (Isso porque existe a probabilidade do exame estar errado)\n",
    "\n"
=======
    "* Referencia para elaboração dos graficos: https://matplotlib.org/3.1.1/gallery/lines_bars_and_markers/barchart.html#sphx-glr-gallery-lines-bars-and-markers-barchart-py\n",
    "\n",
    "* Referencia para a colocação das labels no grafico: https://matplotlib.org/api/_as_gen/matplotlib.axes.Axes.annotate.html"
>>>>>>> Stashed changes
   ]
  },
  {
   "cell_type": "markdown",
   "metadata": {},
   "source": [
<<<<<<< Updated upstream
    "## Grafico comparativo"
=======
    "### Grafico do Treinamento"
>>>>>>> Stashed changes
   ]
  },
  {
   "cell_type": "code",
   "execution_count": 33,
   "metadata": {},
   "outputs": [],
   "source": [
    "import matplotlib.pyplot as plt\n",
    "%matplotlib inline"
   ]
  },
  {
   "cell_type": "code",
   "execution_count": 40,
   "metadata": {},
   "outputs": [
    {
     "data": {
      "image/png": "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\n",
      "text/plain": [
       "<Figure size 864x504 with 1 Axes>"
      ]
     },
     "metadata": {
      "needs_background": "light"
     },
     "output_type": "display_data"
    }
   ],
   "source": [
    "gabarito = novodf.Classificado.value_counts()\n",
    "treino = novodf['Navy Bayes'].value_counts()\n",
    "\n",
    "fig = plt.figure(figsize=(12,7))\n",
    "\n",
    "ax = fig.add_axes([0,0,1,1])\n",
    "\n",
    "relevante_gabarito = [gabarito[1], gabarito[0]]\n",
    "relevante_algoritmo = [treino[1], treino[0]]\n",
    "\n",
    "\n",
    "label = ['Relevante', 'Irrelevante']\n",
    "x = np.arange(len(label))\n",
    "largura = 0.25\n",
    "\n",
    "rects1 = ax.bar(x - largura/2, relevante_gabarito, largura, label=\"Gabarito\", color='royalblue')\n",
    "rects2 = ax.bar(x + largura/2, relevante_algoritmo, largura, label=\"Modelo\", color='red')\n",
    "\n",
    "ax.set_title('Grafico comparativo dos resultados Obtidos no treinamento', fontsize=20, pad=20, fontweight='bold')\n",
    "ax.set_ylabel('Quantidade', fontsize=15, labelpad=15, fontweight='bold')\n",
    "ax.set_xticks(x)\n",
    "ax.set_xticklabels(label, fontsize=20, fontweight='bold')\n",
    "ax.tick_params(labelsize=15)\n",
    "ax.legend(fontsize=20)\n",
    "\n",
    "def autolabel(rects):\n",
    "    \n",
    "    for rect in rects:\n",
    "        height = rect.get_height()\n",
    "        ax.annotate('{}'.format(height),\n",
    "                    xy=(rect.get_x() + rect.get_width() / 2, height),\n",
    "                    xytext=(0, 3),  # 3 points vertical offset\n",
    "                    textcoords=\"offset points\",\n",
    "                    ha='center', va='bottom', fontsize=15)\n",
    "\n",
    "autolabel(rects1)\n",
    "autolabel(rects2)\n",
    "\n",
    "\n",
    "plt.show()"
   ]
  },
  {
   "cell_type": "markdown",
   "metadata": {},
   "source": [
    "### Grafico do Teste"
   ]
  },
  {
   "cell_type": "code",
   "execution_count": 41,
   "metadata": {},
   "outputs": [
    {
     "data": {
      "image/png": "iVBORw0KGgoAAAANSUhEUgAAA6YAAAI/CAYAAABknMTUAAAABHNCSVQICAgIfAhkiAAAAAlwSFlzAAALEgAACxIB0t1+/AAAADh0RVh0U29mdHdhcmUAbWF0cGxvdGxpYiB2ZXJzaW9uMy4xLjMsIGh0dHA6Ly9tYXRwbG90bGliLm9yZy+AADFEAAAgAElEQVR4nOzdeZgU1bn48e8BBUFAIQgiBse4xxhcJjGCKBD3H1FvjEFxCddE49VozKJRo3GN4r037okmUQTjEpeYIO5LBBc018EliSsuo+KCYZegrOf3x+mGmqZnmB6GqYH5fp6nn5muc6rq7eqq6nrrVJ0KMUYkSZIkScpLu7wDkCRJkiS1bSamkiRJkqRcmZhKkiRJknJlYipJkiRJypWJqSRJkiQpVyamkiRJkqRcmZhKa5gQwjohhJ+HEF4KIXwaQoiF14RC+YTSYVKlQgiDM+tRDCEMzjumSqzp8a8JQghVJct4ZN4xwdq/D1zd63YIYWTJ9KsaOV6rXB8krTlMTKV6hBC6hRBODCHcHUJ4J4Qwr5AI1oYQ/hZC+HUIYVgIoXMLh3Y2cCHwRWC9Fp631gIhhHOzB5B5x6O1U0mScm7e8bQ2IYRNQgjnhRCeCiH8K4SwMIQwO4Tw9xDCb0IIO6+GeY7JfCe1zT19NaxM8t7Y18gWjvOjzLyvbcl5q21bJ+8ApNYohHAY8Buge5nizQqvrwInAKcC/9ty0XFU5v93geuAT4H3CsOuAe4p/P8eUtO8SVq3s+8lNYMQwgnApUDHkqINgB0Kr/8KIfweODnG+FkLhvcsdbf9mS04b0ltmImpVCKE8F+kpDTreeAx4F/A+sB2wCCgV4XTXgdYN8b46SqEWJX5/8YY4wXZwhjjbaswba0BQgjdYoxzV+c8Yozv0bInXFQQQgjA+jHGeXnHouYXQjgRuDozaAFwO/AqsDHwbaB3oexYYMPCsBYRY3wJeKml5tfGzKRu0g+wBXB85v3DwEMldZ5dnUFJrUaM0ZcvX4UXsBWwEIiF1wJgeD112wFfB4aWDK/NjD+GdOZ7HDCjMGxwod4xwB9JBwAfF+Y7D3gF+C2wXcl0J2SmW+51bpl6E8rE3Y30w/hEIaaFwDRgEvCLMvWrgMuAfxbi+wx4pxD7oCYu5y8D1xY+6yekFt9a4C5grzL1DyiUvV+Idy7wAnAR0LtM/TrLANgSuBOYBcwG/gxsUajbH7i3MM25hf+3KzPNOssaqAbuK0zz38CTwH5lxhtMatWuAT4ofNbPSK3ddwH71DNOdn6DSQeozwPzgdpCvR7AJaQDmbeBOcCiwvc6qfA9d2pguuVeY+qLoTD8D5lhr5WJfaNCDMU6J63Kd9mIdWlr4A7SAd+/gaeBb9YX/yquV92BXxbqzC18zumkbfgm4HsVxD2BuuvoZoVpTAOWAiMzddcHflxYx2ayfJsdB+xdz/T3KZS/T9qPzS+sc48B/w1snak7smRZVTW0TyvZN2THG9nIfdWyedCE7SOz/z2psOw/K4x7DdCzdNmWGbcXcAEwmbTNLCyMPw74xqouz5V8730Ln7EY3yfATmXWs3+ULK9DVrJ/+BbwDGkbmEna323TwHfc0G/IytaHPsD1pHXwU9L2cCywebn1oWTcAcDNpP3VZ4V4XwauBL5Qpv56wM+Av5H23YsLn+810nZ/WgXb3JhMbLWk38JLCrEsKHyfo4AO9YxfUewVxFX6fZ67kvpdgdOAp0i/PwuBD0nby5B6xvl/wHjSer6wEPs7wKOFz/yFQr0/NmI9+VrJdng46bfwo8K0Z5G2wWOAdk1dLr7a5iv3AHz5ak0v0lns7A749CZMozYz/nOkZK7cAX7NSnb+n5E5mKYZElNSQvhuA9OYXVL/G6QDp4bme1GFy+enpIOL+qZ3eaZuO+CGlcz/X8BuJfPILoO3WH5SIPuaBhxIOsAsLfsY6FkyzWz546QDmdLxlgLfKRnvf1cSfwTOKBlncJn5Zd/XFup9qRHTnkxqfSs33XKvMfXULa63e5YM/0pJ7D/IlH0KdF+V73Il69KXSQdB5aZ1d7n4mxoL6ZLL0mSh9FVbQewTMuO9Tjqoy05rZKHeFwrlDc33kpJpH9GI73lkpv7IkrKqBvZpYzLDq+qJeUIj5l/V1O2jMN7oeuq+QUpWi+9L94G7krbvhuZ3I5kD6kqX50q+97NLxru4nnr7l9R7tIH9Q+m6XnzNAr5cz3dc7nVuPXWrMvPelPp/Q0rjGFnymc4n7SPrm/+/gYNLxnloZXFXsM2NyYxXPKFUbpo3lBm34tgriKv0+zy3gbpbk37TGlom55eM891GfPeHFeo2OjEFOjfi+3kQ6NiU5eKrbb68lFeqa+/M/xH4/SpObydgCeks62uklrt/F8r+RboX9A3SAcQi0mVc/wF8nnQgfDUp+YDl947+T2b62Ut+JjUUSAhhfdJZzb6Zwc8Cfy38vzOpFbBYf3PgNqBTYdB80g/7HGA46YAZ4IwQwj9jjLc0NP/CNA8uiX8x6az3q8AmpBborFNJB0lF/yS1WvQGvgOsS2ohGRdC2CrGOKfMbDcnJab/XYj5W4XhvQrT+hdwFekH/+BC2UakH/NL6vkog0jf2x2F+Y8sxBKA34QQHooxflio+29S6/TfSWf655PuI9uL5cv7vBDC2BjjBw3Mr9iCNLfwmSAdKL0K/B8psZkFdCBdav4t0u0aOwP/RUoAiveN7kPddT17adk/64kBgBjjxBDC66TlBXAkdS8zOyLz/59ijLMy8xhZMp9Kv8tSY0mXORbdS0rEB5NOqtSnKbEMYfm2uJTUcvwaqXWrH7B7I+Ktz1aFv38htYr3BWaEENqRWveL5XNJ+5IPSPe4Fz/jaSGEFzPb4EmZaRdblhaSkortgN1WIdbGWNm+Cpbft1jx9hFCOAj4z8y0ppGSyY6F4V3LBRVC6EZKnjYqDFpSGG8q6SRV/8Lwo0jb1UWF9825PPcsef/HcpVijPeHEGazfP0eGEJoH2NcUqb6N0gnryaQtvdhheEbkvbZO7P8vtHhLF+us1j+GWElvyEFV5F+n4qeILUa70wD21wIYTgpKS+qJf2+dCZ9Z10K/98aQvhSjPHNEMK21N1P/Zl0QrcradnvRroMtik+R9p2byRtT98jbfMAR4cQzizuw5sSexNjalDhVqBxLN//zwZuIbWWDiCdzAA4O4TwQozxrsL77Pr7Mul3pLj+bk86WVN0E2kZ/4Ll29EzwJ8ydd4p/L2S5d/PEtJ28RLpd/YI0m/RPqT9wMkVf2C1TXlnxr58taYX6SCpeKZvWpny6ZQ5K1hSp7akvN6zqKTLlAaTkqBTSK2JpS0Bny8Zp8Ezq9TTYgqcWDLur4FQMu4Wmf9/VVJ/r0xZD9JBZLHsxUYu32cz4ywGBpSUt2N5S0o7UtJYrP8GsF6m7n+WxPejepZBBAZmyt4vKftaZn4fZIb/qYHlPh3YsIFYTisZNwC7kA54Ty58zz8vGeeoTP3BJWVvUWh5rGe59iUl1ScAPylMP9u692hJ/XOz069nmqUxDM6U/SwzfBqwTnH9KTfOqnyXDXzmXUvGGVuyvB9pzlgKy7c47BVKtp3S7acR8U8omc8pZeoMK6nz1ZLy2zJlL2SGv5AZfliZ6XYDemXejyyZT1UD+7QxmeFVJeONrGRftQrbx/2Z4YuArTJle5SMl90HnlRS9r1MWUdS0lksmwm0b8ryXMn3/nJJDBs0UPeFkrob1bNtPpxdH0knbMquN5RczlrPfMuuD6QTp9lWw8eo27J8fX3rA+mEUXH4bDJXpJBO+mTHu6IwfMfMsDmUucQ2+903YtmPKZnPDzNlB5WUfWNVYq/kVeb7LLutkE42FussBfqXlI/LlD+TGf5qZvgKxyOkE0GlVwhlr+C4tsw4vUnJaLHOySXlP8qULQC6VbpcfLXNly2mUv1iM0zjnzHGv5QrCCH8kHR5ULeVTGNTmqd33T1K3v88xljnM8a6Z3qzLUBTY4yPZOrNDCGMY3mr05dDCF1jjJ/UN/PCY3V2yQwaH2Osc4Y+xriUdBAMsA3Lz2AD3Brr9kz5B+B3LO/EbSDpXthS78QYn8q+J7XOArwdY3ymOO8Qwluk+6egfI/MRXfHGGdn3t9Euk+u+AiubMvz10kt75vTsE0bKPt1XN7yuEwIoTvpktQDSQf3TZl2U4whPbJoHVLL896kZGFEps4bwMTC/831XWZ9peT92OI/McYYQriRFVvgVyWWZ0mXJncCtgXeDCG8QGqF/icpAWpqS8ks6naGUzSo5P3fUr9IZfXPbIOPs7z1b0yhQ7c3SJcE1wCPx9XceVZjNXH7yH73T8cYpxTfxBgfDyG8Xc/0svu0YmtpcbwFIYRbSCdtIG3/25G+29a+PP9Qsi8fCxydeV9NuqpiVVVTdz/zh8I+OzvfY0pHKuz7d8oMGh9jnF58E2N8rPDomqrCoIGFv6+QTiJtRPqdrA0h1JC2uVdIy/3VJn6WJaS+HIpeKynvvoqxrw7Z/UEAXmhgf/CVEEKHGONC0vq7TWH4rSGEv7F8/X0WeCLGuLjCWAZQ95GTV4QQrqinbgfSFR6P1FMuLWNiKtU1leWXKPYKIfSIMWa7yv8F6ZKd7OVQDSn7oxlCOBC4vJExlT5OoKl6ZP6fVZJYraz+R2XKS4d1J92PWp/u1D2oebuC+a8wvxjj4hDCdNJZ/HL1i94veb8w83/ppbPZH+eGnvM8rSSWRSGEmSxPeIoHNZuQzmKv38C0ihr6nus7+LqedKZ/VaZdsRjjtBDCPSy/9PlIVkxMr8scLDfXd5m1Ycn7aSt5X9SkWGKM74cQjiRdabAxKfHJJj8xhHAT6R7jSk9qvVnPgWFjlkNWT9I2eCbp8uIDSd/9HtQ9MfVRCOFbJSdsskqPdpt1/Vk2k6ZvH9nvvtz3PI3yiWnpPnBhSXnpPq1Yf1WXZ9YHpIS3qAp4sZ66m2X+X0D9j21Z2brf0Em2SjR1myvd99f3e1JV+L+4zS0IIRxCOhH2BdJJwzqXC4cQHgYOipX3dD+t5ITUgpLy4v6/SbGvJpVMux3pcuUPSZdwb0Lq7G090uXke2bqvh9C+GaMsZKTF5V+zo1WXkUyMZVKPczyxDSQWgQvLRbGGH8DEEL4Eo1LTP9dz/DDSup8C5gYY/w0hHAA6V655pY9qOkeQthwJclptv7GZcpLh63QolemPLL8R35lLSSlB2F15le43ybb8lXfQduiBuZR6Vniot7ZNyGEdal78FdcrsOoe9B9KnB9jHFW4Ux8fetHqRXqFcY/MDPoMeA4UivwkhDC7cChjZx+U1zH8sT04BDCnqSWREjLdWymbnN9l1ml625v6j7iojflNTmWGONdhSsFdiH1tr0F6d66fUnr9VGkVoEbqUx960E21khKkBpaZ2cV4pxH+k56A18j3aO6Femgvg/pM/+B5feJLy2ZTvG+8uJ9mfUty1XV1O1jNumgm3pia8x33z3TolRUuk+bCU1ang2ZSN2W/OGUSUxDCPtSNxF8Kpa/vxRW/Lyl71d2ErKxym1zDb0vKt33r+z3JLvNPRFC2JLU0Vl/Uj8NO5CWfXvS1Rqnkq4+qkTp70J9J5OaHPtqkJ32EtL+oHTbzfoEIKZ75IeFEPqQ1t8tScc53yB9Z31Jyf8XmxgLpEfsNXSy+YUKpq02rKEWAaktupK6P1gXFhLF5pY98H0rxvhA5ozvYeVGaAaPl7w/P5RcB1To8Kgoe/Z/0xDCXpl6PajbUvf3hi7jBYgxzifdq1M0LISQ7XSBkBRbCV4j3ctZdFgIYb3M+6Ooe3KtMa0VzeXAEEL2oPFI0kFSUbEzoOz3DDA6c0nuqn7PG5bM854Y4xuFpLQX6d6n+tQ5KCskAZV6gHSFAaSrCEaXxJJtWVgd32Xpc/2+U/ynsF4fVc94TYolhLBhCOELMcYlMcb/izFeH2M8M8a4H+l+3qLSS4xXxZOZ/wOpled/S1+kjkn+UTzRFEL4UgihY4xxWoxxXKHe90k9JhdtHkIoJnelCcfXMv+fQcOXiTckm0SXW8eaun1kv/vdQgjFzqEIIQyi/pNe2fWqPZnLXUMIHanb4j+LdLloU5ZnQ24g9bhedFII4cvZCoV9y3+XjFf6bO2so0r25d8pKc8ur+y2X+l2X7zXMjvf7HFk6XyBZfv+bGLyjRDCsu8+hDCYus/nLm5zHQqdCcUY44sxxhtjjL+IMf4HqSO/oubc5pol9tUkuz9oD7xXz/7gL6R+H+YVYtwhhLBujPHDGOOfY4z/E2M8lvQIqqLtQghdMu9Xtp5Mom5SvE49sVxfiPOVVfjcakNsMZUyYoyvhxB+QkpQIbUc3BtCeJLU++Bc0j115e5dq8RrLO/NbocQwm2ke5kGA0NXcdr1GUs6yCz2ynsS8NUQwl9JBxs7kO4bKf7oXk3qzbV40D4uhHADaRkMp24LYbb3zYb8ktSzIqT9zxMhhGKvvMVk6hFSRzBLQwiXsrzXyC2BZ0MIfyGdoc4eBE0nHfC1lM8VYrmdtLyyPYR+SrrnFFa8b+m+EMK9pNaWEayaj0kJRTFBPqvQohNJyVXpQX/W1JL3t4QQniadhb87xvj6ymZeSIDHAGcVBmVbi35fUrfZv8sY499CCC+y/N6/owsnTCaT1qPSe6pXNZZivRcL8/iQ1IPsjqRtp6g5W0zuI+0Xir0B/z6knq2fJyV9nyd1AtWftH0/WKg3ChhU2LbfJV1i2Y30vMGi4rM4Id0nuZTlJ6t/E0IYRloeq9KD71SWH7SPDCEsIHViMz3GOIambx+/A/Yr/F/cj9xIupdthXscM8aS1tfiZYXXhBAGsLxX3q0zdS/NtFBWujzrFWOcGkI4ldS7LaQeXf9W2Je8SmrBGk7dVrg7ST2p1mcvYEII4TFSa/6wTNkLJZdoZrf9jQrbcPGxKX+IMdZ3OS4xxg9DCONZfqXG4MJ8/8pKeuUl/UYUe43egLQt/ZGU9GS/swUsXzbdgH+EEKaQEqEPSb8/W5EuSy1ana2U0LTYV4e/kO4LLa6nfwghfJuUOC8l7Q++Rtof/ZZ0BRike+SrM+vvx4XPkd3G5lP3hMlUlt/XfXAIYRRpfzg/xvibwu0cY1n+23dc4QTLY6SW2t6kdWI30j3Bt636x1ebEFtBD0y+fLW2F+kS3rnU7SmvvteMknFrM2Vj6pn+FqQDtHLTK+2Vd3DJuA323kfDzzHtT2XPMT2Yuj0Vl3v9d4XL9lQqe47pjStb/mR63W3EMmhqWXaej5AS0NJYlgLfzYyzLimJaMz3fG5mvMENrQMly7LctKdS9/lytSXj9aL+59N+q7ExkJKO0mf7vUehN9OSuk36LleyLu1I/dvRo/XF35RYSJfuN1Q/kg74Pt/I2Otd10rqNeY5ppG6veXe04j6F5fMZ0w99f6PlIiVm09VSd2RJdP873qm+c9V2T4K45b2PJtd97PLq3Q73o16elfPvG4hsw43ZXk24vs/kZQIrGy6vyfTa3Q92+Zf6xl3DrBjybg7UP/+t7pQZ2TJ8KrM+J8vLOPGbHOl68NFK/ms84FvZur3bMTy+TewcyOX+ZjMeKX7xKrmjL3CdaH0+zy3gbqNeY5pJNOTLiv2UF7udU7JfH5cT73pmTqNeY5pBF5tynLx1TZfXsorlRHT2fzNSI8teIh0pnYBqeOcj4GnSS2KB7G8F9dKpv8mqYe9+0k/rPNJzwo7kMrvT6tkvi+SDkx+RrrkaBbpIGUG6XKvy0vq/6VQ/0rSZW3zSctgKnA7MCTGeFqFMfwP6az+70gtJvNJy/Z9YDyZ+2tjjEtjjEeTlss40vewiLTM/k56zuiXYuM6HWlOT5LOTN9DarX8lHRGf1iM8fpipRjjIlLr+nWk3iUXkj7zqaTn5q2SwrL8Pum7WVSYx82kVrT6nolKjPFj0jPvHqPhDqtWNv9aVuxp8YZY5l641fFdxhhfIH3WP7H8e6ghPUPvggbGa0osU0iPQLidtLxnkFqY55Eu5b0M2CnG2Bw9aGdjfYuUgP+QlMzOIG2z0wux/oF02esPM6P9inRv/JOkE1GfFj7fh6R9zmExxjNKZnUcqWXwvULdt0nLcM/C+E1xNik5raXMvbGruH38J+n7eKUw3jRSMvsVGl73nyY9u/EiUkvTvEJsH5H2P/8RYxxRsg43ZXk2KMb4a9IJygtIvyczC3HMJbVgXktKFI+NdTvpKed80jpf7Dl6NunKlF0L20h2vv8ADgH+RiNaeMvE/R5pmxtD+s4WFOI9GTh2JeOeSbqS4VbSclxYiPc1UqdiX47Ln70JKbE+gbSO/4P027u4EPdrpN+QXWKMz1X6OSrVhNhXVxyvk+63/THpKq7i/uBfpHuVx5L6Fsg+m3oUaf80ibR9f0Zafz8g/d5+K8Z4XsmsriBtv1Oop5+GmC5z3pfUwj++ML2FpO/tFdIzg49n1a8wUxsSYox5xyBJrV4IIbuzPC/GeG5esUiSJK1tbDGVJEmSJOXKxFSSJEmSlCsTU0mSJElSrrzHVJIkSZKUK1tMJUmSJEm5MjGVJEmSJOXKxFSSJEmSlCsTU0mSJElSrkxMJUmSJEm5MjGVJEmSJOXKxFSSJEmSlCsTU0mSJElSrkxMJUmSJEm5MjGVJEmSJOXKxFSSJEmSlCsTU0mSJElSrkxMJUmSJEm5MjGVJEmSJOXKxFSSJEmSlKt18g4gTz179oxVVVV5hyFJkiRJa73JkydPjzFuVK6sTSemVVVV1NTU5B2GJEmSJK31Qgjv1FfmpbySJEmSpFyZmEqSJEmScmViKkmSJEnKlYmpJEmSJClXJqaSJEmS1jjvv/8+Xbp0IYTAvHnzlg2PMXLRRRfx+c9/nk6dOrHHHnvwwgsv5BipGsPEVJIkSdIa59RTT6VLly4rDB81ahQXXHABP/vZzxg/fjxdunRhr7324qOPPsohSjWWiakkSZKkNcoTTzzBAw88wE9/+tM6wz/77DNGjRrFGWecwQ9+8AP22msv7rjjDkIIXH311TlFq8YwMZUkSZK0xliyZAknnXQSv/jFL+jZs2edskmTJjF37ly+/e1vLxu2/vrr841vfIP777+/pUNVBdbJO4A1xYIFC5g5cyaffPIJS5YsyTscrcXat29P165d6dGjBx07dsw7HEmSpFbl2muv5bPPPuPEE0/k5ptvrlP26quv0r59e7baaqs6w7fbbjtuu+22lgxTFTIxbYQFCxbw7rvv0r17d6qqqlh33XUJIeQdltZCMUYWLVrE3Llzeffdd+nXr5/JqSRJUsGMGTM4++yzuemmm1h33XVXKJ81axZdunShffv2dYZ3796d+fPns3DhQjp06NBS4aoCXsrbCDNnzqR79+707NmTDh06mJRqtQkh0KFDB3r27En37t2ZOXNm3iFJkiS1Gj//+c/ZddddOeCAA+qtU+5YPcZYb5laB1tMG+GTTz6hqqoq7zDUxnTr1o3a2lr69OmTdyiSJEm5e+mllxg9ejSPP/44s2fPBmD+/PkAzJkzh/bt29O9e/dlt95lW01nz55N586dy7ayqnUwMW2EJUuWuBKrxa277rrezyxJklQwZcoUFi1axG677bZC2aabbsp3v/tdRowYwZIlS3jjjTfYZpttlpW/+uqrbLvtti0ZripkYtpINvurpbnOSZIkLbf77rvz2GOP1Rn2wAMPcMkll3DffffxhS98gc0224xu3bpxxx13cNZZZwGpVXX8+PEcd9xxeYStRjIxlSRJktTq9ezZk8GDB9cZVltbC8CgQYPo0qULAKeffjoXXHAB3bt3Z9ttt+XSSy9l6dKlnHTSSS0csSphYipJkiRprXH66aezdOlSLr74YmbMmEF1dTUPP/wwvXv3zjs0NWCN6ZU3hNA3hDAvhBBDCF0yw0MI4cwQwnshhE9DCI+HEHbMM1atmgkTJhBC4Nxzz801jsGDB3s5rSRJUis2cuRIYozLWksh3Q7185//nKlTp/Lpp5/yxBNPsNNOO+UYpRpjTWox/R9gHrB+yfDTgbOBU4FXgR8Dj4QQvhRj/KglAht6wrstMZsm++tv+jXr9F5//XWuvfZaJkyYQG1tLZ988gldu3Zlq622YtCgQRx++OHssssuzTrP1mLChAkMGTKEc845J/fEWZIkSVpbrBEtpiGEQcB+wP+WDF+PlJheHGO8Osb4CHAoEIEftHiga7kYI+eddx7bbbcdl112GSEEhg8fzmmnncaRRx5Jp06duOqqq6iurubXv/513uGushtvvJFXXnkl7zAkSZKktV6rbzENIbQHrgLOB2aXFA8AugG3FwfEGP8dQhgP7A+c1VJxtgXnn38+5557Lp///Oe59dZbGThw4Ap1Pv74Yy6//HLmzJmTQ4TNq1+/5m1pliRJklTemtBiejywHlCuCW5bYAkwpWT4K4UyNZO33nqLCy+8kA4dOnD//feXTUoBevXqxUUXXcRpp522bNjrr7/O6aefTnV1NRtttBEdO3Zks80247jjjmPq1KkNzvfpp59mr732YoMNNqBr167su+++1NTUrFDvgw8+4Pzzz2fgwIFsvPHGdOjQgU022YQRI0aUbfWsra0lhMDIkSN5/fXXGT58OL169aJdu3ZMmDABWPEe05EjRzJkyBAAzjvvPEIIy17FcQAWLFjAqFGj+PKXv0znzp3p1q0bgwYN4vbbb0eSJEnSilp1i2kI4XPABcCRMcZFZTqi6Q7MizEuKRk+C+gcQugQY1zYAqGu9W644QYWL17MiBEj2H777Vdaf511lq9ad911F9deey1DhgxhwIABdOjQgZdeeonrrruO8ePHU1NTQ9++fVeYxt/+9jcuvvhi9tprL0488UTeeOMN7rrrLh5//HEeeughBg0atKzu448/zqhRoxgyZAiHHHIIXbp0YcqUKdx5553cfffdPPXUU/Tv33+Febz55pvsuuuubL311hxxxBF8+umndOvWrexnOvjggwEYO3Yse+65Z53uyquqqgBYuHAh++67LxMnTmTbbbflxBNPZP78+dx5550MHz6cF154gYsuumily0+SJElqS1p1Ygr8EvhbjPG+BurEMsNCfWUhhOOA4018wZoAACAASURBVMBLNSvx1FNPATB06NCKxz3qqKP40Y9+RMeOHesMf+ihh9h///258MILueaaa1YY74EHHuCqq67iBz9YfrvwuHHjOPjggznmmGN47bXXaNeu3bK4pk2bRteuXetM48UXX2TgwIGcfvrp3H///SvM48knn+SMM85oVLJ48MEHs+GGGzJ27FgGDx5ctvOjX/3qV0ycOJH999+fu+++e1mCfs455/DVr36Viy++mGHDhjFgwICVzk+SJKnRfJKAimK59Kj1a7WJaQhhe+AYYI8QwoaFwZ0LfzcIISwhtYx2DSG0L2k13RCYH2NcVDrdGOPvgN8BVFdXr5nfWg4++ih1cFyuZbO2tpYxY8bUGbbhhhtyyimn1DsOwD777MP222/Pgw8+WLZ8yy235IQTTqgz7KCDDmLPPfdk4sSJPPHEE+y5555AuoS4nP79+zN06FAeeughFi1axLrrrlunvHfv3pxzzjllx22K0aNHE0Lg0ksvrdNq3KtXL84++2y+973vcd1115mYSpIkSRmtNjEFtgLWBZ4uUzYVuB64BWgPbAm8linflvToGDWTWDjzUu65nrW1tZx33nl1hm222WbLEtMYIzfffDNjxozhxRdfZNasWSxZsvw8QocOHcrOc9CgQctaRLMGDx7MxIkTef7555clpgD33nsv1157LTU1NUyfPp3FixfXGW/69On06dOnzrD+/fuv0JLbVJ988glvvPEGffv2ZdttV7zFudja/PzzzzfL/CRJkqS1RWtOTJ8EhpQM2w/4GXAA8BbwDjCX9IiYCwFCCJ2Bb1BoFVXz6NOnD6+++irvv//+CmWDBw9elrguXrx4hVbJH//4x1x++eX06dOHfffdl759+9KpUycAxowZwzvvvFN2nr179y47fOONNwao0/PvlVdeyQ9/+EO6d+/O3nvvTb9+/ejcuTMhBP7yl7/w4osvsmDBgnqn1RyK8ZQmv0XF4bNnl3YuLUmSJLVtrTYxjTFOByZkh4UQqgr/PhFjnFcYNgo4O4Qwi9RK+mNSb8NXtVSsbcHAgQN57LHHePTRRznmmGMaPd7HH3/MlVdeyZe+9CUmTZq0wj2gt956a73jTps2rezw4mXFG2ywAZCS4XPOOYeNN96Y5557boXE8OmnyzW6J+VagJuqGE8xvlIffvhhnXqSJEmSkjXhcTErM4rUSdIZwD2k55ruHWMsn9WoSUaOHMk666zDnXfeWfbxK/V56623WLp0Kfvss88KSenUqVN566236h33ySefZOnSpSsMLz6aZaeddgLSJbqzZ89mwIABKySl8+bN47nnnmt0vCvTvn17gDqXIhd17dqVLbbYgvfff58pU0qfYASPPfYYADvvvHOzxSNJkiStDdaoxDTGOCbGGIqtpYVhMcb4yxjjpjHGTjHGQTFGb+JrZltssQVnnXUWCxcuZP/992fSpEll65Veplp8jMqTTz5ZJ5mbN28exx577Ar3gWZNmTKF3/zmN3WGjRs3jokTJ7Llllsue1xMr1696Ny5M5MnT2bevGWrBosWLeKHP/wh06dPr+izNuRzn/scAO+++27Z8mOOOYYYI6eeemqdzzt9+nQuuOCCZXUkSZIkLddqL+VV6/OLX/yCGCMXXHABAwcOZJddduGrX/0qPXr0YPbs2dTW1vLII48AsMceewDpHs7DDjuMP/7xj+y4447ss88+zJkzh4cffpj11luPHXfckRdeeKHs/Pbbbz9+8pOfcP/999O/f/9lzzFdb731uP7665d1jNSuXTtOPvlkRo0axQ477MBBBx3EwoULeeyxx5g5cyZDhgxZ1lq5qrbZZhv69u3LH//4Rzp06EC/fv0IIXDUUUex2Wab8dOf/pT777+fcePG0b9/fw444ADmz5/PHXfcwccff8xpp53G7rvv3iyxSJIkSWuLNarFVPkKIXDuuefy8ssvc8opp7B48WJuueUWLrnkEm655RamTZvGf/3XfzF58mRuvPHGZeNdf/31nHnmmXz66af8+te/5sEHH2TYsGFMmjSpwfstd911VyZMmMCCBQu4+uqruf/++xk6dCiPP/74ssS36IILLuBXv/oVnTp14re//S133XUX1dXV/N///V+zPq+2ffv2/PnPf2b33Xfn9ttv55xzzuHss8/m7bffBlIPww8//DC//OUvAbjqqqsYO3YsW2211bJlJUmSJKmuENfQB7A2h+rq6lhTU7PSeq+88grbbbddC0Qk1eW6J0mSGqUZO3TUGq4V53chhMkxxupyZbaYSpIkSZJyZWIqSZIkScqViakkSZIkKVcmppIkSZKkXJmYSpIkSZJyZWIqSZIkScqViakkSZIkKVcmppIkSZKkXJmYSpIkSZJyZWIqSZIkScqViakkSZIkKVcmppIkSZKkXJmYSpIkSZJyZWKqNdaECRMIIXDuueeu0nTGjBlDCIExY8Y0S1ySJEmSKmNi2hxCaN2vZvuYgRAC7dq1480336y33pAhQ5bVNdmTJEmStDImpqrIOuusQ4yR66+/vmz5lClTmDhxIuuss04LRyZJkiRpTWViqor07t2b6upqbrjhBhYvXrxC+XXXXUeMkWHDhuUQnSRJkqQ1kYmpKnbsscfy0Ucfcc8999QZvmjRIsaOHcuAAQPYfvvt6x1/ypQpHH300fTt25cOHTqwySabcPTRRzNlypSy9adNm8Z3v/tdevfuTadOndhxxx0ZO3ZsgzHOnDmTM844g+22245OnTqxwQYb8PWvf52HHnqoos86efJkDjnkEHr16kXHjh3ZbLPNOOGEE/jwww8rmo4kSZKk+pmYqmKHH34466+/Ptddd12d4XfffTfTpk3j2GOPrXfcZ599lurqam666Sa+8pWv8NOf/pSvfe1r3HzzzVRXV1NTU1On/owZMxgwYACjR49m66235pRTTmHHHXfk+OOP57LLLis7j3feeYdddtmFUaNGsdFGG3H88cczfPhwXnnlFfbbbz9+//vfN+pz3nPPPQwYMIDx48ez11578eMf/5htttmGa665hurqampraxs1HUmSJEkN80ZAVaxr164cdthhjBkzhqlTp7LpppsC8Pvf/55u3brx7W9/m4suumiF8WKMHH300cydO5ebbrqJI444YlnZbbfdxmGHHcaRRx7Jyy+/TLt26ZzJGWecwVtvvcUpp5xSJxH9wQ9+wG677VY2vu985zu888473HrrrRx22GHLhs+ePZvBgwdz8sknc+CBB9K7d+96P+O8efMYOXIkixcvZsKECQwaNGhZ2SWXXMLpp5/OcccdV3ELrCRJkqQV2WKqJjn22GNZsmQJo0ePBlIr5cMPP8wRRxxB586dy44zadIkXn31VXbbbbc6SSnA8OHD2X333Xnttdd48skngXRp8M0330zXrl1XeCRMdXX1CtMAePHFF5k4cSKHHHJInaQUYMMNN+S8887js88+409/+lODn2/cuHHMmDGD4cOH10lKAX7yk59QVVXFww8/zLvvvtvgdCRJkiStnC2mapJdd92VHXbYgdGjR3PWWWdx3XXXsXTp0gYv433uuecAGDp0aNnyoUOH8uSTT/L888+zxx578OqrrzJ//nwGDRrEBhtssEL9wYMHr3Cv6dNPPw3AnDlzyj7f9F//+hcAr7zySoOfr6FY11lnHfbYYw9qa2t5/vnn6devX4PTkiRJktQwE1M12bHHHsvJJ5/MAw88wA033MAuu+zCTjvtVG/9OXPmANCnT5+y5cXhs2fPrlO/vktuN9544xWGzZgxA4CHH36Yhx9+uN5Y5s2bV29ZU2KVJEmS1HReyqsmO+qoo+jUqRPf//73ef/99znuuOMarF9s9fzoo4/Klhd7ui3WK/6dNm1a2frlplMc54orriDGWO/rhhtuaNZYJUmSJDWdiamabMMNN+Rb3/oWU6dOZf311+fwww9vsH6xNXXChAlly4vDd955ZwC23XZbOnfuzAsvvLCsBbNc/ayvfe1rADzxxBON/BSVx7p48eJl98EWY5UkSZLUdCamWiUXXnghf/7zn3nwwQfp2rVrg3UHDhzINttsw5NPPsmdd95Zp+zOO+/k8ccfZ+utt2b33XcHYN111+WII47gk08+WeF+0ZqaGm6++eYV5lFdXc2gQYO46667lnXMVOof//gHH3/8cYOxHnzwwfTo0YNbb72VZ555pk7Z5ZdfzltvvcVee+3l/aWSJElSM/AeU62Sfv36NTo5CyEwduxY9t57b4YPH85BBx3Etttuy2uvvcZf/vIXunbtyo033rjsUTEAF110EY8++iiXX345NTU17L777nz44YfcdtttHHDAAdx9990rzOeWW25h6NChfPe73+XKK69k1113ZcMNN2Tq1Kn8/e9/55///CdPP/00vXr1qjfWLl26MHr0aA499FD23HNPDj30UPr168fkyZN56KGH2Hjjjfntb39b+QKTJEmStAITU7WoXXfdlWeffZYLL7yQRx55hPHjx9OzZ08OP/xwzj77bLbZZps69Xv27MlTTz3FmWeeyfjx46mpqWGbbbbhmmuuoaqqqmxiuummmzJ58mSuuuoq/vSnP3HzzTezZMkSNt54Y774xS9y0kknscMOO6w01oMOOoinnnqKiy66iAcffJA5c+aw8cYbc/zxx3P22WezySabNNtykSRJktqyEGPMO4bcVFdXx5qampXWe+WVV9huu+1aICKpLtc9SZLUKCHkHYFai1ac34UQJscYq8uVeY+pJEmSJClXJqaSJEmSpFyZmEqSJEmScmViKkmSJEnKlYmpJEmSJClXJqaSJEmSpFyZmEqSJEmScmVi2kht+XmvyofrnCRJktoKE9NGaN++PYsWLco7DLUxixYton379nmHIUmSJK12JqaN0LVrV+bOnZt3GGpj5s6dS9euXfMOQ5IkSVrtTEwboUePHsyaNYvp06ezcOFCL7HUahNjZOHChUyfPp1Zs2bRo0ePvEOSJEmSVrt18g5gTdCxY0f69evHzJkzqa2tZcmSJXmHpLVY+/bt6dq1K/369aNjx455hyNJkiStdiamjdSxY0f69OlDnz598g5FkiRJktYqXsorSZIkScqViakkSZIkKVetNjENIXwrhDAphDAjhPBZCOG1EMJZIYQOmTq1IYRY8vooz7glSZIkSZVpzfeYfg54DPgfYDbwVeBcYGPgB5l6twBXZd4vbKH4JEmSJEnNoNUmpjHG35YMeiyE0A04MYRwUlz+zJYPY4zPtHB4kiRJkqRm0mov5a3HDKDDSmtJkiRJktYYrT4xDSG0DyF0DiHsDpwMXJNpLQU4JoSwMIQwJ4RwZwhhs5xClSRJkiQ1Qau9lDfj30DHwv83AqdmysYBzwBTge2Ac4AnQgg7xBjntGiUkiRJkqQmWRMS0wFAZ1LnR78ArgZOAIgx/jBT74kQwiTgBeA/gcvLTSyEcBxwHEC/fv1WX9SSJEmSpEYJda+Kbd1CCEcDY4EtY4xv1lPnJWByjPHolU2vuro61tTUNHOUkiRJUgsLIe8I1Fq04vwuhDA5xlhdrqzV32Na4rnC381XUq/1fhuSJEmSpDrWtMR0YOHv2+UKQwhfArYBJrdYRJIkSZKkVdJq7zENITwAPAK8BCwhJaU/AW6LMb4ZQvh/wJHAPcAHwLbAWcC7wJg8YpYkSZIkVa7VJqbAs8BIoApYDLwFnAFcWyh/D+hF6uRoQ9IzTh8Azowxzm3hWCVJkiRJTdRqE9MY49nA2Q2U/x34estFJEmSJElaHda0e0wlSZIkSWsZE1NJkiRJUq5MTCVJkiRJuTIxlSRJkiTlysRUkiRJkpQrE1NJkiRJUq5MTCVJkiRJuTIxlSRJkiTlysRUkiRJkpQrE1NJkiRJUq5MTCVJkiRJuTIxlSRJkiTlysRUkiRJkpQrE1NJkiRJUq5MTCVJkiRJuTIxlSRJkiTlysRUkiRJkpQrE1NJkiRJUq5MTCVJkiRJuTIxlSRJkiTlysRUkiRJkpQrE1NJkiRJUq5MTCVJkiRJuTIxlSRJkiTlysRUkiRJkpQrE1NJkiRJUq5MTCVJkiRJuTIxlSRJkiTlysRUkiRJkpQrE1NJkiRJUq5MTCVJkiRJuTIxlSRJkiTlysRUkiRJkpQrE1NJkiRJUq5MTCVJkiRJuTIxlSRJkiTlysRUkiRJkpQrE1NJkiRJUq5MTCVJkiRJuTIxlSRJkiTlysRUkiRJkpQrE1NJkiRJUq5MTCVJkiRJuTIxlSRJkiTlysRUkiRJkpQrE1NJkiRJUq5MTCVJkiRJuWq1iWkI4VshhEkhhBkhhM9CCK+FEM4KIXTI1AkhhDNDCO+FED4NITweQtgxz7glSZIkSZVptYkp8DngMeB7wP7AaODnwKWZOqcDZwOXAN8A5gGPhBA2btlQJUmSJElNtU7eAdQnxvjbkkGPhRC6ASeGEE4COpIS04tjjFcDhBCeBmqBHwBntWC4kiRJkqQmas0tpuXMAIqX8g4AugG3FwtjjP8GxpNaWCVJkiRJa4BWn5iGENqHEDqHEHYHTgauiTFGYFtgCTClZJRXCmWSJEmSpDVAq72UN+PfpMt2AW4ETi383x2YF2NcUlJ/FtA5hNAhxriwhWKUJEmSJDVRq28xJV2yOwj4CXAQcHWmLJapHxooI4RwXAihJoRQ869//atZA5UkSZIkVa7Vt5jGGJ8r/PtkCGE6MDaE8CtSy2jXEEL7klbTDYH5McZF9Uzvd8DvAKqrq8smr5IkSZKklrMmtJhmFZPUzYFXgfbAliV1ti2USZIkSZLWAGtaYjqw8PdtYBIwFzi0WBhC6Ex6nun9LR+aJEmSJKkpWu2lvCGEB4BHgJdIve8OJN1neluM8c1CnVHA2SGEWaRW0h+Tku2rcglakiRJklSxVpuYAs8CI4EqYDHwFnAGcG2mzihSInoG8DmgBtg7xjitJQOVJEmSJDVdSI8EbZuqq6tjTU1N3mFIkiRJqyaElddR29CK87sQwuQYY3W5sjXtHlNJkiRJ0lrGxFSSJEmSlCsTU0mSJElSrkxMJUmSJEm5MjGVJEmSJOXKxFSSJEmSlCsTU0mSJElSrkxMJUmSJEm5MjGVJEmSJOXKxFSSJEmSlCsTU0mSJElSrkxMJUmSJEm5MjGVJEmSJOXKxFSSJEmSlCsTU0mSJElSrkxMJUmSJEm5MjGVJEmSJOXKxFSSJEmSlCsTU0mSJElSrkxMJUmSJEm5MjGVJEmSJOXKxFSSJEmSlCsTU0mSJElSrkxMJUmS1GrdcccdHHjggfTt25cuXbqwyy67cOutt65Q75133uHwww+nR48edO7cmf79+/PAAw/kELGkplgn7wAkSZKk+lx66aVsvvnmXHbZZfTs2ZP77ruPESNGMH36dE466SQA3nvvPXbbbTf69+/PDTfcwPrrr88LL7zAp59+mnP0khorxBjzjiE31dXVsaamJu8wJEmSVI/p06fTs2fPOsNGjBjB008/zdtvvw3AYYcdxvvvv8/EiRNp166NXhAYQt4RqLVoxfldCGFyjLG6XFkb3XIlSZK0JihNSgF22mknPv74YwDmzJnDXXfdxQknnNB2k1JpLeDWK0mSpDXKpEmT+OIXvwjAc889x6JFiwghMHDgQNZdd1023XRTLr74YtrylYHSmsbEVJIkSWuMRx99lHHjxnHiiScC8NFHHwHw/e9/n0GDBvHQQw9xzDHHcNZZZ3HNNdfkGaqkCtj5kSRJktYItbW1jBgxgoMOOoiRI0cCsHTpUgD2339/Ro0aBcCQIUOYOnUqF198MSeccEJe4UqqgC2mkiRJavVmzpzJ/vvvT79+/bjpppuWDe/RoweQktGsoUOHMnXqVObOnduicUpqGhNTSZIktWrz589n2LBhLFy4kHvvvZf1119/Wdl2221Xdpzi/aV2iCStGdxSJUmS1GotXryYQw89lClTpnD//ffTq1evOuVVVVVsv/32PProo3WGP/roo2yxxRZ06dKlJcOV1ETeYypJkqRW64QTTuC+++7jiiuuYObMmTzzzDPLynbaaSc6duzIBRdcwCGHHMKpp57KPvvsw4QJE/jDH/7AjTfemGPkkioR2nI32tXV1bGmpibvMCRJklSPqqoq3nnnnbJlb7/9NlVVVQDcdNNN/PKXv+TNN9+kX79+/PSnP+X4449vwUhzFkLeEai1aMX5XQhhcoyxumyZiamJqSRJktZwJqYqasX5XUOJqfeYSpIkSZJyZWIqSZIkScqViakkSZIkKVcmppIkSZKkXJmYSpIkSZJy5XNMJUmS1lBDT3g37xDUSvw17wCkVWSLqSRJkiQpVyamkiRJkqRcmZhKkiRJknJlYipJkiRJypWJqSRJkiQpV602MQ0hHBpCuDuE8H4IYV4IYXII4fCSOhNCCLHMa7284pYkSZIkVaY1Py7mx8DbwI+A6cABwC0hhJ4xxqsy9R4DziwZd0HLhChJkiRJWlWtOTH9Roxxeub9X0MIm5AS1mxiOjPG+EzLhiZJkiRJai6t9lLekqS06HmgV0vHIkmSJElafVptYlqPAcDLJcP2CSHML7weDCF8OY/AJEmSJElNs8YkpiGErwMHAb/ODJ4I/BDYFzgO6Ac8EUKoaun4JEmSJElN05rvMV2mkGjeAoyLMY4pDo8xnpOp9kQI4RHgVeCUwqvctI4jJbH069dv9QQsSZIkSWq0JrWYhhDWCyH0ae5g6plXD+B+4F3gyIbqxhg/Ap4Cdm6gzu9ijNUxxuqNNtqoWWOVJEmSJFWuosQ0hLBbCGESMA94rzDsyhDC6BDCl5o7uBBCZ+AeoAPw/2KM/27kqLG5Y5EkSZIkrR6NTkxDCDsDfwV2LYwXCkVLgO8AI5szsBDCOsAdwFbA/jHGjxsxTm9gIDC5OWORJEmSJK0+lbSYng90JN3DmTWGlKTu1UwxFf0GOAC4AOgRQvha5tUxhPDlEMK9IYSRIYQhIYTvkDpDWgpc3syxSJIkSZJWk0o6PxpIukT2AODtzPBXCn+buyehfQp/ryhTtjkwg5QQXwx8DvgEmAAcHGN8t5ljkSRJkiStJpUkpusV/n5YMrxnSXmziDFWNaLaAc05T0mSJElSy6vkUt5iK+m3iwNCCBsAlxbevtVcQUmSJEmS2o5KEtM/ki6dHcvyXm+nA4cW3v+xeUOTJEmSJLUFlSSmo0j3cIbMq33h7+PAfzd3cJIkSZKktV+j7zGNMS4MIewNjAD2AzYitZg+ANwSY1y8ekKUJEmSJK3NKun8iBjjEuAPhZckSZIkSauswcQ0hHB0JROLMd64auFIkiRJktqalbWYjmF5R0crEwETU0mSJElSRRpzKW9Y7VFIkiRJktqslSWmQzL/bwBcC3wMXA58AGwCnFL4+/3VEaAkSZIkae3WYGIaY5xY/D+EMAboDXw1xjg1M/xR4B3gm8CfV0+YkiRJkqS1VSXPMf2Pwt9OJcM7F/4euOrhSJIkSZLamkoeF7MA6AI8FEK4Dngf6At8L1MuSZIkSVJFKklMRwOnAf2A8zPDi50jXd9cQUmSJEmS2o5KEtMzgYWkzo66ZIbPAy4DzmvGuCRJkiRJbUSjE9MY41LgFyGEXwFfBvoAHwJ/jzHOWU3xSZIkSZLWcpW0mAJQSEKfWA2xSJIkSZLaoIoS0xDCfsDxwNbAeiXFMca4RXMFJkmSJElqGxqdmIYQDgFuL77NFMXC+9iMcUmSJEmS2ohKnmP6I1ICOrXwPgKTC/9PBSY2Y1ySJEmSpDaiksR0B1IyundxQIzxK8DRQE/g4uYNTZIkSZLUFlSSmBbvKX0DWAIQQugI/KlQ9r/NG5okSZIkqS2opPOjmUAvYH1gBrAR8Avg34XyLZs3NEmSJElSW1BJYvoGKTHdDJgEHAycXiiLwMvNG5okSZIkqS2o5FLe0aReeXsCPwfeJ3WGFIA5wCnNHp3WenfccQcHHnggffv2pUuXLuyyyy7ceuutdercdtttfPOb36RPnz6EEBgzZkw+wUqSJElaLRqdmMYYb4gxHh5jnBBjfAXYHtgPOBDYMsb41OoKUmuvSy+9lC5dunDZZZdx9913M2TIEEaMGMFVV121rM6dd95JbW0tw4YNyzFSSZIkSatLJZfy1hFjnAs81IyxqA0aP348PXv2XPZ+6NChfPDBB1x66aWcdNJJQGoxbdeuHfPmzeO6667LK1RJkiRJq0mDiWkI4a8VTCvGGL++ivGojckmpUU77bQT48aNW/a+XbtKrjiXJEmStKZZWYvpYFLHRkWh5P3KhksVmzRpEl/84hfzDkOSJElSC1lZYvoudRPOzwFdgIWkx8f0ADoA84GPV0eAalseffRRxo0bx+jRo/MORZIkSVILafAayRhjVYxx8xjj5sARpJbRXwIbxBg3ATYALi4M/8/VHazWbrW1tYwYMYKDDjqIkSNH5h2OJEmSpBZSyc17VwCdgUtijAsACn9HAZ2AXzV/eGorZs6cyf7770+/fv246aab8g5HkiRJUguqJDH9UuHvt0uGF99vv+rhqC2aP38+w4YNY+HChdx7772sv/76eYckSZIkqQVV8riYN4AvAr8PIZwBvA/0Bb5Aug91SvOHp7Xd4sWLOfTQQ5kyZQpPPfUUvXr1yjskSZIkSS2sksT0J8DdpM6OtiAlpKFQtrBQLlXkhBNO4L777uOKK65g5syZPPPMM8vKdtppJzp27MjLL7/Myy+/zGeffQZATU0NXbp0YaONNmLPPffMK3RJkiRJzSTE2PinvIQQtgXOAnYD+gAfAk8Bv4wxvrZaIlyNqqurY01NTd5htGlVVVW88847ZcvefvttqqqqOPfccznvvPNWKN9zzz2ZMGHCao5QkqTWa+gJ7+YdglqJv16zWd4hqLWoIL9raSGEyTHG6rJllSSmaxsTU0mStCYzMVWRiamWacX5XUOJXF/5uQAAGn1JREFUaYOX8oYQ+gHEGN8t/t+QGP9/e/cevVtd1wn8/QECAeUWp1ERgiQDYwbT43gpE9K84HjJYIAuo3khNctLZeaooE6Tzcq0sUwwJ2gMKUkySnAZBDqCKynUUlHTjlqCgh7AI1flO3/s/es8PP6u5/x+5/u7vF5rPevZ+/vdz34+h7X47f1+9nd/d/PXEQAAgCVZ6B7TLUnuGrfbkmGSo7m0RewPAAAA7mYxQbLmWAYAAICdtlAwfW22XyWdXAYAAIBlMW8wba2dMdsyAAAALJdF3xNaVZ9P0lpr95+l74/HvmcsZ3EbnZn2mHHpWxacewwAANaspUxWdHjmHsr7M2OfYAoAAMCSLPS4mP2SHDDVdmjuPgnSMeP7XctbGgAAABvBQldMX5Lk1ePyzNXSLbNs15L82zLVBAAAwAaylMfFtKn1aX+w8+UAAACw0SwUTC+bWD49Qzh9zURbS7I1yUdaax9e3tIAAADYCBZ6XMzlSS5Pkqo6fmhqr5nvM8ulqk5K8rNJHpJk/ySfTvLbrbV3Tm333CQvS3Jokk8keVlr7ZJdUSMAAAA7b7fFbthaO661dvxKFjPlpUm2ZbjP9SlJ/jbJuVX1izMbVNUpSd6a5I+TPDFDMP2rqjrmO3cHAADAarSU55juluQ5SU7McHVyr6lNZn3G6U54cmvthon1S6vqvhkC65vHttckOae19rqxxsuT/FCSl2d4hA0AAACr3FKeY/qbSX5lXJ5tAqS5nnG6Q6ZC6Yyrkzw1Sarq+5I8IMmLJj5zV1W9a7INAACA1W0pwfRnMwTS25J8fHxf1jC6CI9M8slx+ajx/ZqpbT6V5KCq2tRau36XVQYAAMAOWUow3SdDEH1Ya+0fV6ieOVXVYzJcLX3W2HTg+H7j1KZbJ/oFUwAAgFVu0ZMfJfnL8f2WlShkPlV1eJJzk7yntXb2VPf0Vdvp565O7+u0qrqqqq66/nq5FQAAoLelXDH9iyRPTnJRVb0hyWeTfGtyg9baB5axtiRJVR2U5KIkX8zdJzSauTJ6QJKbJtoPGN+nr6TO1HhWkrOSZPPmzbt6KDIAAABTlhJMz89wFXK/JG+Zpb8tcX8Lqqp9kvxVkj2TPKm19s2J7pl7S49K8oWJ9qOSfN39pQAAAGvDUobyJsMw2fley6aq9kjyriTfn+SJrbWvTva31j6f5DNJTpr4zG7j+kXLWQsAAAArZylXOH9uxaqY3VuSnJDh0S8HVdXDJ/qubq3dnuSMJO+oqi1JPpTkGRmC7E/t2lIBAADYUYsOpq21c1aykFk8bnz/3Vn6jkiypbX2zqq6Z5JfS/KqJJ9I8l9aa/+0i2oEAABgJy35ntCqOjDDVcl7TPct5+RHrbXDF7nd25K8bbm+FwAAgF1r0cF0nIjo7Rnu4ZztftJln/wIAACA9W8pQfL0JCevVCEAAABsTEuZlffpGa6KzgybbUl+McNjW/45yXOWtzQAAAA2gqUE00PH95fPNLTWfj/JTyQ5MsN9pwAAALAkSwmmd47vNye5PUmq6r5JZp4v+uxlrAsAAIANYinB9Prx/aAkW8bli5K8f1w28REAAABLtpRg+tEMs/Eem+SCcfmYJD809r93eUsDAABgI1jKVc6XJzkzyWeSfCDJPZOcmGTPJH+d5EXLXh0AAADr3qKDaWvtMxlC6YxfGl8AAACwwxYdTKvqsIW2aa19cefKAQAAYKNZylDeLRmeXTqXtsT9AQAAwJKDZK1IFQAAAGxYSwmmr5la3z3J4UmelmF23zcuU00AAABsIEuZ/Gg6mCZJquqYJB9LctdyFQUAAMDGsZTnmM7lmiS3JHn2MuwLAACADWYps/K+epbmeyQ5Psm+Sb61XEUBAACwcSzlHtMzMv+svJfsXCkAAABsRMsxK++dSS5I8sKdLwcAAICNZinB9IhZ2m5P8pXW2nxXUgEAAGBOiwqmVXV0khclOS7J/TLcT/qvSS5O8gdJPjexbQmqAAAALNaCs/JW1TOTXJ3kuUm+P8k+SfZLcnSSlyT5WFWdMm67d5K/WKliAQAAWH/mvWJaVQ9J8rYMAXbm/tKt4/uB4/s+Sc6uqq8neV2SzStQJwAAAOvUQldMfznJ7hnC6POT7Nda++7W2ndnuGr6/CRfS7JnkouSPDTJlhWrFgAAgHVnoXtMfzTDI2J+urX2vsmO1tq2JGdW1ZYMobSSfDzJE1agTgAAANaphYLppvH90nm2mem7K8mjWmvf2OmqAAAA2DAWGso7EzKPnGeb+4/vW4VSAAAAlmqhYHpVhiG651TVA6Y7q+qIJG/PMNz3quUvDwAAgPVuoaG8ZyZ5XJKHJPlUVf1DhsmNWpLDMszAOzNb71krVCMAAADr2LzBtLV2QVWdmeTnx6YHj68ZM6H07a21C1agPgAAANa5hYbyprX2/CTPTvLpDEF08vXPSX6+tfbclSwSAACA9WuhobxJktbaHyX5o6q6T5JDM4TSL7XWvrySxQEAALD+LSqYzmitXZvk2hWqBQAAgA1owaG8AAAAsJIEUwAAALoSTAEAAOhKMAUAAKArwRQAAICuBFMAAAC6EkwBAADoSjAFAACgK8EUAACArgRTAAAAuhJMAQAA6EowBQAAoCvBFAAAgK4EUwAAALoSTAEAAOhqVQfTqjqyqs6sqo9V1ber6rJZttlSVW3qdV2HcgEAANgBe/QuYAE/mOSEJB9Osuc8252b5M0T63esZFEAAAAsn9UeTC9srb0nSarq/CQHz7Hdta21D++6sgAAAFguq3oob2vtrt41AAAAsLJWdTBdgmdV1R1VdVNVnV9V39u7IAAAABZntQ/lXYz3ZLgH9V+THJ3k9CQfrKr/2Fq7qWtlAAAALGjNB9PW2osmVj9YVVck+WiSn0vypuntq+q0JKclyWGHHbZLagQAAGBu62Uo779rrf1Tkk8nefAc/We11ja31jZv2rRp1xYHAADAd1h3wXRC610AAAAAC1t3wbSqjknyA0n+vnctAAAALGxV32NaVfskOWFcPSTJflV14rj+3iTHJ/mZJH+V5MtJjkryyiRfTHL2Li0WAACAHbKqg2mS70nyrqm2mfUjknxp3OZNSQ5I8rUkFyd5RWvt5l1VJAAAADtuVQfT1tqWJLXAZo/ZBaUAAACwQtbdPaYAAACsLYIpAAAAXQmmAAAAdCWYAgAA0JVgCgAAQFeCKQAAAF0JpgAAAHQlmAIAANCVYAoAAEBXgikAAABdCaYAAAB0JZgCAADQlWAKAABAV4IpAAAAXQmmAAAAdCWYAgAA0JVgCgAAQFeCKQAAAF0JpgAAAHQlmAIAANCVYAoAAEBXgikAAABdCaYAAAB0JZgCAADQlWAKAABAV4IpAAAAXQmmAAAAdCWYAgAA0JVgCgAAQFeCKQAAAF0JpgAAAHQlmAIAANCVYAoAAEBXgikAAABdCaYAAAB0JZgCAADQlWAKAABAV4IpAAAAXQmmAAAAdCWYAgAA0JVgCgAAQFeCKQAAAF0JpgAAAHQlmAIAANCVYAoAAEBXgikAAABdCaYAAAB0taqDaVUdWVVnVtXHqurbVXXZLNtUVb2iqr5UVbdW1Qeq6kEdygUAAGAHrOpgmuQHk5yQ5DPjazYvT/KqJL+V5MlJtiX5m6q69y6pEAAAgJ2y2oPpha21Q1trJyX5xHRnVd0jQzD9zdba77XW/ibJSUlakhfu2lIBAADYEas6mLbW7lpgk0cm2S/Jn0185ptJLkzyxBUsDQAAgGWyqoPpIhyV5NtJPjvV/qmxDwAAgFVurQfTA5Nsa619e6p9a5J9qmrPDjUBAACwBGs9mCbD/aTTaq6+qjqtqq6qqquuv/76la0MAACABa31YLo1yb2qavep9gOS3NJau3P6A621s1prm1trmzdt2rRLigQAAGBuaz2YXpNk9yRHTrUfNfYBAACwyq31YHpFkpszPCImSVJV+2R4nulFvYoCAABg8fboXcB8xpB5wrh6SJL9qurEcf29rbVbqur1SV5VVVszXCV9aYbA/eZdXjAAAABLtqqDaZLvSfKuqbaZ9SOSbEny+gxB9NeTfHeSq5L8eGvtK7uoRgAAAHbCqg6mrbUt2T7D7lzbtCS/Mb4AAABYY9b6PaYAAACscYIpAAAAXQmmAAAAdCWYAgAA0JVgCgAAQFeCKQAAAF0JpgAAAHQlmAIAANCVYAoAAEBXgikAAABdCaYAAAB0JZgCq9Jxxx2Xqpr1deWVV/YuDwCAZbRH7wIAZvOWt7wlN998893aXv3qV+fqq6/OQx/60E5VAQCwEgRTYFV64AMfeLf1O+64I1dddVVOPvnk7LGHP10AAOuJobzAmnDxxRdn69atOfXUU3uXAgDAMhNMgTXhvPPOyyGHHJJHPepRvUsBAGCZCabAqnfLLbfkwgsvzMknn5yq6l0OAADLTDAFVr0LL7ww27ZtM4wXAGCdEkyBVe+8887LkUcemc2bN/cuBQCAFSCYAqvaTTfdlIsuusjVUgCAdUwwBVa1Cy64ILfffrtgCgCwjgmmwKp23nnn5dhjj83RRx/duxQAAFaIYAqsWjfccEMuueSSnHLKKb1LAQBgBe3RuwCAuRx88MG58847e5cBAMAKc8UUAACArgRTAAAAuhJMAQAA6EowBQAAoCvBFAAAgK7MygtrQVXvClgNWutdAQDAinDFFAAAgK4EUwAAALoSTAEAAOhKMAUAAKArwRQAAICuBFMAAAC6EkwBAADoSjAFAACgK8EUAACArgRTAAAAuhJMAQAA6EowBQAAoCvBFAAAgK4EUwAAALoSTAEAAOhKMAUAAKArwRQAAICu1nwwrapnVlWb5fW83rUBAACwsD16F7CMfizJrRPrn+9VCAAAAIu3noLpR1pr23oXAQAAwNKs+aG8AAAArG3rKZh+rqq+VVWfrqqf710MAAAAi7MehvJem+RVSf4uye5JTk3y1qrap7X2xq6VAQAAsKA1H0xba+9L8r6Jpouqaq8kr6yq322t3TW5fVWdluS0JDnssMN2XaEAAADMaj0N5Z10fpKDkhw+3dFaO6u1trm1tnnTpk27vDAAAADubr0G0xmtdwEAAADMb70G059MckOSL/QuBAAAgPmt+XtMq+rPM0x89PEMkx+dPL5+afr+UgAAAFafNR9Mk3w6ybOSHJqkknwyyX9rrf3frlUBAACwKGs+mLbWXpHkFb3rAAAAYMes13tMAQAAWCMEUwAAALoSTAEAAOhKMAUAAKArwRQAAICuBFMAAAC6EkwBAADoSjAFAACgK8EUAACArgRTAAAAuhJMAQAA6EowBQAAoCvBFAAAgK4EUwAAALoSTAEAAOhKMAUAAKArwRQAAICuBFMAAAC6EkwBAADoSjAFAACgK8EUAACArgRTAAAAuhJMAQAA6EowBQAAoCvBFAAAgK4EUwAAALoSTAEAAOhKMAUAAKArwRQAAICuBFMAAAC6EkwBAADoSjAFAACgK8EUAACArgRTAAAAuhJMAQAA6EowBQAAoCvBFAAAgK4EUwAAALoSTAEAAOhKMAUAAKArwRQAAICuBFMAAAC6EkwBAADoSjAFAACgK8EUAACArgRTAAAAuhJMAQAA6GpdBNOqemBVXVJVt1TVl6vqtVW1e++6AAAAWNgevQvYWVV1YJK/SfLJJE9Ncv8kb8gQul/ZsTQAAAAWYc0H0yTPS7J3kqe31m5O8v6q2i/JGVX1v8Y2AAAAVqn1MJT3iUneNxVAz8sQVh/dpyQAAAAWaz0E06OSXDPZ0Fr7YpJbxj4AAABWsfUQTA9McuMs7VvHPgAAAFax9XCPaZK0WdpqtvaqOi3JaePqtqr69EoWBsuhkoOT3NC7Djqr6l0BAKuUcwX+3eo+X/jeuTrWQzDdmuSAWdr3zyxXUltrZyU5a6WLguVUVVe11jb3rgMAWJ2cK7DWrYehvNdk6l7Sqjo0yb6ZuvcUAACA1Wc9BNOLkjy+qu410XZykluTXN6nJAAAABZrPQTTtya5Pcm7q+qx4z2kZyT5Hc8wZR0x/BwAmI9zBda0am22eYPWlqp6YJLfS/KIDPeV/mGSM1pr3+5aGAAAAAtaF8EUAACAtWs9DOWFHVZVZ1dVm3rdXFVXVNWpO7jPLeN+LlvmcldUVb24qs6oqmf2rgUAepo6PzhuF33n4RPfecau+M7lUFUHjOcPZ+yq/1asT+vhcTGw3O6VYVj4I6rqrtban/YuaBd5cYZnS12e5Oy+pQAAa8QBSU6fWL+sUx2sca6YwnbHJ7lHkl+faDutUy0AwCpXVXsv0H+PXVULrHWCKUxord2e5Pcnmg6dWaiqvarq1VX1qaq6rapurKq/rqqHLGbfVfX4qrpk/NxtVfWPVfULVVVj/8kTQ3iOn/rem8f2c8a2Z1XVB6vquqq6Y+z/UFWdOPWdl42f21JVx1XVR6rq1vG7Hzduc3hVtQxXS5Pk0bMNJaqqn6qqK6tq27iPv6uqk5f0HxgA1qCpYbavq6rXV9V1Sb489k8ebx9fVR+rqjuTPGHsP6SqzqqqL43H7S9X1R9W1b0X8d27VdULq+rqqrplPA5fVlWPndjmD8bvv6Wq9p1o/+GJun9ubHtDVX20qr5WVXdW1fVV9Z6qetDU98587uyqekFVfX787kuq6vvGbZ6Z5F8mPnb69BDonT1/YuMwlBe+U00sfzVJqmqPDM/MPX6ib68kJyR5TFU9prX2oTl3WPXsJG+b2vcxGWaTPjrJC5P8ZZKbk+yX5KQkfztu94QMw4uT5B3j++OS/MjEvr4rySOTPLKqntRae+9UCd+T5H1J9pz47ndX1fdmEarqtUleNdX80CTnVdWhrbXfXsx+AGAd+IUkB47LN031bUryngznCEmGUJrkI0nuM7HdfZI8O8ljq2pza+2Geb7v7CQ/O9X26CQ/WlWntNb+LMP5wfOS7J3kSUn+bNxu5gfr25L8+bj800n+w8S+Dk7ylAw/TB/dWrt26rueluQZE+s/luTcJA+fp+YkO3/+xMbiiilMqKq9krxgoun88f3UbP+j+owMf/iPSPKpDH9g3zDPPu+Z5HcyhNJ3ZzgY3XPiMy8YDwS3jv1J8hNVNfP/58xB5dokl47LZyU5NsN9Hd+V5KgkXxr7njdLGXsneXuSg5K8bmzbN8kTW2tbWmuV5Atj++WttRpfZ1TVEUleMfb9/riPA5O8c2x7bVXNHKABYL3bP8kzM/xo/MNTffskeW+GY/29k1yR5LXj+g0ZwtxeSR6V5PYMo5V+Za4vqqpHZXso/e/jd94nw32cleSNVbXbGO5mrlxOjp56+vj+l621m8flFyY5MsN5wN5JHj/x75pt4sf9M5z7HJTk/WPbw6rqfq21szOcD814zcQ5xGXZifMnNh7BFLb72wy/KP5mkm8leWOS/z32PXFiu3OS3JrhAHD02Pafq2qfOfb7yAxXQZPhAHFtkm1JfnlsqyTHjct/Mr7fO8mPVNWeSZ48tr1z4tm81yU5I8lnxpqvyfZhxw+YpYZvJfm11trWbA+UmfjMfH48ye7j8i8k+XqSrdl+8No7i/jVFADWiYtba+e01ra11j4x1deSPK+1dl1r7Sutta9m+znEwUk+nCGQfjDbr6oen7lNnn/8RpJvZDiPOG5su2+SHxiXzx3fT6iqvavqYUkOG9tmRlxl/P7/k2EY8i0ZRlTNmO0c4u9aa388nkNcMNG+mHOInTl/YoMxlBdmVxmuas7YtIjtD8zwB37aQp9Nhl8hk+GK6JczHGhOyhBo9x/73pEkVbV/hoPI/ebY12wTLXyltfaNcfm2ifa9Ztl22lLqB4D17h/n6fvqGEYnLXQcne8YupRj8DsyXFXdN8NQ2UeM7V9LcnGSjGH13Zk7A8x2DvHZieXlPoeY7/yJDcYVU9ju+Ax/QP8iwxXC5yZ5ydg3c+/HXUkOmhimUuMw2N1aa/82x34n7xt58Ryf/Y0kaa3dleS8cdunZwinSfLJ1trV4/LDsz2Uvj7JvuN+/n6ef9u3JpbbHNvM1T5Z/9PmqP9P5vgsAKw3ty2xb+Y4+tHpY+h4HJ3tKuX0Z5PkQXMcgz+UJK21a5L8w7jtiUl+clz+09banePy07I9lD45w9wTM/NYzGWhc4i5zh8m69+R8yc2GMEUJoyTDzwnw1CZJHnleIXy4nF9tyRvHWfX26uqjq2qySG/s7liYn+/Os6Qt1dV3beqnpPkk1Pbzwy3uW+Sn5pqS7ZPYJQk30zSquqnkzx4kf/MuWwd3w8b/80z3p/hgJIk/6Oq/lNV7TnOUPiSDM89BQBmN3MO8aCqellV7V9V96yq46vq/CQ/s4jPJsmbqurI8Rj8A+PM+e+a2n7mfOHEJIdPtSV3P4f4RoYrpP9zCf+W2Xx9YvmoqvquifWdOX9igxFMYUpr7WtJ3jyuHpDkpRnu2/jA2PZfk/xrhl9FP5rkxZnn18ZxCO2vjquHJPl/42f/LcNMvUdNbX91tofVPTL8EnnuxCZXJLlxXH5dhuEvb884Zf1O+Mj4fkSSG8ep3h/bWvt8kt8a+45J8rEM96f8S4ZJnQ77jj0BADNOT/KVcfm3MhzDv5Hh9p2fzPZ5HL5Da+3ybJ8b4rgMw2pvzzC3xOkZ7lud9M4k3872q6Kfa61dOdH/1xPLl2V4GsAJS/nHzFLjNzLMeZEkJye5YzyH2CM7cf7ExiOYwuzekO1XOV+c4X7Tx2c4CHwqw0Hhpgz3mbwpQ0CbU2vtzAwTAFwyfm4m2L07w7Tt0yaHxn6wtTYzY+5McH5KhuE6tyX5RJKnJvnnpfwDZ3F6hkfW3Djd0Vp7RYZfdK/IMHHTreP3vSN3n8UYAJjQWvtiks0Zfoz+UpI7MzyO7soM94RePPenkwzH319KcnWG4/62DMH0rPHzk991XbbP4J/c/XwirbVLkzw/yZYMx/JLs31W3p3xjAw/cN869X13ZifOn9hYqrX5hoUDAADAynLFFAAAgK4EUwAAALoSTAEAAOhKMAUAAKArwRQAAICuBFMAAAC6EkwBAADoSjAFAACgK8EUAACArv4/3d9qlU1JRbQAAAAASUVORK5CYII=\n",
      "text/plain": [
       "<Figure size 864x504 with 1 Axes>"
      ]
     },
     "metadata": {
      "needs_background": "light"
     },
     "output_type": "display_data"
    }
   ],
   "source": [
    "gabarito2 = novodf2.Classificado.value_counts()\n",
    "teste = novodf2['Navy Bayes'].value_counts()\n",
    "\n",
    "\n",
    "fig = plt.figure(figsize=(12,7))\n",
    "\n",
    "ax = fig.add_axes([0,0,1,1])\n",
    "\n",
    "relevante_gabarito2 = [gabarito2[1], gabarito2[0]]\n",
    "relevante_algoritmo2 = [teste[1], teste[0]]\n",
    "\n",
    "\n",
    "label = ['Relevante', 'Irrelevante']\n",
    "x = np.arange(len(label))\n",
    "largura = 0.25\n",
    "\n",
    "rects12 = ax.bar(x - largura/2, relevante_gabarito2, largura, label=\"Gabarito\", color='royalblue')\n",
    "rects22 = ax.bar(x + largura/2, relevante_algoritmo2, largura, label=\"Modelo\", color='red')\n",
    "\n",
    "ax.set_title('Grafico comparativo dos resultados Obtidos no Teste', fontsize=20, pad=20, fontweight='bold')\n",
    "ax.set_ylabel('Quantidade', fontsize=15, labelpad=15, fontweight='bold')\n",
    "ax.set_xticks(x)\n",
    "ax.set_xticklabels(label, fontsize=20, fontweight='bold')\n",
    "ax.tick_params(labelsize=15)\n",
    "ax.legend(fontsize=20)\n",
    "\n",
    "def autolabel(rects):\n",
    "    \n",
    "    for rect in rects:\n",
    "        height = rect.get_height()\n",
    "        ax.annotate('{}'.format(height),\n",
    "                    xy=(rect.get_x() + rect.get_width() / 2, height),\n",
    "                    xytext=(0, 3),  # 3 points vertical offset\n",
    "                    textcoords=\"offset points\",\n",
    "                    ha='center', va='bottom', fontsize=15)\n",
    "\n",
    "autolabel(rects12)\n",
    "autolabel(rects22)\n",
    "\n",
    "plt.show()"
   ]
  },
  {
   "cell_type": "code",
   "execution_count": null,
   "metadata": {},
   "outputs": [],
   "source": []
  }
 ],
 "metadata": {
  "kernelspec": {
   "display_name": "Python 3",
   "language": "python",
   "name": "python3"
  },
  "language_info": {
   "codemirror_mode": {
    "name": "ipython",
    "version": 3
   },
   "file_extension": ".py",
   "mimetype": "text/x-python",
   "name": "python",
   "nbconvert_exporter": "python",
   "pygments_lexer": "ipython3",
   "version": "3.7.6"
  }
 },
 "nbformat": 4,
 "nbformat_minor": 4
}
