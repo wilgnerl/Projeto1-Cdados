{
 "cells": [
  {
   "cell_type": "markdown",
   "metadata": {},
   "source": [
    "# Projeto 1 - Classificador Naive-Bayes com Tweets\n"
   ]
  },
  {
   "cell_type": "markdown",
   "metadata": {},
   "source": [
    "## Objetivo\n",
    "\n",
    "* Você foi contratado por uma empresa parar analisar como os clientes estão reagindo a um determinado produto no Twitter. A empresa deseja que você crie um programa selecionealgumas mensagens disponíveis no Twitter que mencionam esse produto e classifique-as como\"relevante\" ou \"irrelevante\".\n",
    "\n",
    "* Com isso, essa empresa deseja que mensagens relevantes, que denigrem o nome do produto, ou que mereçam destaque, disparem um foco de atenção da área de marketing.\n",
    "\n",
    "* Como aluno de Ciência dos Dados, você lembrou do Teorema de Bayes, mais especificamentedo Classificador Naive-Bayes, que é largamente utilizado em filtros anti-spam de e-mails, porexemplo. Esse classificador permite calcular qual a probabilidade de uma mensagem ser relevante dada as palavras em seu conteúdo.\n",
    "\n",
    "* Para realizar o MVP (minimum viable product) do projeto, você precisa implementar umaversão do classificador que \"aprende\" o que é relevante com uma base de treinamento e compara a performance dos resultados com uma base de testes.\n",
    "\n",
    "* Após validado, o seu protótipo poderá também capturar e classificar automaticamente as mensagens da plataforma."
   ]
  },
  {
   "cell_type": "markdown",
   "metadata": {},
   "source": [
    "## Integrantes do Projeto\n",
    "\n",
    "**Nome:** Wilgner Lopes Araujo\n",
    "\n",
    "**Nome:** Fabricio Neri Lima"
   ]
  },
  {
   "cell_type": "markdown",
   "metadata": {},
   "source": [
    "## Informações relevantes\n",
    "\n",
    "* Esse arquivo representa a ultima etapa do projeto onde haverá todas as etapas de cleaning da base de dados e implantação do algoritmo de classificação\n",
    "\n",
    "* O arquivo que pesquisa os tweets esta na pasta Arquivo Jupyter/Projeto1_Obtenção_dos_tweets nessa mesma raiz do repositório\n",
    "\n",
    "* A base de dados se encontra na pasta dados/Valorant.xlsx\n",
    "\n",
    "* A conta utiliza no twitter para obtenção de dados é @AnalyticsInsper\n",
    "\n",
    "* O produto escolhido para o projeto é o jogo : **Valorant**\n",
    "\n",
    "* Os criterios para a classificação dos tweets na primeira etapa do projeto foram: Os tweets que falavam de alguma forma positiva ou negativa sobre o jogo ou até mesmo que relacionavam o jogo a alguma emoção, foram classificados como relevantes. Os demais foram classificados como Irrelevantes.\n"
   ]
  },
  {
   "cell_type": "markdown",
   "metadata": {},
   "source": [
    "# Começando"
   ]
  },
  {
   "cell_type": "markdown",
   "metadata": {},
   "source": [
    "## Declarando as bibliotecas"
   ]
  },
  {
   "cell_type": "code",
   "execution_count": 1,
   "metadata": {},
   "outputs": [],
   "source": [
    "#importando cada uma das bibliotecas que serão usadas\n",
    "import math\n",
    "import numpy as np\n",
    "import pandas as pd\n",
    "import re\n",
    "import functools\n",
    "import operator\n",
    "import emoji"
   ]
  },
  {
   "cell_type": "markdown",
   "metadata": {},
   "source": [
    "## Abrindo a base de dados e visualizando os primeiros 5 termos"
   ]
  },
  {
   "cell_type": "code",
   "execution_count": 2,
   "metadata": {},
   "outputs": [
    {
     "data": {
      "text/html": [
       "<div>\n",
       "<style scoped>\n",
       "    .dataframe tbody tr th:only-of-type {\n",
       "        vertical-align: middle;\n",
       "    }\n",
       "\n",
       "    .dataframe tbody tr th {\n",
       "        vertical-align: top;\n",
       "    }\n",
       "\n",
       "    .dataframe thead th {\n",
       "        text-align: right;\n",
       "    }\n",
       "</style>\n",
       "<table border=\"1\" class=\"dataframe\">\n",
       "  <thead>\n",
       "    <tr style=\"text-align: right;\">\n",
       "      <th></th>\n",
       "      <th>Treinamento</th>\n",
       "      <th>Etiquetas</th>\n",
       "      <th>Classificado</th>\n",
       "    </tr>\n",
       "  </thead>\n",
       "  <tbody>\n",
       "    <tr>\n",
       "      <th>0</th>\n",
       "      <td>@caos__0 eu no valorant :v\\nfon</td>\n",
       "      <td>2</td>\n",
       "      <td>Irrelevante</td>\n",
       "    </tr>\n",
       "    <tr>\n",
       "      <th>1</th>\n",
       "      <td>o cara q pra mim é o melhor player de valorant...</td>\n",
       "      <td>2</td>\n",
       "      <td>Irrelevante</td>\n",
       "    </tr>\n",
       "    <tr>\n",
       "      <th>2</th>\n",
       "      <td>mano algm upa meu passe no valorant na humildade</td>\n",
       "      <td>2</td>\n",
       "      <td>Irrelevante</td>\n",
       "    </tr>\n",
       "    <tr>\n",
       "      <th>3</th>\n",
       "      <td>deletei o valorant, agora meu pc volta a ligar...</td>\n",
       "      <td>1</td>\n",
       "      <td>Relevante</td>\n",
       "    </tr>\n",
       "    <tr>\n",
       "      <th>4</th>\n",
       "      <td>quem tiver pc baixa valorant nessa porr que eu...</td>\n",
       "      <td>1</td>\n",
       "      <td>Relevante</td>\n",
       "    </tr>\n",
       "  </tbody>\n",
       "</table>\n",
       "</div>"
      ],
      "text/plain": [
       "                                         Treinamento  Etiquetas Classificado\n",
       "0                    @caos__0 eu no valorant :v\\nfon          2  Irrelevante\n",
       "1  o cara q pra mim é o melhor player de valorant...          2  Irrelevante\n",
       "2   mano algm upa meu passe no valorant na humildade          2  Irrelevante\n",
       "3  deletei o valorant, agora meu pc volta a ligar...          1    Relevante\n",
       "4  quem tiver pc baixa valorant nessa porr que eu...          1    Relevante"
      ]
     },
     "execution_count": 2,
     "metadata": {},
     "output_type": "execute_result"
    }
   ],
   "source": [
    "#abrindo o arquivo de treino\n",
    "dados = pd.read_excel('../dados/Valorant.xlsx')\n",
    "dados.head()"
   ]
  },
  {
   "cell_type": "markdown",
   "metadata": {},
   "source": [
    "## Informações do DataFrame"
   ]
  },
  {
   "cell_type": "code",
   "execution_count": 3,
   "metadata": {},
   "outputs": [
    {
     "name": "stdout",
     "output_type": "stream",
     "text": [
      "<class 'pandas.core.frame.DataFrame'>\n",
      "RangeIndex: 500 entries, 0 to 499\n",
      "Data columns (total 3 columns):\n",
      " #   Column        Non-Null Count  Dtype \n",
      "---  ------        --------------  ----- \n",
      " 0   Treinamento   500 non-null    object\n",
      " 1   Etiquetas     500 non-null    int64 \n",
      " 2   Classificado  500 non-null    object\n",
      "dtypes: int64(1), object(2)\n",
      "memory usage: 11.8+ KB\n"
     ]
    }
   ],
   "source": [
    "#lendo as informações da base de treino\n",
    "dados.info()"
   ]
  },
  {
   "cell_type": "markdown",
   "metadata": {},
   "source": [
    "## Classificando \n",
    "\n",
    "* A coluna Treinamento e Classificado são categoricas, pois ambas são variaveis qualitativas nominais"
   ]
  },
  {
   "cell_type": "code",
   "execution_count": 4,
   "metadata": {},
   "outputs": [],
   "source": [
    "#definindo como tipo como variáveis categóricas\n",
    "dados['Treinamento'] = dados['Treinamento'].astype('category')\n",
    "dados['Classificado'] = dados['Classificado'].astype('category')"
   ]
  },
  {
   "cell_type": "markdown",
   "metadata": {},
   "source": [
    "## Iniciando as coletas de probabilidades"
   ]
  },
  {
   "cell_type": "markdown",
   "metadata": {},
   "source": [
    "### Analisando frequencia de Relevante e Irrelevante na base de dados"
   ]
  },
  {
   "cell_type": "code",
   "execution_count": 5,
   "metadata": {},
   "outputs": [
    {
     "data": {
      "text/plain": [
       "Irrelevante    0.542\n",
       "Relevante      0.458\n",
       "Name: Classificado, dtype: float64"
      ]
     },
     "execution_count": 5,
     "metadata": {},
     "output_type": "execute_result"
    }
   ],
   "source": [
    "#identificando as probabilidades de Relevante P(R) e probabilidade de Irrelevante P(R_c)\n",
    "Probabilidade_total = dados.Classificado.value_counts(True)\n",
    "Probabilidade_total"
   ]
  },
  {
   "cell_type": "markdown",
   "metadata": {},
   "source": [
    "## Declarando as variaveis de probabilidade\n",
    "\n",
    "* Considere P(R) para probabilidade de ser Relevante\n",
    "* Considere P(R_c) para probabilidade de ser Irrelevante"
   ]
  },
  {
   "cell_type": "code",
   "execution_count": 6,
   "metadata": {},
   "outputs": [],
   "source": [
    "#Probabilidade de Irrelevantes\n",
    "P_R_c = Probabilidade_total[0]\n",
    "#Probabilidade de relevantes\n",
    "P_R = Probabilidade_total[1]"
   ]
  },
  {
   "cell_type": "markdown",
   "metadata": {},
   "source": [
    "## Antes de prosseguir vamos limpar o codigo\n",
    "\n",
    "* Será removido os seguintes simbolos: ! - . : ? ; _ , < > / \\ ) ( # % $ | \\n"
   ]
  },
  {
   "cell_type": "code",
   "execution_count": 7,
   "metadata": {},
   "outputs": [],
   "source": [
    "#Função utilizada para realizar a limpeza no Dataframe\n",
    "def limpa_texto(text):\n",
    "    \n",
    "    #import string\n",
    "    punctuation = '[!-.:?;_,<>/\\][)(#%$|\\n]' # Note que os sinais [] são delimitadores de um conjunto.\n",
    "    pattern = re.compile(punctuation)\n",
    "    text_subbed = re.sub(pattern, ' ', text)\n",
    "    return text_subbed"
   ]
  },
  {
   "cell_type": "markdown",
   "metadata": {},
   "source": [
    "## Alem disso vamos espaçar os emojis entre si\n",
    "\n",
    "* O codigo utilizado foi extraido e modificado do seguinte site: https://stackoverflow.com/questions/49921720/how-to-split-emoji-from-each-other-python\n",
    "\n",
    "* O codigo utiliza a biblioteca emoji, functools, operator para atingir o objetivo de separar os emojis"
   ]
  },
  {
   "cell_type": "code",
   "execution_count": 8,
   "metadata": {},
   "outputs": [],
   "source": [
    "def separa_emoji(text):\n",
    "    frase = text\n",
    "    frase_split_emoji = emoji.get_emoji_regexp().split(frase)\n",
    "    frase_split_com_espaço_em_branco = [substr.split() for substr in frase_split_emoji]\n",
    "    frase_split = functools.reduce(operator.concat, frase_split_com_espaço_em_branco)\n",
    "    frase_espacada = ' '.join(frase_split)\n",
    "    return frase_espacada"
   ]
  },
  {
   "cell_type": "markdown",
   "metadata": {},
   "source": [
    "## Aplicando a função de limpeza na base de dados"
   ]
  },
  {
   "cell_type": "code",
   "execution_count": 9,
   "metadata": {},
   "outputs": [],
   "source": [
    "#Aplicando as funções no dataframe\n",
    "dados['Treinamento'] = dados['Treinamento'].apply(limpa_texto)\n",
    "dados['Treinamento'] = dados['Treinamento'].apply(separa_emoji)"
   ]
  },
  {
   "cell_type": "code",
   "execution_count": 10,
   "metadata": {},
   "outputs": [
    {
     "data": {
      "text/html": [
       "<div>\n",
       "<style scoped>\n",
       "    .dataframe tbody tr th:only-of-type {\n",
       "        vertical-align: middle;\n",
       "    }\n",
       "\n",
       "    .dataframe tbody tr th {\n",
       "        vertical-align: top;\n",
       "    }\n",
       "\n",
       "    .dataframe thead th {\n",
       "        text-align: right;\n",
       "    }\n",
       "</style>\n",
       "<table border=\"1\" class=\"dataframe\">\n",
       "  <thead>\n",
       "    <tr style=\"text-align: right;\">\n",
       "      <th></th>\n",
       "      <th>Treinamento</th>\n",
       "      <th>Etiquetas</th>\n",
       "      <th>Classificado</th>\n",
       "    </tr>\n",
       "  </thead>\n",
       "  <tbody>\n",
       "    <tr>\n",
       "      <th>0</th>\n",
       "      <td>@caos 0 eu no valorant v fon</td>\n",
       "      <td>2</td>\n",
       "      <td>Irrelevante</td>\n",
       "    </tr>\n",
       "    <tr>\n",
       "      <th>1</th>\n",
       "      <td>o cara q pra mim é o melhor player de valorant do mundo joga osu</td>\n",
       "      <td>2</td>\n",
       "      <td>Irrelevante</td>\n",
       "    </tr>\n",
       "    <tr>\n",
       "      <th>2</th>\n",
       "      <td>mano algm upa meu passe no valorant na humildade</td>\n",
       "      <td>2</td>\n",
       "      <td>Irrelevante</td>\n",
       "    </tr>\n",
       "    <tr>\n",
       "      <th>3</th>\n",
       "      <td>deletei o valorant agora meu pc volta a ligar em 3 segundos</td>\n",
       "      <td>1</td>\n",
       "      <td>Relevante</td>\n",
       "    </tr>\n",
       "    <tr>\n",
       "      <th>4</th>\n",
       "      <td>quem tiver pc baixa valorant nessa porr que eu tô no ódio e vai ser o dia todo só isso</td>\n",
       "      <td>1</td>\n",
       "      <td>Relevante</td>\n",
       "    </tr>\n",
       "    <tr>\n",
       "      <th>5</th>\n",
       "      <td>voltei a jogar valorant so por causa do mata mata</td>\n",
       "      <td>1</td>\n",
       "      <td>Relevante</td>\n",
       "    </tr>\n",
       "    <tr>\n",
       "      <th>6</th>\n",
       "      <td>viciei em valorant esse é o tweet</td>\n",
       "      <td>1</td>\n",
       "      <td>Relevante</td>\n",
       "    </tr>\n",
       "    <tr>\n",
       "      <th>7</th>\n",
       "      <td>@zncabral free fire fez mais sucesso que o valorant só no brasil no resto do mundo quase ngm joga isso</td>\n",
       "      <td>1</td>\n",
       "      <td>Relevante</td>\n",
       "    </tr>\n",
       "    <tr>\n",
       "      <th>8</th>\n",
       "      <td>alguem me explica o motivo das 12 do valorant menos a shorty atirar tão bem de longe tipo comparando com cs e fortnite não faz sentido os cara vai de bucky atacando vai se fuder</td>\n",
       "      <td>1</td>\n",
       "      <td>Relevante</td>\n",
       "    </tr>\n",
       "    <tr>\n",
       "      <th>9</th>\n",
       "      <td>rt @leozjn o matchmaking do valorant n faz o minimo sentido</td>\n",
       "      <td>1</td>\n",
       "      <td>Relevante</td>\n",
       "    </tr>\n",
       "  </tbody>\n",
       "</table>\n",
       "</div>"
      ],
      "text/plain": [
       "                                                                                                                                                                         Treinamento  \\\n",
       "0                                                                                                                                                       @caos 0 eu no valorant v fon   \n",
       "1                                                                                                                   o cara q pra mim é o melhor player de valorant do mundo joga osu   \n",
       "2                                                                                                                                   mano algm upa meu passe no valorant na humildade   \n",
       "3                                                                                                                        deletei o valorant agora meu pc volta a ligar em 3 segundos   \n",
       "4                                                                                             quem tiver pc baixa valorant nessa porr que eu tô no ódio e vai ser o dia todo só isso   \n",
       "5                                                                                                                                  voltei a jogar valorant so por causa do mata mata   \n",
       "6                                                                                                                                                  viciei em valorant esse é o tweet   \n",
       "7                                                                             @zncabral free fire fez mais sucesso que o valorant só no brasil no resto do mundo quase ngm joga isso   \n",
       "8  alguem me explica o motivo das 12 do valorant menos a shorty atirar tão bem de longe tipo comparando com cs e fortnite não faz sentido os cara vai de bucky atacando vai se fuder   \n",
       "9                                                                                                                        rt @leozjn o matchmaking do valorant n faz o minimo sentido   \n",
       "\n",
       "   Etiquetas Classificado  \n",
       "0          2  Irrelevante  \n",
       "1          2  Irrelevante  \n",
       "2          2  Irrelevante  \n",
       "3          1    Relevante  \n",
       "4          1    Relevante  \n",
       "5          1    Relevante  \n",
       "6          1    Relevante  \n",
       "7          1    Relevante  \n",
       "8          1    Relevante  \n",
       "9          1    Relevante  "
      ]
     },
     "execution_count": 10,
     "metadata": {},
     "output_type": "execute_result"
    }
   ],
   "source": [
    "# Checando se funcionou e se os emojis ainda funcionam\n",
    "pd.set_option('max_colwidth', None)\n",
    "dados.head(10)"
   ]
  },
  {
   "cell_type": "markdown",
   "metadata": {},
   "source": [
    "## Preparação para fazer o smoothing"
   ]
  },
  {
   "cell_type": "markdown",
   "metadata": {},
   "source": [
    "* Primeiro passo: Verificar a contagem de cada palavra no grupo de DataFrame Relevante e Irrelevante"
   ]
  },
  {
   "cell_type": "code",
   "execution_count": 11,
   "metadata": {},
   "outputs": [],
   "source": [
    "# Separando o dataFrame em duas Strings com todas as palavras do grupo de Relevante e Irrelevante\n",
    "dados_relevantes = dados[dados.Classificado == 'Relevante']\n",
    "dados_irrelevantes = dados[dados.Classificado == 'Irrelevante']\n",
    "\n",
    "# Transformando colunas em listas de palavras\n",
    "palavras_relevantes = str(dados_relevantes.Treinamento.to_list()).lower().split()\n",
    "palavras_irrelevantes = str(dados_irrelevantes.Treinamento.to_list()).lower().split()\n",
    "\n",
    "# Contando aparição total das palavras\n",
    "contagem_relevantes = pd.Series(palavras_relevantes).value_counts()\n",
    "contagem_irrelevante = pd.Series(palavras_irrelevantes).value_counts()\n",
    "\n",
    "# Somando total de contagens\n",
    "N_relevante = contagem_relevantes.sum()\n",
    "N_irrelevante = contagem_irrelevante.sum()\n",
    "\n",
    "\n"
   ]
  },
  {
   "cell_type": "markdown",
   "metadata": {},
   "source": [
    "* Segundo passo: Aplicar o alfa nas contagem das palavras e o alfa x V no total de palavras "
   ]
  },
  {
   "cell_type": "code",
   "execution_count": 12,
   "metadata": {},
   "outputs": [],
   "source": [
    "#criando um alpha para realizar a técnica de smoothing\n",
    "alfa = 1\n",
    "#Criando um V para estimar o total de palavras da lingua \n",
    "V = 10e6\n",
    "\n",
    "# Contagem + alfa\n",
    "contagem_relevantes_com_alfa = contagem_relevantes + alfa\n",
    "contagem_irrelevantes_com_alfa = contagem_irrelevante + alfa\n",
    "\n",
    "# Total + alfaV\n",
    "N_relevante_com_alfaV = N_relevante+alfa*V\n",
    "N_irrelevante_com_alfaV = N_irrelevante+alfa*V\n"
   ]
  },
  {
   "cell_type": "markdown",
   "metadata": {},
   "source": [
    "* Calculando probabilidade de cada palavra dada que é relevante e irrelevante\n",
    "\n"
   ]
  },
  {
   "cell_type": "code",
   "execution_count": 13,
   "metadata": {},
   "outputs": [],
   "source": [
    "P_palavra_dado_relevante = contagem_relevantes_com_alfa/N_relevante_com_alfaV\n",
    "P_palavra_dado_irrelevante = contagem_irrelevantes_com_alfa/N_irrelevante_com_alfaV"
   ]
  },
  {
   "cell_type": "markdown",
   "metadata": {},
   "source": [
    "## O teorema de bayes requer as seguintes probabilidades"
   ]
  },
  {
   "cell_type": "markdown",
   "metadata": {},
   "source": [
    "$P(Relevante|tweet)$:\n",
    "\n",
    "$$P(Relevante|tweet) = \\frac{P(tweet|Relevante) \\cdot P(Relevante)}{P(tweet)}$$\n",
    "\n",
    "Ou seja, precisamos de: \n",
    "- $P(tweet|Relevante)$: probabilidade de encontrar o tweet dado que ele é relevante;\n",
    "- $P(tweet|Irrelevante)$: probabilidade de encontrar o tweet dado que ele é relevante;\n",
    "- $P(Relevante)$:  probabilidade do tweet ser relevante;\n",
    "- $P(Irrelevante)$: probabilidade do tweet ser irrelevante;\n",
    "- $P(tweet)$: probabilidade de um tweet ocorrer na lingua portuguesa.\n"
   ]
  },
  {
   "cell_type": "markdown",
   "metadata": {},
   "source": [
    "Para encontrar a probabilidade de $P(tweet|Relevante)$, temos que fazer:\n",
    "\n",
    "$P(tweet | Relevante) = P(Palavra_1 | Relevante) \\cdot P(Palavra_2 | Relevante) \\cdot P(Palavra_3 | Relevante) \\cdot ... P(Palavra_n | Relevante)$\n",
    "\n",
    "Contudo, como as probabilidades são muito pequenas, basta fazer a soma dos expoentes. Logo, basta aplicar logaritmo:\n",
    "\n",
    "$log(P(tweet | Relevante)) = \n",
    "log(P(Palavra_1 | Relevante)) + log(P(Palavra_2 | Relevante)) + ... log(P(Palavra_n | Relevante))$\n",
    "\n",
    "Dessa forma, aplicando o log, temos que: \n",
    "\n",
    "$log(P(Relevante|tweet)) = \\frac{log(P(palavra_1|Relevante)) + log(P(palavra_2|Relevante)) + log(P(palavra_3|Relevante)) + log(P(palavra_4|Relevante)) + log(P(Relevante))}{P(tweet)}$\n",
    "\n",
    "Como iremos realizar a comparação entre $P(Relevante|Tweet)$ e $P(Irrelevante|Tweet)$, não é necessário se preocupar com a divisão ou a subtração pelo $P(Tweet)$, se aplicarmos $log$, pois esse termo se cancelará."
   ]
  },
  {
   "cell_type": "markdown",
   "metadata": {},
   "source": [
    "## Calculando a coluna de probabilidade relevante"
   ]
  },
  {
   "cell_type": "code",
   "execution_count": 14,
   "metadata": {},
   "outputs": [
    {
     "data": {
      "text/html": [
       "<div>\n",
       "<style scoped>\n",
       "    .dataframe tbody tr th:only-of-type {\n",
       "        vertical-align: middle;\n",
       "    }\n",
       "\n",
       "    .dataframe tbody tr th {\n",
       "        vertical-align: top;\n",
       "    }\n",
       "\n",
       "    .dataframe thead th {\n",
       "        text-align: right;\n",
       "    }\n",
       "</style>\n",
       "<table border=\"1\" class=\"dataframe\">\n",
       "  <thead>\n",
       "    <tr style=\"text-align: right;\">\n",
       "      <th></th>\n",
       "      <th>Tweet</th>\n",
       "      <th>Probabilidade dado que é relevante</th>\n",
       "    </tr>\n",
       "  </thead>\n",
       "  <tbody>\n",
       "    <tr>\n",
       "      <th>0</th>\n",
       "      <td>@caos 0 eu no valorant v fon</td>\n",
       "      <td>-43.076253</td>\n",
       "    </tr>\n",
       "    <tr>\n",
       "      <th>1</th>\n",
       "      <td>o cara q pra mim é o melhor player de valorant do mundo joga osu</td>\n",
       "      <td>-87.415776</td>\n",
       "    </tr>\n",
       "    <tr>\n",
       "      <th>2</th>\n",
       "      <td>mano algm upa meu passe no valorant na humildade</td>\n",
       "      <td>-55.373890</td>\n",
       "    </tr>\n",
       "    <tr>\n",
       "      <th>3</th>\n",
       "      <td>deletei o valorant agora meu pc volta a ligar em 3 segundos</td>\n",
       "      <td>-72.071868</td>\n",
       "    </tr>\n",
       "    <tr>\n",
       "      <th>4</th>\n",
       "      <td>quem tiver pc baixa valorant nessa porr que eu tô no ódio e vai ser o dia todo só isso</td>\n",
       "      <td>-118.716192</td>\n",
       "    </tr>\n",
       "  </tbody>\n",
       "</table>\n",
       "</div>"
      ],
      "text/plain": [
       "                                                                                    Tweet  \\\n",
       "0                                                            @caos 0 eu no valorant v fon   \n",
       "1                        o cara q pra mim é o melhor player de valorant do mundo joga osu   \n",
       "2                                        mano algm upa meu passe no valorant na humildade   \n",
       "3                             deletei o valorant agora meu pc volta a ligar em 3 segundos   \n",
       "4  quem tiver pc baixa valorant nessa porr que eu tô no ódio e vai ser o dia todo só isso   \n",
       "\n",
       "   Probabilidade dado que é relevante  \n",
       "0                          -43.076253  \n",
       "1                          -87.415776  \n",
       "2                          -55.373890  \n",
       "3                          -72.071868  \n",
       "4                         -118.716192  "
      ]
     },
     "execution_count": 14,
     "metadata": {},
     "output_type": "execute_result"
    }
   ],
   "source": [
    "#valor inicial\n",
    "frase = 0\n",
    "\n",
    "tabela_relevante = dict()\n",
    "\n",
    "probabilidade_da_frase = 0\n",
    "\n",
    "#para cada um dos índices da tabela de tweets\n",
    "for indice in range(len(dados)):\n",
    "    \n",
    "    frase = dados.iloc[indice,0]\n",
    "    #divide o tweet em uma lista de palavras que compõem o tweet\n",
    "    palavras_da_frase = frase.split()\n",
    "    \n",
    "    for palavra in palavras_da_frase:\n",
    "    #faz o cálculo da probabilidade de CADA palavra    \n",
    "        \n",
    "        if palavra in palavras_relevantes:\n",
    "        #se for uma palavra conhecida entre as palavras presentes nos tweets relevantes\n",
    "\n",
    "            probabilidade_da_palavra = P_palavra_dado_relevante[palavra]\n",
    "            #como estamos apenas pegando os expoentes, estamos somando\n",
    "            probabilidade_da_frase += (math.log10(probabilidade_da_palavra))\n",
    "            \n",
    "        else:\n",
    "        #se for uma palavra desconhecida entre a lista das palavras presentes nos tweets relevantes\n",
    "        \n",
    "            probabilidade_da_palavra = alfa/N_relevante_com_alfaV\n",
    "            #como estamos apenas pegando os expoentes, estamos somando\n",
    "            probabilidade_da_frase += (math.log10(probabilidade_da_palavra))\n",
    "    \n",
    "    #adiciona a um dicionario em que a chave é o tweet e o item é a probabilidade dele\n",
    "    tabela_relevante[frase] = (probabilidade_da_frase)\n",
    "    probabilidade_da_frase = 0\n",
    "    \n",
    "df = pd.DataFrame.from_dict(data = tabela_relevante, orient='index').reset_index()\n",
    "df.columns = ['Tweet', 'Probabilidade dado que é relevante']\n",
    "df.head()"
   ]
  },
  {
   "cell_type": "markdown",
   "metadata": {},
   "source": [
    "## Calculando a coluna de probabilidade irrelevante"
   ]
  },
  {
   "cell_type": "markdown",
   "metadata": {},
   "source": [
    "Assim como feito para os Relevantes, iremos repetir o processo para os Irrelevantes"
   ]
  },
  {
   "cell_type": "code",
   "execution_count": 15,
   "metadata": {},
   "outputs": [
    {
     "data": {
      "text/html": [
       "<div>\n",
       "<style scoped>\n",
       "    .dataframe tbody tr th:only-of-type {\n",
       "        vertical-align: middle;\n",
       "    }\n",
       "\n",
       "    .dataframe tbody tr th {\n",
       "        vertical-align: top;\n",
       "    }\n",
       "\n",
       "    .dataframe thead th {\n",
       "        text-align: right;\n",
       "    }\n",
       "</style>\n",
       "<table border=\"1\" class=\"dataframe\">\n",
       "  <thead>\n",
       "    <tr style=\"text-align: right;\">\n",
       "      <th></th>\n",
       "      <th>Tweet</th>\n",
       "      <th>Probabilidade dado que é irrelevante</th>\n",
       "    </tr>\n",
       "  </thead>\n",
       "  <tbody>\n",
       "    <tr>\n",
       "      <th>0</th>\n",
       "      <td>@caos 0 eu no valorant v fon</td>\n",
       "      <td>-41.436916</td>\n",
       "    </tr>\n",
       "    <tr>\n",
       "      <th>1</th>\n",
       "      <td>o cara q pra mim é o melhor player de valorant do mundo joga osu</td>\n",
       "      <td>-84.870098</td>\n",
       "    </tr>\n",
       "    <tr>\n",
       "      <th>2</th>\n",
       "      <td>mano algm upa meu passe no valorant na humildade</td>\n",
       "      <td>-54.365370</td>\n",
       "    </tr>\n",
       "    <tr>\n",
       "      <th>3</th>\n",
       "      <td>deletei o valorant agora meu pc volta a ligar em 3 segundos</td>\n",
       "      <td>-72.877367</td>\n",
       "    </tr>\n",
       "    <tr>\n",
       "      <th>4</th>\n",
       "      <td>quem tiver pc baixa valorant nessa porr que eu tô no ódio e vai ser o dia todo só isso</td>\n",
       "      <td>-119.652287</td>\n",
       "    </tr>\n",
       "  </tbody>\n",
       "</table>\n",
       "</div>"
      ],
      "text/plain": [
       "                                                                                    Tweet  \\\n",
       "0                                                            @caos 0 eu no valorant v fon   \n",
       "1                        o cara q pra mim é o melhor player de valorant do mundo joga osu   \n",
       "2                                        mano algm upa meu passe no valorant na humildade   \n",
       "3                             deletei o valorant agora meu pc volta a ligar em 3 segundos   \n",
       "4  quem tiver pc baixa valorant nessa porr que eu tô no ódio e vai ser o dia todo só isso   \n",
       "\n",
       "   Probabilidade dado que é irrelevante  \n",
       "0                            -41.436916  \n",
       "1                            -84.870098  \n",
       "2                            -54.365370  \n",
       "3                            -72.877367  \n",
       "4                           -119.652287  "
      ]
     },
     "execution_count": 15,
     "metadata": {},
     "output_type": "execute_result"
    }
   ],
   "source": [
    "frase = 0\n",
    "tabela_irrelevante = dict()\n",
    "#iniciando a probabilidade em 1\n",
    "probabilidade_da_frase = 0\n",
    "\n",
    "for indice in range(len(dados)):\n",
    "    #para cada índice (linha) na planilha dados\n",
    "    frase = dados.iloc[indice,0]\n",
    "    #criando uma lista com as palavras presentes no tweet separadas individualmente\n",
    "    palavras_da_frase = frase.split()\n",
    "\n",
    "    for palavra in palavras_da_frase:\n",
    "        #calculando a probabilidade de cada palavra\n",
    "        \n",
    "        if palavra in palavras_irrelevantes:\n",
    "            #se a palavra estiver entre todas as palavras presentes no grupo de palavras irrelevantes\n",
    "\n",
    "            probabilidade_da_palavra = P_palavra_dado_irrelevante[palavra]\n",
    "             #somando os expoentes da probabilidade de cada palavra\n",
    "            probabilidade_da_frase += (math.log10(probabilidade_da_palavra))\n",
    "            \n",
    "        else:\n",
    "            #se a palavra não for uma das presentes no grupo de palavras irrelevantes\n",
    "            probabilidade_da_palavra = alfa/N_irrelevante_com_alfaV\n",
    "            #somando os expoentes da probabilidade de cada palavra\n",
    "            probabilidade_da_frase += (math.log10(probabilidade_da_palavra))\n",
    "        \n",
    "    #salvando a probabilidade do tweet   \n",
    "    tabela_irrelevante[frase] = (probabilidade_da_frase)\n",
    "    #reiniciando a contagem da probabilidade para o próximo tweet\n",
    "    probabilidade_da_frase = 0\n",
    "    \n",
    "df1 = pd.DataFrame.from_dict(data = tabela_irrelevante, orient='index').reset_index()\n",
    "df1.columns = ['Tweet', 'Probabilidade dado que é irrelevante']\n",
    "df1.head()"
   ]
  },
  {
   "cell_type": "markdown",
   "metadata": {},
   "source": [
    "## Juntando resultados"
   ]
  },
  {
   "cell_type": "code",
   "execution_count": 16,
   "metadata": {},
   "outputs": [],
   "source": [
    "novodf = pd.concat([dados, df['Probabilidade dado que é relevante'], df1['Probabilidade dado que é irrelevante']], axis=1)"
   ]
  },
  {
   "cell_type": "code",
   "execution_count": 17,
   "metadata": {},
   "outputs": [
    {
     "data": {
      "text/html": [
       "<div>\n",
       "<style scoped>\n",
       "    .dataframe tbody tr th:only-of-type {\n",
       "        vertical-align: middle;\n",
       "    }\n",
       "\n",
       "    .dataframe tbody tr th {\n",
       "        vertical-align: top;\n",
       "    }\n",
       "\n",
       "    .dataframe thead th {\n",
       "        text-align: right;\n",
       "    }\n",
       "</style>\n",
       "<table border=\"1\" class=\"dataframe\">\n",
       "  <thead>\n",
       "    <tr style=\"text-align: right;\">\n",
       "      <th></th>\n",
       "      <th>Treinamento</th>\n",
       "      <th>Etiquetas</th>\n",
       "      <th>Classificado</th>\n",
       "      <th>Probabilidade dado que é relevante</th>\n",
       "      <th>Probabilidade dado que é irrelevante</th>\n",
       "    </tr>\n",
       "  </thead>\n",
       "  <tbody>\n",
       "    <tr>\n",
       "      <th>0</th>\n",
       "      <td>@caos 0 eu no valorant v fon</td>\n",
       "      <td>2</td>\n",
       "      <td>Irrelevante</td>\n",
       "      <td>-43.076253</td>\n",
       "      <td>-41.436916</td>\n",
       "    </tr>\n",
       "    <tr>\n",
       "      <th>1</th>\n",
       "      <td>o cara q pra mim é o melhor player de valorant do mundo joga osu</td>\n",
       "      <td>2</td>\n",
       "      <td>Irrelevante</td>\n",
       "      <td>-87.415776</td>\n",
       "      <td>-84.870098</td>\n",
       "    </tr>\n",
       "    <tr>\n",
       "      <th>2</th>\n",
       "      <td>mano algm upa meu passe no valorant na humildade</td>\n",
       "      <td>2</td>\n",
       "      <td>Irrelevante</td>\n",
       "      <td>-55.373890</td>\n",
       "      <td>-54.365370</td>\n",
       "    </tr>\n",
       "    <tr>\n",
       "      <th>3</th>\n",
       "      <td>deletei o valorant agora meu pc volta a ligar em 3 segundos</td>\n",
       "      <td>1</td>\n",
       "      <td>Relevante</td>\n",
       "      <td>-72.071868</td>\n",
       "      <td>-72.877367</td>\n",
       "    </tr>\n",
       "    <tr>\n",
       "      <th>4</th>\n",
       "      <td>quem tiver pc baixa valorant nessa porr que eu tô no ódio e vai ser o dia todo só isso</td>\n",
       "      <td>1</td>\n",
       "      <td>Relevante</td>\n",
       "      <td>-118.716192</td>\n",
       "      <td>-119.652287</td>\n",
       "    </tr>\n",
       "  </tbody>\n",
       "</table>\n",
       "</div>"
      ],
      "text/plain": [
       "                                                                              Treinamento  \\\n",
       "0                                                            @caos 0 eu no valorant v fon   \n",
       "1                        o cara q pra mim é o melhor player de valorant do mundo joga osu   \n",
       "2                                        mano algm upa meu passe no valorant na humildade   \n",
       "3                             deletei o valorant agora meu pc volta a ligar em 3 segundos   \n",
       "4  quem tiver pc baixa valorant nessa porr que eu tô no ódio e vai ser o dia todo só isso   \n",
       "\n",
       "   Etiquetas Classificado  Probabilidade dado que é relevante  \\\n",
       "0          2  Irrelevante                          -43.076253   \n",
       "1          2  Irrelevante                          -87.415776   \n",
       "2          2  Irrelevante                          -55.373890   \n",
       "3          1    Relevante                          -72.071868   \n",
       "4          1    Relevante                         -118.716192   \n",
       "\n",
       "   Probabilidade dado que é irrelevante  \n",
       "0                            -41.436916  \n",
       "1                            -84.870098  \n",
       "2                            -54.365370  \n",
       "3                            -72.877367  \n",
       "4                           -119.652287  "
      ]
     },
     "execution_count": 17,
     "metadata": {},
     "output_type": "execute_result"
    }
   ],
   "source": [
    "novodf.head()"
   ]
  },
  {
   "cell_type": "markdown",
   "metadata": {},
   "source": [
    "## Aplicando calculo final\n",
    "\n",
    "$log(P(tweet|Relevante)) + log(P(Relevante))$ e $log(P(tweet|Irrelevante)) + log(P(irrelevante))$\n",
    "\n",
    "Lembrando que não precisamos realizar a operação de divisão, visto que ambos seriam divididos pela mesma coisa, e como queremos compará-los, não mudaria em nada a comparação."
   ]
  },
  {
   "cell_type": "code",
   "execution_count": 18,
   "metadata": {},
   "outputs": [],
   "source": [
    "#realizando a operação\n",
    "novodf['Probabilidade dado relevante x Probabilidade de Relevante'] = novodf['Probabilidade dado que é relevante']+math.log10(P_R)\n",
    "novodf['Probabilidade dado irrelevante x Probabilidade de Irelevante'] = novodf['Probabilidade dado que é irrelevante']+math.log10(P_R_c)"
   ]
  },
  {
   "cell_type": "code",
   "execution_count": 19,
   "metadata": {},
   "outputs": [
    {
     "data": {
      "text/html": [
       "<div>\n",
       "<style scoped>\n",
       "    .dataframe tbody tr th:only-of-type {\n",
       "        vertical-align: middle;\n",
       "    }\n",
       "\n",
       "    .dataframe tbody tr th {\n",
       "        vertical-align: top;\n",
       "    }\n",
       "\n",
       "    .dataframe thead th {\n",
       "        text-align: right;\n",
       "    }\n",
       "</style>\n",
       "<table border=\"1\" class=\"dataframe\">\n",
       "  <thead>\n",
       "    <tr style=\"text-align: right;\">\n",
       "      <th></th>\n",
       "      <th>Treinamento</th>\n",
       "      <th>Etiquetas</th>\n",
       "      <th>Classificado</th>\n",
       "      <th>Probabilidade dado que é relevante</th>\n",
       "      <th>Probabilidade dado que é irrelevante</th>\n",
       "      <th>Probabilidade dado relevante x Probabilidade de Relevante</th>\n",
       "      <th>Probabilidade dado irrelevante x Probabilidade de Irelevante</th>\n",
       "    </tr>\n",
       "  </thead>\n",
       "  <tbody>\n",
       "    <tr>\n",
       "      <th>0</th>\n",
       "      <td>@caos 0 eu no valorant v fon</td>\n",
       "      <td>2</td>\n",
       "      <td>Irrelevante</td>\n",
       "      <td>-43.076253</td>\n",
       "      <td>-41.436916</td>\n",
       "      <td>-43.415388</td>\n",
       "      <td>-41.702916</td>\n",
       "    </tr>\n",
       "    <tr>\n",
       "      <th>1</th>\n",
       "      <td>o cara q pra mim é o melhor player de valorant do mundo joga osu</td>\n",
       "      <td>2</td>\n",
       "      <td>Irrelevante</td>\n",
       "      <td>-87.415776</td>\n",
       "      <td>-84.870098</td>\n",
       "      <td>-87.754911</td>\n",
       "      <td>-85.136099</td>\n",
       "    </tr>\n",
       "    <tr>\n",
       "      <th>2</th>\n",
       "      <td>mano algm upa meu passe no valorant na humildade</td>\n",
       "      <td>2</td>\n",
       "      <td>Irrelevante</td>\n",
       "      <td>-55.373890</td>\n",
       "      <td>-54.365370</td>\n",
       "      <td>-55.713025</td>\n",
       "      <td>-54.631371</td>\n",
       "    </tr>\n",
       "    <tr>\n",
       "      <th>3</th>\n",
       "      <td>deletei o valorant agora meu pc volta a ligar em 3 segundos</td>\n",
       "      <td>1</td>\n",
       "      <td>Relevante</td>\n",
       "      <td>-72.071868</td>\n",
       "      <td>-72.877367</td>\n",
       "      <td>-72.411003</td>\n",
       "      <td>-73.143367</td>\n",
       "    </tr>\n",
       "    <tr>\n",
       "      <th>4</th>\n",
       "      <td>quem tiver pc baixa valorant nessa porr que eu tô no ódio e vai ser o dia todo só isso</td>\n",
       "      <td>1</td>\n",
       "      <td>Relevante</td>\n",
       "      <td>-118.716192</td>\n",
       "      <td>-119.652287</td>\n",
       "      <td>-119.055327</td>\n",
       "      <td>-119.918288</td>\n",
       "    </tr>\n",
       "    <tr>\n",
       "      <th>5</th>\n",
       "      <td>voltei a jogar valorant so por causa do mata mata</td>\n",
       "      <td>1</td>\n",
       "      <td>Relevante</td>\n",
       "      <td>-58.942680</td>\n",
       "      <td>-59.773108</td>\n",
       "      <td>-59.281814</td>\n",
       "      <td>-60.039109</td>\n",
       "    </tr>\n",
       "    <tr>\n",
       "      <th>6</th>\n",
       "      <td>viciei em valorant esse é o tweet</td>\n",
       "      <td>1</td>\n",
       "      <td>Relevante</td>\n",
       "      <td>-41.539170</td>\n",
       "      <td>-40.444920</td>\n",
       "      <td>-41.878305</td>\n",
       "      <td>-40.710920</td>\n",
       "    </tr>\n",
       "    <tr>\n",
       "      <th>7</th>\n",
       "      <td>@zncabral free fire fez mais sucesso que o valorant só no brasil no resto do mundo quase ngm joga isso</td>\n",
       "      <td>1</td>\n",
       "      <td>Relevante</td>\n",
       "      <td>-121.148123</td>\n",
       "      <td>-121.552353</td>\n",
       "      <td>-121.487257</td>\n",
       "      <td>-121.818354</td>\n",
       "    </tr>\n",
       "    <tr>\n",
       "      <th>8</th>\n",
       "      <td>alguem me explica o motivo das 12 do valorant menos a shorty atirar tão bem de longe tipo comparando com cs e fortnite não faz sentido os cara vai de bucky atacando vai se fuder</td>\n",
       "      <td>1</td>\n",
       "      <td>Relevante</td>\n",
       "      <td>-213.539203</td>\n",
       "      <td>-213.133537</td>\n",
       "      <td>-213.878338</td>\n",
       "      <td>-213.399538</td>\n",
       "    </tr>\n",
       "    <tr>\n",
       "      <th>9</th>\n",
       "      <td>rt @leozjn o matchmaking do valorant n faz o minimo sentido</td>\n",
       "      <td>1</td>\n",
       "      <td>Relevante</td>\n",
       "      <td>-66.497866</td>\n",
       "      <td>-66.064682</td>\n",
       "      <td>-66.837000</td>\n",
       "      <td>-66.330683</td>\n",
       "    </tr>\n",
       "  </tbody>\n",
       "</table>\n",
       "</div>"
      ],
      "text/plain": [
       "                                                                                                                                                                         Treinamento  \\\n",
       "0                                                                                                                                                       @caos 0 eu no valorant v fon   \n",
       "1                                                                                                                   o cara q pra mim é o melhor player de valorant do mundo joga osu   \n",
       "2                                                                                                                                   mano algm upa meu passe no valorant na humildade   \n",
       "3                                                                                                                        deletei o valorant agora meu pc volta a ligar em 3 segundos   \n",
       "4                                                                                             quem tiver pc baixa valorant nessa porr que eu tô no ódio e vai ser o dia todo só isso   \n",
       "5                                                                                                                                  voltei a jogar valorant so por causa do mata mata   \n",
       "6                                                                                                                                                  viciei em valorant esse é o tweet   \n",
       "7                                                                             @zncabral free fire fez mais sucesso que o valorant só no brasil no resto do mundo quase ngm joga isso   \n",
       "8  alguem me explica o motivo das 12 do valorant menos a shorty atirar tão bem de longe tipo comparando com cs e fortnite não faz sentido os cara vai de bucky atacando vai se fuder   \n",
       "9                                                                                                                        rt @leozjn o matchmaking do valorant n faz o minimo sentido   \n",
       "\n",
       "   Etiquetas Classificado  Probabilidade dado que é relevante  \\\n",
       "0          2  Irrelevante                          -43.076253   \n",
       "1          2  Irrelevante                          -87.415776   \n",
       "2          2  Irrelevante                          -55.373890   \n",
       "3          1    Relevante                          -72.071868   \n",
       "4          1    Relevante                         -118.716192   \n",
       "5          1    Relevante                          -58.942680   \n",
       "6          1    Relevante                          -41.539170   \n",
       "7          1    Relevante                         -121.148123   \n",
       "8          1    Relevante                         -213.539203   \n",
       "9          1    Relevante                          -66.497866   \n",
       "\n",
       "   Probabilidade dado que é irrelevante  \\\n",
       "0                            -41.436916   \n",
       "1                            -84.870098   \n",
       "2                            -54.365370   \n",
       "3                            -72.877367   \n",
       "4                           -119.652287   \n",
       "5                            -59.773108   \n",
       "6                            -40.444920   \n",
       "7                           -121.552353   \n",
       "8                           -213.133537   \n",
       "9                            -66.064682   \n",
       "\n",
       "   Probabilidade dado relevante x Probabilidade de Relevante  \\\n",
       "0                                                 -43.415388   \n",
       "1                                                 -87.754911   \n",
       "2                                                 -55.713025   \n",
       "3                                                 -72.411003   \n",
       "4                                                -119.055327   \n",
       "5                                                 -59.281814   \n",
       "6                                                 -41.878305   \n",
       "7                                                -121.487257   \n",
       "8                                                -213.878338   \n",
       "9                                                 -66.837000   \n",
       "\n",
       "   Probabilidade dado irrelevante x Probabilidade de Irelevante  \n",
       "0                                                    -41.702916  \n",
       "1                                                    -85.136099  \n",
       "2                                                    -54.631371  \n",
       "3                                                    -73.143367  \n",
       "4                                                   -119.918288  \n",
       "5                                                    -60.039109  \n",
       "6                                                    -40.710920  \n",
       "7                                                   -121.818354  \n",
       "8                                                   -213.399538  \n",
       "9                                                    -66.330683  "
      ]
     },
     "execution_count": 19,
     "metadata": {},
     "output_type": "execute_result"
    }
   ],
   "source": [
    "novodf.head(10)"
   ]
  },
  {
   "cell_type": "markdown",
   "metadata": {},
   "source": [
    "## Aplicando:"
   ]
  },
  {
   "cell_type": "markdown",
   "metadata": {},
   "source": [
    "Se $P(Relevante|tweet) < P(Irrelevante|tweet)$, classificaremos o tweet como Relevante (Como estamos verificando o expoente das probabilidades e eles são números muito pequenos (expoente negativo), queremos o expoente mais próximo de 0), senão, classificaremos como Irrelevante."
   ]
  },
  {
   "cell_type": "code",
   "execution_count": 20,
   "metadata": {},
   "outputs": [
    {
     "data": {
      "text/html": [
       "<div>\n",
       "<style scoped>\n",
       "    .dataframe tbody tr th:only-of-type {\n",
       "        vertical-align: middle;\n",
       "    }\n",
       "\n",
       "    .dataframe tbody tr th {\n",
       "        vertical-align: top;\n",
       "    }\n",
       "\n",
       "    .dataframe thead th {\n",
       "        text-align: right;\n",
       "    }\n",
       "</style>\n",
       "<table border=\"1\" class=\"dataframe\">\n",
       "  <thead>\n",
       "    <tr style=\"text-align: right;\">\n",
       "      <th></th>\n",
       "      <th>Treinamento</th>\n",
       "      <th>Etiquetas</th>\n",
       "      <th>Classificado</th>\n",
       "      <th>Probabilidade dado que é relevante</th>\n",
       "      <th>Probabilidade dado que é irrelevante</th>\n",
       "      <th>Probabilidade dado relevante x Probabilidade de Relevante</th>\n",
       "      <th>Probabilidade dado irrelevante x Probabilidade de Irelevante</th>\n",
       "      <th>Navy Bayes</th>\n",
       "    </tr>\n",
       "  </thead>\n",
       "  <tbody>\n",
       "    <tr>\n",
       "      <th>0</th>\n",
       "      <td>@caos 0 eu no valorant v fon</td>\n",
       "      <td>2</td>\n",
       "      <td>Irrelevante</td>\n",
       "      <td>-43.076253</td>\n",
       "      <td>-41.436916</td>\n",
       "      <td>-43.415388</td>\n",
       "      <td>-41.702916</td>\n",
       "      <td>Irrelevante</td>\n",
       "    </tr>\n",
       "    <tr>\n",
       "      <th>1</th>\n",
       "      <td>o cara q pra mim é o melhor player de valorant do mundo joga osu</td>\n",
       "      <td>2</td>\n",
       "      <td>Irrelevante</td>\n",
       "      <td>-87.415776</td>\n",
       "      <td>-84.870098</td>\n",
       "      <td>-87.754911</td>\n",
       "      <td>-85.136099</td>\n",
       "      <td>Irrelevante</td>\n",
       "    </tr>\n",
       "    <tr>\n",
       "      <th>2</th>\n",
       "      <td>mano algm upa meu passe no valorant na humildade</td>\n",
       "      <td>2</td>\n",
       "      <td>Irrelevante</td>\n",
       "      <td>-55.373890</td>\n",
       "      <td>-54.365370</td>\n",
       "      <td>-55.713025</td>\n",
       "      <td>-54.631371</td>\n",
       "      <td>Irrelevante</td>\n",
       "    </tr>\n",
       "    <tr>\n",
       "      <th>3</th>\n",
       "      <td>deletei o valorant agora meu pc volta a ligar em 3 segundos</td>\n",
       "      <td>1</td>\n",
       "      <td>Relevante</td>\n",
       "      <td>-72.071868</td>\n",
       "      <td>-72.877367</td>\n",
       "      <td>-72.411003</td>\n",
       "      <td>-73.143367</td>\n",
       "      <td>Relevante</td>\n",
       "    </tr>\n",
       "    <tr>\n",
       "      <th>4</th>\n",
       "      <td>quem tiver pc baixa valorant nessa porr que eu tô no ódio e vai ser o dia todo só isso</td>\n",
       "      <td>1</td>\n",
       "      <td>Relevante</td>\n",
       "      <td>-118.716192</td>\n",
       "      <td>-119.652287</td>\n",
       "      <td>-119.055327</td>\n",
       "      <td>-119.918288</td>\n",
       "      <td>Relevante</td>\n",
       "    </tr>\n",
       "  </tbody>\n",
       "</table>\n",
       "</div>"
      ],
      "text/plain": [
       "                                                                              Treinamento  \\\n",
       "0                                                            @caos 0 eu no valorant v fon   \n",
       "1                        o cara q pra mim é o melhor player de valorant do mundo joga osu   \n",
       "2                                        mano algm upa meu passe no valorant na humildade   \n",
       "3                             deletei o valorant agora meu pc volta a ligar em 3 segundos   \n",
       "4  quem tiver pc baixa valorant nessa porr que eu tô no ódio e vai ser o dia todo só isso   \n",
       "\n",
       "   Etiquetas Classificado  Probabilidade dado que é relevante  \\\n",
       "0          2  Irrelevante                          -43.076253   \n",
       "1          2  Irrelevante                          -87.415776   \n",
       "2          2  Irrelevante                          -55.373890   \n",
       "3          1    Relevante                          -72.071868   \n",
       "4          1    Relevante                         -118.716192   \n",
       "\n",
       "   Probabilidade dado que é irrelevante  \\\n",
       "0                            -41.436916   \n",
       "1                            -84.870098   \n",
       "2                            -54.365370   \n",
       "3                            -72.877367   \n",
       "4                           -119.652287   \n",
       "\n",
       "   Probabilidade dado relevante x Probabilidade de Relevante  \\\n",
       "0                                                 -43.415388   \n",
       "1                                                 -87.754911   \n",
       "2                                                 -55.713025   \n",
       "3                                                 -72.411003   \n",
       "4                                                -119.055327   \n",
       "\n",
       "   Probabilidade dado irrelevante x Probabilidade de Irelevante   Navy Bayes  \n",
       "0                                                    -41.702916  Irrelevante  \n",
       "1                                                    -85.136099  Irrelevante  \n",
       "2                                                    -54.631371  Irrelevante  \n",
       "3                                                    -73.143367    Relevante  \n",
       "4                                                   -119.918288    Relevante  "
      ]
     },
     "execution_count": 20,
     "metadata": {},
     "output_type": "execute_result"
    }
   ],
   "source": [
    "#comparando os dados obtidos anteriomente e realizando a classificação\n",
    "novodf['Navy Bayes'] = np.where(novodf['Probabilidade dado relevante x Probabilidade de Relevante'] > novodf['Probabilidade dado irrelevante x Probabilidade de Irelevante'], 'Relevante', 'Irrelevante')\n",
    "novodf.head()"
   ]
  },
  {
   "cell_type": "markdown",
   "metadata": {},
   "source": [
    "## Resultados\n",
    "\n",
    "Para obtermos os resultados, vamos comparar a classificação manual com a classificação pelo nosso modelo de MVP utilizando o pandas Crosstab"
   ]
  },
  {
   "cell_type": "code",
   "execution_count": 21,
   "metadata": {},
   "outputs": [
    {
     "data": {
      "text/plain": [
       "Irrelevante    364\n",
       "Relevante      136\n",
       "Name: Navy Bayes, dtype: int64"
      ]
     },
     "execution_count": 21,
     "metadata": {},
     "output_type": "execute_result"
    }
   ],
   "source": [
    "novodf['Navy Bayes'].value_counts()"
   ]
  },
  {
   "cell_type": "code",
   "execution_count": 22,
   "metadata": {},
   "outputs": [
    {
     "data": {
      "text/html": [
       "<div>\n",
       "<style scoped>\n",
       "    .dataframe tbody tr th:only-of-type {\n",
       "        vertical-align: middle;\n",
       "    }\n",
       "\n",
       "    .dataframe tbody tr th {\n",
       "        vertical-align: top;\n",
       "    }\n",
       "\n",
       "    .dataframe thead th {\n",
       "        text-align: right;\n",
       "    }\n",
       "</style>\n",
       "<table border=\"1\" class=\"dataframe\">\n",
       "  <thead>\n",
       "    <tr style=\"text-align: right;\">\n",
       "      <th>Navy Bayes</th>\n",
       "      <th>Irrelevante</th>\n",
       "      <th>Relevante</th>\n",
       "    </tr>\n",
       "    <tr>\n",
       "      <th>Classificado</th>\n",
       "      <th></th>\n",
       "      <th></th>\n",
       "    </tr>\n",
       "  </thead>\n",
       "  <tbody>\n",
       "    <tr>\n",
       "      <th>Irrelevante</th>\n",
       "      <td>0.540</td>\n",
       "      <td>0.002</td>\n",
       "    </tr>\n",
       "    <tr>\n",
       "      <th>Relevante</th>\n",
       "      <td>0.188</td>\n",
       "      <td>0.270</td>\n",
       "    </tr>\n",
       "  </tbody>\n",
       "</table>\n",
       "</div>"
      ],
      "text/plain": [
       "Navy Bayes    Irrelevante  Relevante\n",
       "Classificado                        \n",
       "Irrelevante         0.540      0.002\n",
       "Relevante           0.188      0.270"
      ]
     },
     "execution_count": 22,
     "metadata": {},
     "output_type": "execute_result"
    }
   ],
   "source": [
    "tabela = pd.crosstab(novodf.Classificado, novodf['Navy Bayes'], normalize=True)\n",
    "tabela"
   ]
  },
  {
   "cell_type": "code",
   "execution_count": 23,
   "metadata": {},
   "outputs": [
    {
     "name": "stdout",
     "output_type": "stream",
     "text": [
      "A porcentagem de verdadeiros positivos é: 27.000%\n",
      "\n",
      "A porcentagem de falsos positivos é: 18.800%\n",
      "\n",
      "A porcentagem de verdadeiros negativos é: 54.000%\n",
      "\n",
      "A porcentagem de falsos negativos é: 0.200%\n",
      "\n"
     ]
    }
   ],
   "source": [
    "verdadeiros_positivos = tabela.iloc[1,1]*100\n",
    "falsos_positivos = tabela.iloc[1,0]*100\n",
    "verdadeiros_negativos = tabela.iloc[0,0]*100\n",
    "falsos_negativos = tabela.iloc[0,1]*100\n",
    "\n",
    "print('A porcentagem de verdadeiros positivos é: {:.3f}%\\n'.format(verdadeiros_positivos))\n",
    "print('A porcentagem de falsos positivos é: {:.3f}%\\n'.format(falsos_positivos))\n",
    "print('A porcentagem de verdadeiros negativos é: {:.3f}%\\n'.format(verdadeiros_negativos))\n",
    "print('A porcentagem de falsos negativos é: {:.3f}%\\n'.format(falsos_negativos))"
   ]
  },
  {
   "cell_type": "code",
   "execution_count": 24,
   "metadata": {},
   "outputs": [
    {
     "data": {
      "text/plain": [
       "0.81"
      ]
     },
     "execution_count": 24,
     "metadata": {},
     "output_type": "execute_result"
    }
   ],
   "source": [
    "precisao = tabela.iloc[0,0] + tabela.iloc[1,1]\n",
    "precisao"
   ]
  },
  {
   "cell_type": "markdown",
   "metadata": {},
   "source": [
    "# Teste\n",
    "\n",
    "A partir deste ponto, iremos aplicar o nosso modelo na planilha de teste, para verificar o quão bom é o modelo."
   ]
  },
  {
   "cell_type": "code",
   "execution_count": 25,
   "metadata": {},
   "outputs": [
    {
     "name": "stdout",
     "output_type": "stream",
     "text": [
      "<class 'pandas.core.frame.DataFrame'>\n",
      "RangeIndex: 47 entries, 0 to 46\n",
      "Data columns (total 3 columns):\n",
      " #   Column        Non-Null Count  Dtype   \n",
      "---  ------        --------------  -----   \n",
      " 0   Teste         47 non-null     object  \n",
      " 1   Etiquetas     47 non-null     int64   \n",
      " 2   Classificado  47 non-null     category\n",
      "dtypes: category(1), int64(1), object(1)\n",
      "memory usage: 1023.0+ bytes\n"
     ]
    }
   ],
   "source": [
    "#lendo a planilha teste\n",
    "teste = pd.read_excel('../dados/Valorant.xlsx', sheet_name = 'Teste')\n",
    "teste['Classificado'] = teste['Classificado'].astype('category')\n",
    "teste.info()"
   ]
  },
  {
   "cell_type": "markdown",
   "metadata": {},
   "source": [
    "* Limpando o Teste"
   ]
  },
  {
   "cell_type": "code",
   "execution_count": 26,
   "metadata": {},
   "outputs": [
    {
     "data": {
      "text/html": [
       "<div>\n",
       "<style scoped>\n",
       "    .dataframe tbody tr th:only-of-type {\n",
       "        vertical-align: middle;\n",
       "    }\n",
       "\n",
       "    .dataframe tbody tr th {\n",
       "        vertical-align: top;\n",
       "    }\n",
       "\n",
       "    .dataframe thead th {\n",
       "        text-align: right;\n",
       "    }\n",
       "</style>\n",
       "<table border=\"1\" class=\"dataframe\">\n",
       "  <thead>\n",
       "    <tr style=\"text-align: right;\">\n",
       "      <th></th>\n",
       "      <th>Teste</th>\n",
       "      <th>Etiquetas</th>\n",
       "      <th>Classificado</th>\n",
       "    </tr>\n",
       "  </thead>\n",
       "  <tbody>\n",
       "    <tr>\n",
       "      <th>0</th>\n",
       "      <td>mt silverio abandona a carreira como dj e vira pro player de valorant em breve nos cinemas</td>\n",
       "      <td>2</td>\n",
       "      <td>Irrelevante</td>\n",
       "    </tr>\n",
       "    <tr>\n",
       "      <th>1</th>\n",
       "      <td>definitivamente o valorant n quer mais me ver jogar é cada bronze com jogatina de imortal q pelamor</td>\n",
       "      <td>1</td>\n",
       "      <td>Relevante</td>\n",
       "    </tr>\n",
       "    <tr>\n",
       "      <th>2</th>\n",
       "      <td>eu jogando valorant com meus amigos eu jogando valorant sozinho https t co esjhdslejb</td>\n",
       "      <td>2</td>\n",
       "      <td>Irrelevante</td>\n",
       "    </tr>\n",
       "    <tr>\n",
       "      <th>3</th>\n",
       "      <td>eu sei que a minha equipa no valorant é má quando sou eu a top fragger</td>\n",
       "      <td>2</td>\n",
       "      <td>Irrelevante</td>\n",
       "    </tr>\n",
       "    <tr>\n",
       "      <th>4</th>\n",
       "      <td>baixei valorant esse foi o erro da noite kkk</td>\n",
       "      <td>1</td>\n",
       "      <td>Relevante</td>\n",
       "    </tr>\n",
       "  </tbody>\n",
       "</table>\n",
       "</div>"
      ],
      "text/plain": [
       "                                                                                                 Teste  \\\n",
       "0           mt silverio abandona a carreira como dj e vira pro player de valorant em breve nos cinemas   \n",
       "1  definitivamente o valorant n quer mais me ver jogar é cada bronze com jogatina de imortal q pelamor   \n",
       "2                eu jogando valorant com meus amigos eu jogando valorant sozinho https t co esjhdslejb   \n",
       "3                               eu sei que a minha equipa no valorant é má quando sou eu a top fragger   \n",
       "4                                                         baixei valorant esse foi o erro da noite kkk   \n",
       "\n",
       "   Etiquetas Classificado  \n",
       "0          2  Irrelevante  \n",
       "1          1    Relevante  \n",
       "2          2  Irrelevante  \n",
       "3          2  Irrelevante  \n",
       "4          1    Relevante  "
      ]
     },
     "execution_count": 26,
     "metadata": {},
     "output_type": "execute_result"
    }
   ],
   "source": [
    "teste['Teste'] = teste['Teste'].apply(limpa_texto)\n",
    "teste['Teste'] = teste['Teste'].apply(separa_emoji)\n",
    "teste.head()"
   ]
  },
  {
   "cell_type": "markdown",
   "metadata": {},
   "source": [
    "### Checa relevante\n",
    "\n",
    "Vamos realizar o mesmo procedimento de passar pelas tweets e verificarmos a probabilidade deles dado que são relevantes. "
   ]
  },
  {
   "cell_type": "code",
   "execution_count": 27,
   "metadata": {},
   "outputs": [
    {
     "data": {
      "text/html": [
       "<div>\n",
       "<style scoped>\n",
       "    .dataframe tbody tr th:only-of-type {\n",
       "        vertical-align: middle;\n",
       "    }\n",
       "\n",
       "    .dataframe tbody tr th {\n",
       "        vertical-align: top;\n",
       "    }\n",
       "\n",
       "    .dataframe thead th {\n",
       "        text-align: right;\n",
       "    }\n",
       "</style>\n",
       "<table border=\"1\" class=\"dataframe\">\n",
       "  <thead>\n",
       "    <tr style=\"text-align: right;\">\n",
       "      <th></th>\n",
       "      <th>Tweet</th>\n",
       "      <th>Probabilidade dado que é relevante</th>\n",
       "    </tr>\n",
       "  </thead>\n",
       "  <tbody>\n",
       "    <tr>\n",
       "      <th>0</th>\n",
       "      <td>mt silverio abandona a carreira como dj e vira pro player de valorant em breve nos cinemas</td>\n",
       "      <td>-105.591741</td>\n",
       "    </tr>\n",
       "    <tr>\n",
       "      <th>1</th>\n",
       "      <td>definitivamente o valorant n quer mais me ver jogar é cada bronze com jogatina de imortal q pelamor</td>\n",
       "      <td>-107.914714</td>\n",
       "    </tr>\n",
       "    <tr>\n",
       "      <th>2</th>\n",
       "      <td>eu jogando valorant com meus amigos eu jogando valorant sozinho https t co esjhdslejb</td>\n",
       "      <td>-81.176654</td>\n",
       "    </tr>\n",
       "    <tr>\n",
       "      <th>3</th>\n",
       "      <td>eu sei que a minha equipa no valorant é má quando sou eu a top fragger</td>\n",
       "      <td>-93.703128</td>\n",
       "    </tr>\n",
       "    <tr>\n",
       "      <th>4</th>\n",
       "      <td>baixei valorant esse foi o erro da noite kkk</td>\n",
       "      <td>-55.038741</td>\n",
       "    </tr>\n",
       "  </tbody>\n",
       "</table>\n",
       "</div>"
      ],
      "text/plain": [
       "                                                                                                 Tweet  \\\n",
       "0           mt silverio abandona a carreira como dj e vira pro player de valorant em breve nos cinemas   \n",
       "1  definitivamente o valorant n quer mais me ver jogar é cada bronze com jogatina de imortal q pelamor   \n",
       "2                eu jogando valorant com meus amigos eu jogando valorant sozinho https t co esjhdslejb   \n",
       "3                               eu sei que a minha equipa no valorant é má quando sou eu a top fragger   \n",
       "4                                                         baixei valorant esse foi o erro da noite kkk   \n",
       "\n",
       "   Probabilidade dado que é relevante  \n",
       "0                         -105.591741  \n",
       "1                         -107.914714  \n",
       "2                          -81.176654  \n",
       "3                          -93.703128  \n",
       "4                          -55.038741  "
      ]
     },
     "execution_count": 27,
     "metadata": {},
     "output_type": "execute_result"
    }
   ],
   "source": [
    "frase = 0\n",
    "\n",
    "tabela_relevante = dict()\n",
    "#iniciando a probabilidade como 0\n",
    "probabilidade_da_frase = 0\n",
    "for indice in range(len(teste)):\n",
    "    #passando de linha em linha\n",
    "    frase = teste.iloc[indice,0]\n",
    "    #dividindo cada tweet de palavra em palavra\n",
    "    palavras_da_frase = frase.split()\n",
    "    \n",
    "    for palavra in palavras_da_frase:\n",
    "    #para cada palavra presente no tweet, verificar se ela pertence a base das palavras relevantes    \n",
    "        \n",
    "        if palavra in palavras_relevantes:\n",
    "        #se for uma palavra presente dentre as relevantes, realiza o cálculo utilizando o valor dela + alpha\n",
    "            probabilidade_da_palavra = P_palavra_dado_relevante[palavra]\n",
    "            \n",
    "            probabilidade_da_frase += (math.log10(probabilidade_da_palavra))\n",
    "            \n",
    "        else:\n",
    "            #se não estiver presente dentre as palavras relevantes,realiza o cálculo apenas com o alpha\n",
    "            probabilidade_da_palavra = alfa/N_relevante_com_alfaV\n",
    "            probabilidade_da_frase += (math.log10(probabilidade_da_palavra))\n",
    "    \n",
    "    #guarda o valor da probabilidade do tweet \n",
    "    tabela_relevante[frase] = (probabilidade_da_frase)\n",
    "    probabilidade_da_frase = 0\n",
    "    \n",
    "df = pd.DataFrame.from_dict(data = tabela_relevante, orient='index').reset_index()\n",
    "df.columns = ['Tweet', 'Probabilidade dado que é relevante']\n",
    "df.head()"
   ]
  },
  {
   "cell_type": "markdown",
   "metadata": {},
   "source": [
    "### Checa Irrelevante"
   ]
  },
  {
   "cell_type": "code",
   "execution_count": 28,
   "metadata": {},
   "outputs": [
    {
     "data": {
      "text/html": [
       "<div>\n",
       "<style scoped>\n",
       "    .dataframe tbody tr th:only-of-type {\n",
       "        vertical-align: middle;\n",
       "    }\n",
       "\n",
       "    .dataframe tbody tr th {\n",
       "        vertical-align: top;\n",
       "    }\n",
       "\n",
       "    .dataframe thead th {\n",
       "        text-align: right;\n",
       "    }\n",
       "</style>\n",
       "<table border=\"1\" class=\"dataframe\">\n",
       "  <thead>\n",
       "    <tr style=\"text-align: right;\">\n",
       "      <th></th>\n",
       "      <th>Tweet</th>\n",
       "      <th>Probabilidade dado que é irrelevante</th>\n",
       "    </tr>\n",
       "  </thead>\n",
       "  <tbody>\n",
       "    <tr>\n",
       "      <th>0</th>\n",
       "      <td>mt silverio abandona a carreira como dj e vira pro player de valorant em breve nos cinemas</td>\n",
       "      <td>-103.011570</td>\n",
       "    </tr>\n",
       "    <tr>\n",
       "      <th>1</th>\n",
       "      <td>definitivamente o valorant n quer mais me ver jogar é cada bronze com jogatina de imortal q pelamor</td>\n",
       "      <td>-107.029393</td>\n",
       "    </tr>\n",
       "    <tr>\n",
       "      <th>2</th>\n",
       "      <td>eu jogando valorant com meus amigos eu jogando valorant sozinho https t co esjhdslejb</td>\n",
       "      <td>-78.600558</td>\n",
       "    </tr>\n",
       "    <tr>\n",
       "      <th>3</th>\n",
       "      <td>eu sei que a minha equipa no valorant é má quando sou eu a top fragger</td>\n",
       "      <td>-93.007725</td>\n",
       "    </tr>\n",
       "    <tr>\n",
       "      <th>4</th>\n",
       "      <td>baixei valorant esse foi o erro da noite kkk</td>\n",
       "      <td>-54.711541</td>\n",
       "    </tr>\n",
       "  </tbody>\n",
       "</table>\n",
       "</div>"
      ],
      "text/plain": [
       "                                                                                                 Tweet  \\\n",
       "0           mt silverio abandona a carreira como dj e vira pro player de valorant em breve nos cinemas   \n",
       "1  definitivamente o valorant n quer mais me ver jogar é cada bronze com jogatina de imortal q pelamor   \n",
       "2                eu jogando valorant com meus amigos eu jogando valorant sozinho https t co esjhdslejb   \n",
       "3                               eu sei que a minha equipa no valorant é má quando sou eu a top fragger   \n",
       "4                                                         baixei valorant esse foi o erro da noite kkk   \n",
       "\n",
       "   Probabilidade dado que é irrelevante  \n",
       "0                           -103.011570  \n",
       "1                           -107.029393  \n",
       "2                            -78.600558  \n",
       "3                            -93.007725  \n",
       "4                            -54.711541  "
      ]
     },
     "execution_count": 28,
     "metadata": {},
     "output_type": "execute_result"
    }
   ],
   "source": [
    "frase = 0\n",
    "tabela_irrelevante = dict()\n",
    "\n",
    "#inicializando a probabilidade em 0\n",
    "probabilidade_da_frase = 0\n",
    "#percorrendo cada uma das linhas da planilha\n",
    "for indice in range(len(teste)):\n",
    "    frase = teste.iloc[indice,0]\n",
    "    #dividindo cada tweet em uma lista com as palavras separadas individualmente\n",
    "    palavras_da_frase = frase.split()\n",
    "\n",
    "    for palavra in palavras_da_frase:\n",
    "        \n",
    "        if palavra in palavras_irrelevantes:\n",
    "        #se a palavra for uma das presentes no grupo de palavras irrelevantes, realiza o cálculo com ela + alpha\n",
    "            probabilidade_da_palavra = P_palavra_dado_irrelevante[palavra]\n",
    "            probabilidade_da_frase += (math.log10(probabilidade_da_palavra))\n",
    "            \n",
    "        else:\n",
    "            # se a palavra não estiver presente no grupo de palavras irrelevantes, realiza o cálculo apenas com o apha\n",
    "            probabilidade_da_palavra = alfa/N_irrelevante_com_alfaV\n",
    "            probabilidade_da_frase += (math.log10(probabilidade_da_palavra))\n",
    "    #guarda a probabilidade do tweet      \n",
    "    tabela_irrelevante[frase] = (probabilidade_da_frase)\n",
    "    probabilidade_da_frase = 0\n",
    "    \n",
    "df1 = pd.DataFrame.from_dict(data = tabela_irrelevante, orient='index').reset_index()\n",
    "df1.columns = ['Tweet', 'Probabilidade dado que é irrelevante']\n",
    "df1.head()\n"
   ]
  },
  {
   "cell_type": "markdown",
   "metadata": {},
   "source": [
    "### Junta resultados"
   ]
  },
  {
   "cell_type": "code",
   "execution_count": 29,
   "metadata": {},
   "outputs": [
    {
     "data": {
      "text/html": [
       "<div>\n",
       "<style scoped>\n",
       "    .dataframe tbody tr th:only-of-type {\n",
       "        vertical-align: middle;\n",
       "    }\n",
       "\n",
       "    .dataframe tbody tr th {\n",
       "        vertical-align: top;\n",
       "    }\n",
       "\n",
       "    .dataframe thead th {\n",
       "        text-align: right;\n",
       "    }\n",
       "</style>\n",
       "<table border=\"1\" class=\"dataframe\">\n",
       "  <thead>\n",
       "    <tr style=\"text-align: right;\">\n",
       "      <th></th>\n",
       "      <th>Teste</th>\n",
       "      <th>Etiquetas</th>\n",
       "      <th>Classificado</th>\n",
       "      <th>Probabilidade dado que é relevante</th>\n",
       "      <th>Probabilidade dado que é irrelevante</th>\n",
       "    </tr>\n",
       "  </thead>\n",
       "  <tbody>\n",
       "    <tr>\n",
       "      <th>0</th>\n",
       "      <td>mt silverio abandona a carreira como dj e vira pro player de valorant em breve nos cinemas</td>\n",
       "      <td>2</td>\n",
       "      <td>Irrelevante</td>\n",
       "      <td>-105.591741</td>\n",
       "      <td>-103.011570</td>\n",
       "    </tr>\n",
       "    <tr>\n",
       "      <th>1</th>\n",
       "      <td>definitivamente o valorant n quer mais me ver jogar é cada bronze com jogatina de imortal q pelamor</td>\n",
       "      <td>1</td>\n",
       "      <td>Relevante</td>\n",
       "      <td>-107.914714</td>\n",
       "      <td>-107.029393</td>\n",
       "    </tr>\n",
       "    <tr>\n",
       "      <th>2</th>\n",
       "      <td>eu jogando valorant com meus amigos eu jogando valorant sozinho https t co esjhdslejb</td>\n",
       "      <td>2</td>\n",
       "      <td>Irrelevante</td>\n",
       "      <td>-81.176654</td>\n",
       "      <td>-78.600558</td>\n",
       "    </tr>\n",
       "    <tr>\n",
       "      <th>3</th>\n",
       "      <td>eu sei que a minha equipa no valorant é má quando sou eu a top fragger</td>\n",
       "      <td>2</td>\n",
       "      <td>Irrelevante</td>\n",
       "      <td>-93.703128</td>\n",
       "      <td>-93.007725</td>\n",
       "    </tr>\n",
       "    <tr>\n",
       "      <th>4</th>\n",
       "      <td>baixei valorant esse foi o erro da noite kkk</td>\n",
       "      <td>1</td>\n",
       "      <td>Relevante</td>\n",
       "      <td>-55.038741</td>\n",
       "      <td>-54.711541</td>\n",
       "    </tr>\n",
       "  </tbody>\n",
       "</table>\n",
       "</div>"
      ],
      "text/plain": [
       "                                                                                                 Teste  \\\n",
       "0           mt silverio abandona a carreira como dj e vira pro player de valorant em breve nos cinemas   \n",
       "1  definitivamente o valorant n quer mais me ver jogar é cada bronze com jogatina de imortal q pelamor   \n",
       "2                eu jogando valorant com meus amigos eu jogando valorant sozinho https t co esjhdslejb   \n",
       "3                               eu sei que a minha equipa no valorant é má quando sou eu a top fragger   \n",
       "4                                                         baixei valorant esse foi o erro da noite kkk   \n",
       "\n",
       "   Etiquetas Classificado  Probabilidade dado que é relevante  \\\n",
       "0          2  Irrelevante                         -105.591741   \n",
       "1          1    Relevante                         -107.914714   \n",
       "2          2  Irrelevante                          -81.176654   \n",
       "3          2  Irrelevante                          -93.703128   \n",
       "4          1    Relevante                          -55.038741   \n",
       "\n",
       "   Probabilidade dado que é irrelevante  \n",
       "0                           -103.011570  \n",
       "1                           -107.029393  \n",
       "2                            -78.600558  \n",
       "3                            -93.007725  \n",
       "4                            -54.711541  "
      ]
     },
     "execution_count": 29,
     "metadata": {},
     "output_type": "execute_result"
    }
   ],
   "source": [
    "#juntando os resultados obtidos\n",
    "novodf2 = pd.concat([teste, df['Probabilidade dado que é relevante'], df1['Probabilidade dado que é irrelevante']], axis=1)\n",
    "novodf2.head()"
   ]
  },
  {
   "cell_type": "markdown",
   "metadata": {},
   "source": [
    "### Gera coluna final para analise"
   ]
  },
  {
   "cell_type": "code",
   "execution_count": 30,
   "metadata": {},
   "outputs": [
    {
     "data": {
      "text/html": [
       "<div>\n",
       "<style scoped>\n",
       "    .dataframe tbody tr th:only-of-type {\n",
       "        vertical-align: middle;\n",
       "    }\n",
       "\n",
       "    .dataframe tbody tr th {\n",
       "        vertical-align: top;\n",
       "    }\n",
       "\n",
       "    .dataframe thead th {\n",
       "        text-align: right;\n",
       "    }\n",
       "</style>\n",
       "<table border=\"1\" class=\"dataframe\">\n",
       "  <thead>\n",
       "    <tr style=\"text-align: right;\">\n",
       "      <th></th>\n",
       "      <th>Teste</th>\n",
       "      <th>Etiquetas</th>\n",
       "      <th>Classificado</th>\n",
       "      <th>Probabilidade dado que é relevante</th>\n",
       "      <th>Probabilidade dado que é irrelevante</th>\n",
       "      <th>Probabilidade dado relevante x Probabilidade de Relevante</th>\n",
       "      <th>Probabilidade dado irrelevante x Probabilidade de Irelevante</th>\n",
       "    </tr>\n",
       "  </thead>\n",
       "  <tbody>\n",
       "    <tr>\n",
       "      <th>0</th>\n",
       "      <td>mt silverio abandona a carreira como dj e vira pro player de valorant em breve nos cinemas</td>\n",
       "      <td>2</td>\n",
       "      <td>Irrelevante</td>\n",
       "      <td>-105.591741</td>\n",
       "      <td>-103.011570</td>\n",
       "      <td>-105.930876</td>\n",
       "      <td>-103.277570</td>\n",
       "    </tr>\n",
       "    <tr>\n",
       "      <th>1</th>\n",
       "      <td>definitivamente o valorant n quer mais me ver jogar é cada bronze com jogatina de imortal q pelamor</td>\n",
       "      <td>1</td>\n",
       "      <td>Relevante</td>\n",
       "      <td>-107.914714</td>\n",
       "      <td>-107.029393</td>\n",
       "      <td>-108.253848</td>\n",
       "      <td>-107.295394</td>\n",
       "    </tr>\n",
       "    <tr>\n",
       "      <th>2</th>\n",
       "      <td>eu jogando valorant com meus amigos eu jogando valorant sozinho https t co esjhdslejb</td>\n",
       "      <td>2</td>\n",
       "      <td>Irrelevante</td>\n",
       "      <td>-81.176654</td>\n",
       "      <td>-78.600558</td>\n",
       "      <td>-81.515789</td>\n",
       "      <td>-78.866558</td>\n",
       "    </tr>\n",
       "    <tr>\n",
       "      <th>3</th>\n",
       "      <td>eu sei que a minha equipa no valorant é má quando sou eu a top fragger</td>\n",
       "      <td>2</td>\n",
       "      <td>Irrelevante</td>\n",
       "      <td>-93.703128</td>\n",
       "      <td>-93.007725</td>\n",
       "      <td>-94.042263</td>\n",
       "      <td>-93.273726</td>\n",
       "    </tr>\n",
       "    <tr>\n",
       "      <th>4</th>\n",
       "      <td>baixei valorant esse foi o erro da noite kkk</td>\n",
       "      <td>1</td>\n",
       "      <td>Relevante</td>\n",
       "      <td>-55.038741</td>\n",
       "      <td>-54.711541</td>\n",
       "      <td>-55.377875</td>\n",
       "      <td>-54.977542</td>\n",
       "    </tr>\n",
       "  </tbody>\n",
       "</table>\n",
       "</div>"
      ],
      "text/plain": [
       "                                                                                                 Teste  \\\n",
       "0           mt silverio abandona a carreira como dj e vira pro player de valorant em breve nos cinemas   \n",
       "1  definitivamente o valorant n quer mais me ver jogar é cada bronze com jogatina de imortal q pelamor   \n",
       "2                eu jogando valorant com meus amigos eu jogando valorant sozinho https t co esjhdslejb   \n",
       "3                               eu sei que a minha equipa no valorant é má quando sou eu a top fragger   \n",
       "4                                                         baixei valorant esse foi o erro da noite kkk   \n",
       "\n",
       "   Etiquetas Classificado  Probabilidade dado que é relevante  \\\n",
       "0          2  Irrelevante                         -105.591741   \n",
       "1          1    Relevante                         -107.914714   \n",
       "2          2  Irrelevante                          -81.176654   \n",
       "3          2  Irrelevante                          -93.703128   \n",
       "4          1    Relevante                          -55.038741   \n",
       "\n",
       "   Probabilidade dado que é irrelevante  \\\n",
       "0                           -103.011570   \n",
       "1                           -107.029393   \n",
       "2                            -78.600558   \n",
       "3                            -93.007725   \n",
       "4                            -54.711541   \n",
       "\n",
       "   Probabilidade dado relevante x Probabilidade de Relevante  \\\n",
       "0                                                -105.930876   \n",
       "1                                                -108.253848   \n",
       "2                                                 -81.515789   \n",
       "3                                                 -94.042263   \n",
       "4                                                 -55.377875   \n",
       "\n",
       "   Probabilidade dado irrelevante x Probabilidade de Irelevante  \n",
       "0                                                   -103.277570  \n",
       "1                                                   -107.295394  \n",
       "2                                                    -78.866558  \n",
       "3                                                    -93.273726  \n",
       "4                                                    -54.977542  "
      ]
     },
     "execution_count": 30,
     "metadata": {},
     "output_type": "execute_result"
    }
   ],
   "source": [
    "#realizando o último procedimento de cálculo\n",
    "novodf2['Probabilidade dado relevante x Probabilidade de Relevante'] = novodf2['Probabilidade dado que é relevante']+math.log10(P_R)\n",
    "novodf2['Probabilidade dado irrelevante x Probabilidade de Irelevante'] = novodf2['Probabilidade dado que é irrelevante']+math.log10(P_R_c)\n",
    "novodf2.head()"
   ]
  },
  {
   "cell_type": "markdown",
   "metadata": {},
   "source": [
    "### Aplica Navy-Bayes"
   ]
  },
  {
   "cell_type": "code",
   "execution_count": 31,
   "metadata": {},
   "outputs": [
    {
     "data": {
      "text/html": [
       "<div>\n",
       "<style scoped>\n",
       "    .dataframe tbody tr th:only-of-type {\n",
       "        vertical-align: middle;\n",
       "    }\n",
       "\n",
       "    .dataframe tbody tr th {\n",
       "        vertical-align: top;\n",
       "    }\n",
       "\n",
       "    .dataframe thead th {\n",
       "        text-align: right;\n",
       "    }\n",
       "</style>\n",
       "<table border=\"1\" class=\"dataframe\">\n",
       "  <thead>\n",
       "    <tr style=\"text-align: right;\">\n",
       "      <th></th>\n",
       "      <th>Teste</th>\n",
       "      <th>Etiquetas</th>\n",
       "      <th>Classificado</th>\n",
       "      <th>Probabilidade dado que é relevante</th>\n",
       "      <th>Probabilidade dado que é irrelevante</th>\n",
       "      <th>Probabilidade dado relevante x Probabilidade de Relevante</th>\n",
       "      <th>Probabilidade dado irrelevante x Probabilidade de Irelevante</th>\n",
       "      <th>Navy Bayes</th>\n",
       "    </tr>\n",
       "  </thead>\n",
       "  <tbody>\n",
       "    <tr>\n",
       "      <th>0</th>\n",
       "      <td>mt silverio abandona a carreira como dj e vira pro player de valorant em breve nos cinemas</td>\n",
       "      <td>2</td>\n",
       "      <td>Irrelevante</td>\n",
       "      <td>-105.591741</td>\n",
       "      <td>-103.011570</td>\n",
       "      <td>-105.930876</td>\n",
       "      <td>-103.277570</td>\n",
       "      <td>Irrelevante</td>\n",
       "    </tr>\n",
       "    <tr>\n",
       "      <th>1</th>\n",
       "      <td>definitivamente o valorant n quer mais me ver jogar é cada bronze com jogatina de imortal q pelamor</td>\n",
       "      <td>1</td>\n",
       "      <td>Relevante</td>\n",
       "      <td>-107.914714</td>\n",
       "      <td>-107.029393</td>\n",
       "      <td>-108.253848</td>\n",
       "      <td>-107.295394</td>\n",
       "      <td>Irrelevante</td>\n",
       "    </tr>\n",
       "    <tr>\n",
       "      <th>2</th>\n",
       "      <td>eu jogando valorant com meus amigos eu jogando valorant sozinho https t co esjhdslejb</td>\n",
       "      <td>2</td>\n",
       "      <td>Irrelevante</td>\n",
       "      <td>-81.176654</td>\n",
       "      <td>-78.600558</td>\n",
       "      <td>-81.515789</td>\n",
       "      <td>-78.866558</td>\n",
       "      <td>Irrelevante</td>\n",
       "    </tr>\n",
       "    <tr>\n",
       "      <th>3</th>\n",
       "      <td>eu sei que a minha equipa no valorant é má quando sou eu a top fragger</td>\n",
       "      <td>2</td>\n",
       "      <td>Irrelevante</td>\n",
       "      <td>-93.703128</td>\n",
       "      <td>-93.007725</td>\n",
       "      <td>-94.042263</td>\n",
       "      <td>-93.273726</td>\n",
       "      <td>Irrelevante</td>\n",
       "    </tr>\n",
       "    <tr>\n",
       "      <th>4</th>\n",
       "      <td>baixei valorant esse foi o erro da noite kkk</td>\n",
       "      <td>1</td>\n",
       "      <td>Relevante</td>\n",
       "      <td>-55.038741</td>\n",
       "      <td>-54.711541</td>\n",
       "      <td>-55.377875</td>\n",
       "      <td>-54.977542</td>\n",
       "      <td>Irrelevante</td>\n",
       "    </tr>\n",
       "  </tbody>\n",
       "</table>\n",
       "</div>"
      ],
      "text/plain": [
       "                                                                                                 Teste  \\\n",
       "0           mt silverio abandona a carreira como dj e vira pro player de valorant em breve nos cinemas   \n",
       "1  definitivamente o valorant n quer mais me ver jogar é cada bronze com jogatina de imortal q pelamor   \n",
       "2                eu jogando valorant com meus amigos eu jogando valorant sozinho https t co esjhdslejb   \n",
       "3                               eu sei que a minha equipa no valorant é má quando sou eu a top fragger   \n",
       "4                                                         baixei valorant esse foi o erro da noite kkk   \n",
       "\n",
       "   Etiquetas Classificado  Probabilidade dado que é relevante  \\\n",
       "0          2  Irrelevante                         -105.591741   \n",
       "1          1    Relevante                         -107.914714   \n",
       "2          2  Irrelevante                          -81.176654   \n",
       "3          2  Irrelevante                          -93.703128   \n",
       "4          1    Relevante                          -55.038741   \n",
       "\n",
       "   Probabilidade dado que é irrelevante  \\\n",
       "0                           -103.011570   \n",
       "1                           -107.029393   \n",
       "2                            -78.600558   \n",
       "3                            -93.007725   \n",
       "4                            -54.711541   \n",
       "\n",
       "   Probabilidade dado relevante x Probabilidade de Relevante  \\\n",
       "0                                                -105.930876   \n",
       "1                                                -108.253848   \n",
       "2                                                 -81.515789   \n",
       "3                                                 -94.042263   \n",
       "4                                                 -55.377875   \n",
       "\n",
       "   Probabilidade dado irrelevante x Probabilidade de Irelevante   Navy Bayes  \n",
       "0                                                   -103.277570  Irrelevante  \n",
       "1                                                   -107.295394  Irrelevante  \n",
       "2                                                    -78.866558  Irrelevante  \n",
       "3                                                    -93.273726  Irrelevante  \n",
       "4                                                    -54.977542  Irrelevante  "
      ]
     },
     "execution_count": 31,
     "metadata": {},
     "output_type": "execute_result"
    }
   ],
   "source": [
    "#aplicando a compararação para verificar qual é relevante e qual é o irrelevante de acordo com as probabilidades\n",
    "novodf2['Navy Bayes'] = np.where(novodf2['Probabilidade dado relevante x Probabilidade de Relevante'] > novodf2['Probabilidade dado irrelevante x Probabilidade de Irelevante'], 'Relevante', 'Irrelevante')\n",
    "novodf2.head()"
   ]
  },
  {
   "cell_type": "markdown",
   "metadata": {},
   "source": [
    "## Verificando o resultado do teste"
   ]
  },
  {
   "cell_type": "code",
   "execution_count": 32,
   "metadata": {},
   "outputs": [
    {
     "data": {
      "text/plain": [
       "Irrelevante    42\n",
       "Relevante       5\n",
       "Name: Navy Bayes, dtype: int64"
      ]
     },
     "execution_count": 32,
     "metadata": {},
     "output_type": "execute_result"
    }
   ],
   "source": [
    "novodf2['Navy Bayes'].value_counts()"
   ]
  },
  {
   "cell_type": "code",
   "execution_count": 33,
   "metadata": {},
   "outputs": [
    {
     "data": {
      "text/html": [
       "<div>\n",
       "<style scoped>\n",
       "    .dataframe tbody tr th:only-of-type {\n",
       "        vertical-align: middle;\n",
       "    }\n",
       "\n",
       "    .dataframe tbody tr th {\n",
       "        vertical-align: top;\n",
       "    }\n",
       "\n",
       "    .dataframe thead th {\n",
       "        text-align: right;\n",
       "    }\n",
       "</style>\n",
       "<table border=\"1\" class=\"dataframe\">\n",
       "  <thead>\n",
       "    <tr style=\"text-align: right;\">\n",
       "      <th>Navy Bayes</th>\n",
       "      <th>Irrelevante</th>\n",
       "      <th>Relevante</th>\n",
       "    </tr>\n",
       "    <tr>\n",
       "      <th>Classificado</th>\n",
       "      <th></th>\n",
       "      <th></th>\n",
       "    </tr>\n",
       "  </thead>\n",
       "  <tbody>\n",
       "    <tr>\n",
       "      <th>Irrelevante</th>\n",
       "      <td>0.382979</td>\n",
       "      <td>0.063830</td>\n",
       "    </tr>\n",
       "    <tr>\n",
       "      <th>Relevante</th>\n",
       "      <td>0.510638</td>\n",
       "      <td>0.042553</td>\n",
       "    </tr>\n",
       "  </tbody>\n",
       "</table>\n",
       "</div>"
      ],
      "text/plain": [
       "Navy Bayes    Irrelevante  Relevante\n",
       "Classificado                        \n",
       "Irrelevante      0.382979   0.063830\n",
       "Relevante        0.510638   0.042553"
      ]
     },
     "execution_count": 33,
     "metadata": {},
     "output_type": "execute_result"
    }
   ],
   "source": [
    "#comparando os resultados da classicação entre o manual e o Navy Bayes por meio do CrossTab\n",
    "tabela2 = pd.crosstab(novodf2.Classificado, novodf2['Navy Bayes'], normalize=True)\n",
    "tabela2"
   ]
  },
  {
   "cell_type": "code",
   "execution_count": 34,
   "metadata": {},
   "outputs": [
    {
     "name": "stdout",
     "output_type": "stream",
     "text": [
      "A porcentagem de verdadeiros positivos é: 4.255%\n",
      "\n",
      "A porcentagem de falsos positivos é: 51.064%\n",
      "\n",
      "A porcentagem de verdadeiros negativos é: 38.298%\n",
      "\n",
      "A porcentagem de falsos negativos é: 6.383%\n",
      "\n"
     ]
    }
   ],
   "source": [
    "verdadeiros_positivos2 = tabela2.iloc[1,1]*100\n",
    "falsos_positivos2 = tabela2.iloc[1,0]*100\n",
    "verdadeiros_negativos2 = tabela2.iloc[0,0]*100\n",
    "falsos_negativos2 = tabela2.iloc[0,1]*100\n",
    "\n",
    "print('A porcentagem de verdadeiros positivos é: {:.3f}%\\n'.format(verdadeiros_positivos2))\n",
    "print('A porcentagem de falsos positivos é: {:.3f}%\\n'.format(falsos_positivos2))\n",
    "print('A porcentagem de verdadeiros negativos é: {:.3f}%\\n'.format(verdadeiros_negativos2))\n",
    "print('A porcentagem de falsos negativos é: {:.3f}%\\n'.format(falsos_negativos2))"
   ]
  },
  {
   "cell_type": "code",
   "execution_count": 35,
   "metadata": {},
   "outputs": [
    {
     "data": {
      "text/plain": [
       "0.425531914893617"
      ]
     },
     "execution_count": 35,
     "metadata": {},
     "output_type": "execute_result"
    }
   ],
   "source": [
    "precisao = tabela2.iloc[0,0] + tabela2.iloc[1,1]\n",
    "precisao"
   ]
  },
  {
   "cell_type": "markdown",
   "metadata": {},
   "source": [
    "## Conclusão"
   ]
  },
  {
   "cell_type": "markdown",
   "metadata": {},
   "source": [
    "Por meio dos resultados obtidos no treino, ficou evidente que a perfomance do classificador não é muito boa. Apesar de um acerto total de 54% na classificação dos tweets, ele acertou quase todos os irrelevantes, mas errou a grande maioria dos tweets relevantes.\n",
    "\n",
    "As mensagens de sarcamos e duplo sentido não tem sua conotação interpretada pelo Naive Bayes. Ele apenas leva em consideração cada palavra como algo independente, então o contexto é ignorado e assim o sarcasmo e duplo sentido também.\n",
    "\n",
    "**Plano de Expansão**\n",
    "**Sugerir melhorias**\n",
    "\n",
    "Não é possível alimentar a base de treinamento automaticamente utilizando o próprio classificador e aplicando a novos tweets porque diversas palavras do teste não estarão presentes no treino, e graças a isso, a taxa de acertos diminuirão notávelmente.\n",
    "\n",
    "O classificador Naive Bayes pode ser utilizado em diversos contextos, como:\n",
    "\n",
    "No jogo do prêmio escondido atrás de uma porta em que o jogador precisa escolher a porta, jogo comum em programas de televisão, o Naive Bayes pode ser aplicado pra descobrir a probabilidade de o prêmio estar atrás da porta dado que o apresentador perguntou se o jogador quer trocar de porta.\n",
    "\n",
    "Descobrir se você está com uma doença dado que um exame foi positivo (Isso porque existe a probabilidade do exame estar errado)\n",
    "\n"
   ]
  },
  {
   "cell_type": "markdown",
   "metadata": {},
   "source": [
    "## Graficos comparativo"
   ]
  },
  {
   "cell_type": "markdown",
   "metadata": {},
   "source": [
    "* Fonte utilizada para elaboração de graficos agrupados: https://matplotlib.org/3.1.1/gallery/lines_bars_and_markers/barchart.html#sphx-glr-gallery-lines-bars-and-markers-barchart-py\n",
    "\n",
    "* Fonte utilizada para customizar anotações: https://matplotlib.org/api/_as_gen/matplotlib.axes.Axes.annotate.html"
   ]
  },
  {
   "cell_type": "markdown",
   "metadata": {},
   "source": [
    "### Grafico do Treinamento"
   ]
  },
  {
   "cell_type": "code",
   "execution_count": 36,
   "metadata": {},
   "outputs": [],
   "source": [
    "import matplotlib.pyplot as plt\n",
    "%matplotlib inline"
   ]
  },
  {
   "cell_type": "code",
   "execution_count": 37,
   "metadata": {},
   "outputs": [
    {
     "data": {
      "image/png": "[encoded data removed]",
      "text/plain": [
       "<Figure size 864x504 with 1 Axes>"
      ]
     },
     "metadata": {
      "needs_background": "light"
     },
     "output_type": "display_data"
    }
   ],
   "source": [
    "gabarito = novodf.Classificado.value_counts()\n",
    "treino = novodf['Navy Bayes'].value_counts()\n",
    "\n",
    "fig = plt.figure(figsize=(12,7))\n",
    "\n",
    "ax = fig.add_axes([0,0,1,1])\n",
    "\n",
    "relevante_gabarito = [gabarito[1], gabarito[0]]\n",
    "relevante_algoritmo = [treino[1], treino[0]]\n",
    "\n",
    "\n",
    "label = ['Relevante', 'Irrelevante']\n",
    "x = np.arange(len(label))\n",
    "largura = 0.25\n",
    "\n",
    "rects1 = ax.bar(x - largura/2, relevante_gabarito, largura, label=\"Gabarito\", color='royalblue')\n",
    "rects2 = ax.bar(x + largura/2, relevante_algoritmo, largura, label=\"Modelo\", color='red')\n",
    "\n",
    "ax.set_title('Grafico comparativo dos resultados Obtidos no treinamento', fontsize=20, pad=20, fontweight='bold')\n",
    "ax.set_ylabel('Quantidade', fontsize=15, labelpad=15, fontweight='bold')\n",
    "ax.set_xticks(x)\n",
    "ax.set_xticklabels(label, fontsize=20, fontweight='bold')\n",
    "ax.tick_params(labelsize=15)\n",
    "ax.legend(fontsize=20)\n",
    "\n",
    "def autolabel(rects):\n",
    "    \n",
    "    for rect in rects:\n",
    "        height = rect.get_height()\n",
    "        ax.annotate('{}'.format(height),\n",
    "                    xy=(rect.get_x() + rect.get_width() / 2, height),\n",
    "                    xytext=(0, 3),  # 3 points vertical offset\n",
    "                    textcoords=\"offset points\",\n",
    "                    ha='center', va='bottom', fontsize=15)\n",
    "\n",
    "autolabel(rects1)\n",
    "autolabel(rects2)\n"
   ]
  },
  {
   "cell_type": "markdown",
   "metadata": {},
   "source": [
    "### Grafico do Teste"
   ]
  },
  {
   "cell_type": "code",
   "execution_count": 38,
   "metadata": {},
   "outputs": [
    {
     "data": {
      "image/png": "[encoded data removed]",
      "text/plain": [
       "<Figure size 864x504 with 1 Axes>"
      ]
     },
     "metadata": {
      "needs_background": "light"
     },
     "output_type": "display_data"
    }
   ],
   "source": [
    "gabarito2 = novodf2.Classificado.value_counts()\n",
    "teste = novodf2['Navy Bayes'].value_counts()\n",
    "\n",
    "\n",
    "fig = plt.figure(figsize=(12,7))\n",
    "\n",
    "ax = fig.add_axes([0,0,1,1])\n",
    "\n",
    "relevante_gabarito2 = [gabarito2[1], gabarito2[0]]\n",
    "relevante_algoritmo2 = [teste[1], teste[0]]\n",
    "\n",
    "\n",
    "label = ['Relevante', 'Irrelevante']\n",
    "x = np.arange(len(label))\n",
    "largura = 0.25\n",
    "\n",
    "rects12 = ax.bar(x - largura/2, relevante_gabarito2, largura, label=\"Gabarito\", color='royalblue')\n",
    "rects22 = ax.bar(x + largura/2, relevante_algoritmo2, largura, label=\"Modelo\", color='red')\n",
    "\n",
    "ax.set_title('Grafico comparativo dos resultados Obtidos no Teste', fontsize=20, pad=20, fontweight='bold')\n",
    "ax.set_ylabel('Quantidade', fontsize=15, labelpad=15, fontweight='bold')\n",
    "ax.set_xticks(x)\n",
    "ax.set_xticklabels(label, fontsize=20, fontweight='bold')\n",
    "ax.tick_params(labelsize=15)\n",
    "ax.legend(fontsize=20)\n",
    "\n",
    "def autolabel(rects):\n",
    "    \n",
    "    for rect in rects:\n",
    "        height = rect.get_height()\n",
    "        ax.annotate('{}'.format(height),\n",
    "                    xy=(rect.get_x() + rect.get_width() / 2, height),\n",
    "                    xytext=(0, 3),  # 3 points vertical offset\n",
    "                    textcoords=\"offset points\",\n",
    "                    ha='center', va='bottom', fontsize=15)\n",
    "\n",
    "autolabel(rects12)\n",
    "autolabel(rects22)\n",
    "\n",
    "plt.show()"
   ]
  },
  {
   "cell_type": "code",
   "execution_count": null,
   "metadata": {},
   "outputs": [],
   "source": []
  },
  {
   "cell_type": "code",
   "execution_count": null,
   "metadata": {},
   "outputs": [],
   "source": []
  }
 ],
 "metadata": {
  "kernelspec": {
   "display_name": "Python 3",
   "language": "python",
   "name": "python3"
  },
  "language_info": {
   "codemirror_mode": {
    "name": "ipython",
    "version": 3
   },
   "file_extension": ".py",
   "mimetype": "text/x-python",
   "name": "python",
   "nbconvert_exporter": "python",
   "pygments_lexer": "ipython3",
   "version": "3.7.6"
  }
 },
 "nbformat": 4,
 "nbformat_minor": 4
}
