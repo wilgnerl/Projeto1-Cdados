{
 "cells": [
  {
   "cell_type": "markdown",
   "metadata": {},
   "source": [
    "# Projeto 1 - Classificador Naive-Bayes com Tweets\n"
   ]
  },
  {
   "cell_type": "markdown",
   "metadata": {},
   "source": [
    "## Objetivo\n",
    "\n",
    "* Você foi contratado por uma empresa parar analisar como os clientes estão reagindo a um determinado produto no Twitter. A empresa deseja que você crie um programa selecionealgumas mensagens disponíveis no Twitter que mencionam esse produto e classifique-as como\"relevante\" ou \"irrelevante\".\n",
    "\n",
    "* Com isso, essa empresa deseja que mensagens relevantes, que denigrem o nome do produto, ou que mereçam destaque, disparem um foco de atenção da área de marketing.\n",
    "\n",
    "* Como aluno de Ciência dos Dados, você lembrou do Teorema de Bayes, mais especificamentedo Classificador Naive-Bayes, que é largamente utilizado em filtros anti-spam de e-mails, porexemplo. Esse classificador permite calcular qual a probabilidade de uma mensagem ser relevante dada as palavras em seu conteúdo.\n",
    "\n",
    "* Para realizar o MVP (minimum viable product) do projeto, você precisa implementar umaversão do classificador que \"aprende\" o que é relevante com uma base de treinamento e compara a performance dos resultados com uma base de testes.\n",
    "\n",
    "* Após validado, o seu protótipo poderá também capturar e classificar automaticamente as mensagens da plataforma."
   ]
  },
  {
   "cell_type": "markdown",
   "metadata": {},
   "source": [
    "## Integrantes do Projeto\n",
    "\n",
    "**Nome:** Wilgner Lopes Araujo\n",
    "\n",
    "**Nome:** Fabricio Neri Lima"
   ]
  },
  {
   "cell_type": "markdown",
   "metadata": {},
   "source": [
    "## Informações relevantes\n",
    "\n",
    "* Esse arquivo representa a ultima etapa do projeto onde haverá todas as etapas de cleaning da base de dados e implantação do algoritmo de classificação\n",
    "\n",
    "* O arquivo que pesquisa os tweets esta na pasta Arquivo Jupyter/Projeto1_Obtenção_dos_tweets nessa mesma raiz do repositório\n",
    "\n",
    "* A base de dados se encontra na pasta dados/Valorant.xlsx\n",
    "\n",
    "* A conta utiliza no twitter para obtenção de dados é @AnalyticsInsper\n",
    "\n",
    "* O produto escolhido para o projeto é : **Valorant**\n",
    "\n",
    "* Os criterios para a classificação dos tweets na primeira etapa do projeto foram: Os tweets que falavam de alguma forma positiva ou negativa sobre o jogo ou até mesmo que relacionavam o jogo a alguma emoção, foram classificados como relevantes. Os demais foram classificados como Irrelevantes.\n"
   ]
  },
  {
   "cell_type": "markdown",
   "metadata": {},
   "source": [
    "# Começando"
   ]
  },
  {
   "cell_type": "markdown",
   "metadata": {},
   "source": [
    "## Declarando as bibliotecas"
   ]
  },
  {
   "cell_type": "code",
   "execution_count": 1,
   "metadata": {},
   "outputs": [],
   "source": [
    "import math\n",
    "import numpy as np\n",
    "import pandas as pd\n",
    "import re\n",
    "import functools\n",
    "import operator\n",
    "import emoji"
   ]
  },
  {
   "cell_type": "markdown",
   "metadata": {},
   "source": [
    "## Abrindo a base de dados e visualizando os primeiros 5 termos"
   ]
  },
  {
   "cell_type": "code",
   "execution_count": 2,
   "metadata": {},
   "outputs": [
    {
     "data": {
      "text/html": [
       "<div>\n",
       "<style scoped>\n",
       "    .dataframe tbody tr th:only-of-type {\n",
       "        vertical-align: middle;\n",
       "    }\n",
       "\n",
       "    .dataframe tbody tr th {\n",
       "        vertical-align: top;\n",
       "    }\n",
       "\n",
       "    .dataframe thead th {\n",
       "        text-align: right;\n",
       "    }\n",
       "</style>\n",
       "<table border=\"1\" class=\"dataframe\">\n",
       "  <thead>\n",
       "    <tr style=\"text-align: right;\">\n",
       "      <th></th>\n",
       "      <th>Treinamento</th>\n",
       "      <th>Etiquetas</th>\n",
       "      <th>Classificado</th>\n",
       "    </tr>\n",
       "  </thead>\n",
       "  <tbody>\n",
       "    <tr>\n",
       "      <th>0</th>\n",
       "      <td>@caos__0 eu no valorant :v\\nfon</td>\n",
       "      <td>2</td>\n",
       "      <td>Irrelevante</td>\n",
       "    </tr>\n",
       "    <tr>\n",
       "      <th>1</th>\n",
       "      <td>o cara q pra mim é o melhor player de valorant...</td>\n",
       "      <td>2</td>\n",
       "      <td>Irrelevante</td>\n",
       "    </tr>\n",
       "    <tr>\n",
       "      <th>2</th>\n",
       "      <td>mano algm upa meu passe no valorant na humildade</td>\n",
       "      <td>2</td>\n",
       "      <td>Irrelevante</td>\n",
       "    </tr>\n",
       "    <tr>\n",
       "      <th>3</th>\n",
       "      <td>deletei o valorant, agora meu pc volta a ligar...</td>\n",
       "      <td>1</td>\n",
       "      <td>Relevante</td>\n",
       "    </tr>\n",
       "    <tr>\n",
       "      <th>4</th>\n",
       "      <td>quem tiver pc baixa valorant nessa porr que eu...</td>\n",
       "      <td>1</td>\n",
       "      <td>Relevante</td>\n",
       "    </tr>\n",
       "  </tbody>\n",
       "</table>\n",
       "</div>"
      ],
      "text/plain": [
       "                                         Treinamento  Etiquetas Classificado\n",
       "0                    @caos__0 eu no valorant :v\\nfon          2  Irrelevante\n",
       "1  o cara q pra mim é o melhor player de valorant...          2  Irrelevante\n",
       "2   mano algm upa meu passe no valorant na humildade          2  Irrelevante\n",
       "3  deletei o valorant, agora meu pc volta a ligar...          1    Relevante\n",
       "4  quem tiver pc baixa valorant nessa porr que eu...          1    Relevante"
      ]
     },
     "execution_count": 2,
     "metadata": {},
     "output_type": "execute_result"
    }
   ],
   "source": [
    "dados = pd.read_excel('../dados/Valorant.xlsx')\n",
    "dados.head()"
   ]
  },
  {
   "cell_type": "markdown",
   "metadata": {},
   "source": [
    "## Informações do DataFrame"
   ]
  },
  {
   "cell_type": "code",
   "execution_count": 3,
   "metadata": {},
   "outputs": [
    {
     "name": "stdout",
     "output_type": "stream",
     "text": [
      "<class 'pandas.core.frame.DataFrame'>\n",
      "RangeIndex: 500 entries, 0 to 499\n",
      "Data columns (total 3 columns):\n",
      " #   Column        Non-Null Count  Dtype \n",
      "---  ------        --------------  ----- \n",
      " 0   Treinamento   500 non-null    object\n",
      " 1   Etiquetas     500 non-null    int64 \n",
      " 2   Classificado  500 non-null    object\n",
      "dtypes: int64(1), object(2)\n",
      "memory usage: 11.8+ KB\n"
     ]
    }
   ],
   "source": [
    "dados.info()"
   ]
  },
  {
   "cell_type": "markdown",
   "metadata": {},
   "source": [
    "## Classificando \n",
    "\n",
    "* A coluna Treinamento e Classificado são categoricas, pois ambas são variaveis qualitativas nominais"
   ]
  },
  {
   "cell_type": "code",
   "execution_count": 4,
   "metadata": {},
   "outputs": [],
   "source": [
    "dados['Treinamento'] = dados['Treinamento'].astype('category')\n",
    "dados['Classificado'] = dados['Classificado'].astype('category')"
   ]
  },
  {
   "cell_type": "markdown",
   "metadata": {},
   "source": [
    "## Iniciando as coletas de probabilidades"
   ]
  },
  {
   "cell_type": "markdown",
   "metadata": {},
   "source": [
    "### Analisando frequencia de Relevante e Irrelevante na base de dados"
   ]
  },
  {
   "cell_type": "code",
   "execution_count": 5,
   "metadata": {},
   "outputs": [
    {
     "data": {
      "text/plain": [
       "Irrelevante    0.542\n",
       "Relevante      0.458\n",
       "Name: Classificado, dtype: float64"
      ]
     },
     "execution_count": 5,
     "metadata": {},
     "output_type": "execute_result"
    }
   ],
   "source": [
    "Probabilidade_total = dados.Classificado.value_counts(True)\n",
    "Probabilidade_total"
   ]
  },
  {
   "cell_type": "markdown",
   "metadata": {},
   "source": [
    "## Declarando as variaveis de probabilidade\n",
    "\n",
    "* Considere P(R) para probabilidade de ser Relevante\n",
    "* Considere P(R_c) para probabilidade de ser Irrelevante"
   ]
  },
  {
   "cell_type": "code",
   "execution_count": 6,
   "metadata": {},
   "outputs": [],
   "source": [
    "P_R_c = Probabilidade_total[0]\n",
    "P_R = Probabilidade_total[1]"
   ]
  },
  {
   "cell_type": "markdown",
   "metadata": {},
   "source": [
    "## Antes de prosseguir vamos limpar o codigo\n",
    "\n",
    "* Será removido os seguintes simbolos: \\n, :, \", ', (,), ., ;, :, ?, !, <, >, "
   ]
  },
  {
   "cell_type": "code",
   "execution_count": 7,
   "metadata": {},
   "outputs": [],
   "source": [
    "def limpa_texto(text):\n",
    "    \n",
    "    #import string\n",
    "    punctuation = '[!-.:?;@_,<>/\\)(#%$|\\n]' # Note que os sinais [] são delimitadores de um conjunto.\n",
    "    pattern = re.compile(punctuation)\n",
    "    text_subbed = re.sub(pattern, '', text)\n",
    "    return text_subbed"
   ]
  },
  {
   "cell_type": "markdown",
   "metadata": {},
   "source": [
    "## Alem disso vamos espaçar os emojis entre si\n",
    "\n",
    "* O codigo utilizado foi extraido e modificado do seguinte site: https://stackoverflow.com/questions/49921720/how-to-split-emoji-from-each-other-python\n",
    "\n",
    "* O codigo utiliza a biblioteca emoji, functools, operator para atingir o objetivo de separar os emojis"
   ]
  },
  {
   "cell_type": "code",
   "execution_count": 8,
   "metadata": {},
   "outputs": [],
   "source": [
    "def separa_emoji(text):\n",
    "    frase = text\n",
    "    frase_split_emoji = emoji.get_emoji_regexp().split(frase)\n",
    "    frase_split_com_espaço_em_branco = [substr.split() for substr in frase_split_emoji]\n",
    "    frase_split = functools.reduce(operator.concat, frase_split_com_espaço_em_branco)\n",
    "    frase_espacada = ' '.join(frase_split)\n",
    "    return frase_espacada"
   ]
  },
  {
   "cell_type": "markdown",
   "metadata": {},
   "source": [
    "## Aplicando a função de limpeza na base de dados"
   ]
  },
  {
   "cell_type": "code",
   "execution_count": 9,
   "metadata": {},
   "outputs": [],
   "source": [
    "dados['Treinamento'] = dados['Treinamento'].apply(limpa_texto)\n",
    "dados['Treinamento'] = dados['Treinamento'].apply(separa_emoji)"
   ]
  },
  {
   "cell_type": "code",
   "execution_count": 23,
   "metadata": {},
   "outputs": [
    {
     "data": {
      "text/html": [
       "<div>\n",
       "<style scoped>\n",
       "    .dataframe tbody tr th:only-of-type {\n",
       "        vertical-align: middle;\n",
       "    }\n",
       "\n",
       "    .dataframe tbody tr th {\n",
       "        vertical-align: top;\n",
       "    }\n",
       "\n",
       "    .dataframe thead th {\n",
       "        text-align: right;\n",
       "    }\n",
       "</style>\n",
       "<table border=\"1\" class=\"dataframe\">\n",
       "  <thead>\n",
       "    <tr style=\"text-align: right;\">\n",
       "      <th></th>\n",
       "      <th>Treinamento</th>\n",
       "      <th>Etiquetas</th>\n",
       "      <th>Classificado</th>\n",
       "    </tr>\n",
       "  </thead>\n",
       "  <tbody>\n",
       "    <tr>\n",
       "      <th>475</th>\n",
       "      <td>rt vinibq novidade quentíssima para as lives agora sim meu subs estarão trajados para assistir gameplay de valorantrebecachuffi…</td>\n",
       "      <td>2</td>\n",
       "      <td>Irrelevante</td>\n",
       "    </tr>\n",
       "    <tr>\n",
       "      <th>476</th>\n",
       "      <td>sempre q eu jogo normal gamezin no valorant sempre tem um cara mt baludo no outro time</td>\n",
       "      <td>1</td>\n",
       "      <td>Relevante</td>\n",
       "    </tr>\n",
       "    <tr>\n",
       "      <th>477</th>\n",
       "      <td>rt diogogmachadof valorant é um jogo de corno</td>\n",
       "      <td>1</td>\n",
       "      <td>Relevante</td>\n",
       "    </tr>\n",
       "    <tr>\n",
       "      <th>478</th>\n",
       "      <td>thereishai vamos mais tarde um valorant</td>\n",
       "      <td>2</td>\n",
       "      <td>Irrelevante</td>\n",
       "    </tr>\n",
       "    <tr>\n",
       "      <th>479</th>\n",
       "      <td>nichoneves salvitheminer notisxbella eu jogo mas vc tem q ir uma de valorant cmg 😎 🍃</td>\n",
       "      <td>2</td>\n",
       "      <td>Irrelevante</td>\n",
       "    </tr>\n",
       "    <tr>\n",
       "      <th>480</th>\n",
       "      <td>larguei fortnite fdc valorant eh mt melhor</td>\n",
       "      <td>1</td>\n",
       "      <td>Relevante</td>\n",
       "    </tr>\n",
       "    <tr>\n",
       "      <th>481</th>\n",
       "      <td>segue aí conta diretamente à valorant</td>\n",
       "      <td>2</td>\n",
       "      <td>Irrelevante</td>\n",
       "    </tr>\n",
       "    <tr>\n",
       "      <th>482</th>\n",
       "      <td>hwllraiserz amigo saí dessa vida só vou se for valorant</td>\n",
       "      <td>2</td>\n",
       "      <td>Irrelevante</td>\n",
       "    </tr>\n",
       "    <tr>\n",
       "      <th>483</th>\n",
       "      <td>1kingbr mano vários jogos ficaram off valorant e r6 tbm 🤦🏾‍♂️ 🤦🏾‍♂️</td>\n",
       "      <td>2</td>\n",
       "      <td>Irrelevante</td>\n",
       "    </tr>\n",
       "    <tr>\n",
       "      <th>484</th>\n",
       "      <td>victorkeos riotgamesbrasil riotgames lolegendsbr leagueoflegends o melhor é q tinha uma página no insta vendendo rp barato ai fui ver o perfil pra denunciar eles vendiam smurfs de valorant e skins prestígio tipo vei</td>\n",
       "      <td>2</td>\n",
       "      <td>Irrelevante</td>\n",
       "    </tr>\n",
       "    <tr>\n",
       "      <th>485</th>\n",
       "      <td>rt glaucialemos86 desisto de jogar valorant online no competitivo joguei de sage abati 10 e dei 6 de assistência mesmo assim tinha u…</td>\n",
       "      <td>2</td>\n",
       "      <td>Irrelevante</td>\n",
       "    </tr>\n",
       "    <tr>\n",
       "      <th>486</th>\n",
       "      <td>flirtwithdead ahaha eu digo isto pq n nem sei jogar e n tenho amigos nesse jogo pq joga só fifa ou cs e valorant 😭</td>\n",
       "      <td>2</td>\n",
       "      <td>Irrelevante</td>\n",
       "    </tr>\n",
       "    <tr>\n",
       "      <th>487</th>\n",
       "      <td>sofiaespanha agostini2002 rmão eu nem jogo valoranteu sou de outro fpsmas por acaso esse post veio parar aq e eu faço questão de marcar a riotgamesbrasil valorantbrasil aqui nesse poste depois me certifico de reportar esse mlkatitude tóxica de pessoas q n deveriam nem existir em games</td>\n",
       "      <td>2</td>\n",
       "      <td>Irrelevante</td>\n",
       "    </tr>\n",
       "    <tr>\n",
       "      <th>488</th>\n",
       "      <td>coisas inúteis sobre mimaltura — 166idade — 18tamanho do pé — 4041 😭 signo — capricórniotatuagens — 0piercing — 0cor fav — azulsérie fav — love victoranimal fav — todoscomida fav ー macarronadabebida fav — suco de maracujájogo fav — valorant httpstcogqmfbkkr3p</td>\n",
       "      <td>2</td>\n",
       "      <td>Irrelevante</td>\n",
       "    </tr>\n",
       "    <tr>\n",
       "      <th>489</th>\n",
       "      <td>anti do valorant funcionando legal so o meu time todo travando e teleportando na direcao do time inimigo</td>\n",
       "      <td>1</td>\n",
       "      <td>Relevante</td>\n",
       "    </tr>\n",
       "    <tr>\n",
       "      <th>490</th>\n",
       "      <td>vou dormir um pouco se vazar skin nova do valorant espero que meus amigos lindos me mandem</td>\n",
       "      <td>2</td>\n",
       "      <td>Irrelevante</td>\n",
       "    </tr>\n",
       "    <tr>\n",
       "      <th>491</th>\n",
       "      <td>gabrielzurmely thaliciaa me da skin no valorant que te ajudo com ela</td>\n",
       "      <td>2</td>\n",
       "      <td>Irrelevante</td>\n",
       "    </tr>\n",
       "    <tr>\n",
       "      <th>492</th>\n",
       "      <td>caraio eu fui jogar um valorant hj e foi so arrependimento n joguei porra nenhuma e pqp como eu to possesso de raiva</td>\n",
       "      <td>2</td>\n",
       "      <td>Irrelevante</td>\n",
       "    </tr>\n",
       "    <tr>\n",
       "      <th>493</th>\n",
       "      <td>andre1tv player oldschool com disciplina e garra na mesma pegada joga muito e é dedicado como poucos qualquer time de valorant só tem a ganhar com ele quando ele tiver em time top br não vem reclamar depois tá bom dia httpstcoxbypqekvyu</td>\n",
       "      <td>2</td>\n",
       "      <td>Irrelevante</td>\n",
       "    </tr>\n",
       "    <tr>\n",
       "      <th>494</th>\n",
       "      <td>ontem subi a prata 1 no valorant e hj já subi pra prata 2 graças ao meu perfeito namorado ❤️</td>\n",
       "      <td>1</td>\n",
       "      <td>Relevante</td>\n",
       "    </tr>\n",
       "    <tr>\n",
       "      <th>495</th>\n",
       "      <td>rt patochovsk 💥 sorteio de valorant points 💥 haverá 2 ganhadoresganhador 1 5550 valorant pointsganhador 2 5550 valorant points 💥 quanto…</td>\n",
       "      <td>2</td>\n",
       "      <td>Irrelevante</td>\n",
       "    </tr>\n",
       "    <tr>\n",
       "      <th>496</th>\n",
       "      <td>girafodott valorant tbm</td>\n",
       "      <td>2</td>\n",
       "      <td>Irrelevante</td>\n",
       "    </tr>\n",
       "    <tr>\n",
       "      <th>497</th>\n",
       "      <td>jogador de lol foi jogar valorant veja o que rolou</td>\n",
       "      <td>2</td>\n",
       "      <td>Irrelevante</td>\n",
       "    </tr>\n",
       "    <tr>\n",
       "      <th>498</th>\n",
       "      <td>alô valorant encontro partida nunca 20 minutos na fila kkkk</td>\n",
       "      <td>1</td>\n",
       "      <td>Relevante</td>\n",
       "    </tr>\n",
       "    <tr>\n",
       "      <th>499</th>\n",
       "      <td>quem vai jogar um valorant cmg hj</td>\n",
       "      <td>1</td>\n",
       "      <td>Relevante</td>\n",
       "    </tr>\n",
       "  </tbody>\n",
       "</table>\n",
       "</div>"
      ],
      "text/plain": [
       "                                                                                                                                                                                                                                                                                       Treinamento  \\\n",
       "475                                                                                                                                                               rt vinibq novidade quentíssima para as lives agora sim meu subs estarão trajados para assistir gameplay de valorantrebecachuffi…   \n",
       "476                                                                                                                                                                                                         sempre q eu jogo normal gamezin no valorant sempre tem um cara mt baludo no outro time   \n",
       "477                                                                                                                                                                                                                                                  rt diogogmachadof valorant é um jogo de corno   \n",
       "478                                                                                                                                                                                                                                                        thereishai vamos mais tarde um valorant   \n",
       "479                                                                                                                                                                                                           nichoneves salvitheminer notisxbella eu jogo mas vc tem q ir uma de valorant cmg 😎 🍃   \n",
       "480                                                                                                                                                                                                                                                     larguei fortnite fdc valorant eh mt melhor   \n",
       "481                                                                                                                                                                                                                                                          segue aí conta diretamente à valorant   \n",
       "482                                                                                                                                                                                                                                        hwllraiserz amigo saí dessa vida só vou se for valorant   \n",
       "483                                                                                                                                                                                                                            1kingbr mano vários jogos ficaram off valorant e r6 tbm 🤦🏾‍♂️ 🤦🏾‍♂️   \n",
       "484                                                                        victorkeos riotgamesbrasil riotgames lolegendsbr leagueoflegends o melhor é q tinha uma página no insta vendendo rp barato ai fui ver o perfil pra denunciar eles vendiam smurfs de valorant e skins prestígio tipo vei   \n",
       "485                                                                                                                                                          rt glaucialemos86 desisto de jogar valorant online no competitivo joguei de sage abati 10 e dei 6 de assistência mesmo assim tinha u…   \n",
       "486                                                                                                                                                                             flirtwithdead ahaha eu digo isto pq n nem sei jogar e n tenho amigos nesse jogo pq joga só fifa ou cs e valorant 😭   \n",
       "487  sofiaespanha agostini2002 rmão eu nem jogo valoranteu sou de outro fpsmas por acaso esse post veio parar aq e eu faço questão de marcar a riotgamesbrasil valorantbrasil aqui nesse poste depois me certifico de reportar esse mlkatitude tóxica de pessoas q n deveriam nem existir em games   \n",
       "488                            coisas inúteis sobre mimaltura — 166idade — 18tamanho do pé — 4041 😭 signo — capricórniotatuagens — 0piercing — 0cor fav — azulsérie fav — love victoranimal fav — todoscomida fav ー macarronadabebida fav — suco de maracujájogo fav — valorant httpstcogqmfbkkr3p   \n",
       "489                                                                                                                                                                                       anti do valorant funcionando legal so o meu time todo travando e teleportando na direcao do time inimigo   \n",
       "490                                                                                                                                                                                                     vou dormir um pouco se vazar skin nova do valorant espero que meus amigos lindos me mandem   \n",
       "491                                                                                                                                                                                                                           gabrielzurmely thaliciaa me da skin no valorant que te ajudo com ela   \n",
       "492                                                                                                                                                                           caraio eu fui jogar um valorant hj e foi so arrependimento n joguei porra nenhuma e pqp como eu to possesso de raiva   \n",
       "493                                                   andre1tv player oldschool com disciplina e garra na mesma pegada joga muito e é dedicado como poucos qualquer time de valorant só tem a ganhar com ele quando ele tiver em time top br não vem reclamar depois tá bom dia httpstcoxbypqekvyu   \n",
       "494                                                                                                                                                                                                   ontem subi a prata 1 no valorant e hj já subi pra prata 2 graças ao meu perfeito namorado ❤️   \n",
       "495                                                                                                                                                       rt patochovsk 💥 sorteio de valorant points 💥 haverá 2 ganhadoresganhador 1 5550 valorant pointsganhador 2 5550 valorant points 💥 quanto…   \n",
       "496                                                                                                                                                                                                                                                                        girafodott valorant tbm   \n",
       "497                                                                                                                                                                                                                                             jogador de lol foi jogar valorant veja o que rolou   \n",
       "498                                                                                                                                                                                                                                    alô valorant encontro partida nunca 20 minutos na fila kkkk   \n",
       "499                                                                                                                                                                                                                                                              quem vai jogar um valorant cmg hj   \n",
       "\n",
       "     Etiquetas Classificado  \n",
       "475          2  Irrelevante  \n",
       "476          1    Relevante  \n",
       "477          1    Relevante  \n",
       "478          2  Irrelevante  \n",
       "479          2  Irrelevante  \n",
       "480          1    Relevante  \n",
       "481          2  Irrelevante  \n",
       "482          2  Irrelevante  \n",
       "483          2  Irrelevante  \n",
       "484          2  Irrelevante  \n",
       "485          2  Irrelevante  \n",
       "486          2  Irrelevante  \n",
       "487          2  Irrelevante  \n",
       "488          2  Irrelevante  \n",
       "489          1    Relevante  \n",
       "490          2  Irrelevante  \n",
       "491          2  Irrelevante  \n",
       "492          2  Irrelevante  \n",
       "493          2  Irrelevante  \n",
       "494          1    Relevante  \n",
       "495          2  Irrelevante  \n",
       "496          2  Irrelevante  \n",
       "497          2  Irrelevante  \n",
       "498          1    Relevante  \n",
       "499          1    Relevante  "
      ]
     },
     "execution_count": 23,
     "metadata": {},
     "output_type": "execute_result"
    }
   ],
   "source": [
    "# Checando se funcionou e se os emojis ainda funcionam\n",
    "pd.set_option('max_colwidth', None)\n",
    "dados.tail(25)"
   ]
  },
  {
   "cell_type": "markdown",
   "metadata": {},
   "source": [
    "## Separando a base de dados em Relevantes e Irrelevantes"
   ]
  },
  {
   "cell_type": "code",
   "execution_count": 11,
   "metadata": {},
   "outputs": [],
   "source": [
    "filtro_relevante = dados.Classificado == 'Relevante'\n",
    "filtro_irrelevante = dados.Classificado == 'Irrelevante'\n",
    "\n",
    "dados_relevantes = dados.loc[filtro_relevante,:]\n",
    "dados_irrelevantes = dados.loc[filtro_irrelevante,:]"
   ]
  },
  {
   "cell_type": "code",
   "execution_count": 18,
   "metadata": {},
   "outputs": [
    {
     "data": {
      "text/html": [
       "<div>\n",
       "<style scoped>\n",
       "    .dataframe tbody tr th:only-of-type {\n",
       "        vertical-align: middle;\n",
       "    }\n",
       "\n",
       "    .dataframe tbody tr th {\n",
       "        vertical-align: top;\n",
       "    }\n",
       "\n",
       "    .dataframe thead th {\n",
       "        text-align: right;\n",
       "    }\n",
       "</style>\n",
       "<table border=\"1\" class=\"dataframe\">\n",
       "  <thead>\n",
       "    <tr style=\"text-align: right;\">\n",
       "      <th></th>\n",
       "      <th>Treinamento</th>\n",
       "      <th>Etiquetas</th>\n",
       "      <th>Classificado</th>\n",
       "    </tr>\n",
       "  </thead>\n",
       "  <tbody>\n",
       "    <tr>\n",
       "      <th>3</th>\n",
       "      <td>deletei o valorant agora meu pc volta a ligar em 3 segundos</td>\n",
       "      <td>1</td>\n",
       "      <td>Relevante</td>\n",
       "    </tr>\n",
       "    <tr>\n",
       "      <th>4</th>\n",
       "      <td>quem tiver pc baixa valorant nessa porr que eu tô no ódio e vai ser o dia todo só isso</td>\n",
       "      <td>1</td>\n",
       "      <td>Relevante</td>\n",
       "    </tr>\n",
       "    <tr>\n",
       "      <th>5</th>\n",
       "      <td>voltei a jogar valorant so por causa do mata mata</td>\n",
       "      <td>1</td>\n",
       "      <td>Relevante</td>\n",
       "    </tr>\n",
       "    <tr>\n",
       "      <th>6</th>\n",
       "      <td>viciei em valorant esse é o tweet</td>\n",
       "      <td>1</td>\n",
       "      <td>Relevante</td>\n",
       "    </tr>\n",
       "    <tr>\n",
       "      <th>7</th>\n",
       "      <td>zncabral free fire fez mais sucesso que o valorant só no brasil no resto do mundo quase ngm joga isso</td>\n",
       "      <td>1</td>\n",
       "      <td>Relevante</td>\n",
       "    </tr>\n",
       "  </tbody>\n",
       "</table>\n",
       "</div>"
      ],
      "text/plain": [
       "                                                                                             Treinamento  \\\n",
       "3                                            deletei o valorant agora meu pc volta a ligar em 3 segundos   \n",
       "4                 quem tiver pc baixa valorant nessa porr que eu tô no ódio e vai ser o dia todo só isso   \n",
       "5                                                      voltei a jogar valorant so por causa do mata mata   \n",
       "6                                                                      viciei em valorant esse é o tweet   \n",
       "7  zncabral free fire fez mais sucesso que o valorant só no brasil no resto do mundo quase ngm joga isso   \n",
       "\n",
       "   Etiquetas Classificado  \n",
       "3          1    Relevante  \n",
       "4          1    Relevante  \n",
       "5          1    Relevante  \n",
       "6          1    Relevante  \n",
       "7          1    Relevante  "
      ]
     },
     "execution_count": 18,
     "metadata": {},
     "output_type": "execute_result"
    }
   ],
   "source": [
    "dados_relevantes.head()"
   ]
  },
  {
   "cell_type": "markdown",
   "metadata": {},
   "source": [
    "## Verificando a probabilidade relativa por palavra no conjunto de relevantes"
   ]
  },
  {
   "cell_type": "code",
   "execution_count": 27,
   "metadata": {},
   "outputs": [],
   "source": [
    "frase = 0\n",
    "primeira_quebra = []\n",
    "\n",
    "for i in range(len(dados_relevantes)):\n",
    "    frase = dados_relevantes.iloc[i,0]\n",
    "    primeira_quebra += frase.split()\n",
    "\n",
    "palavras_quebradas_relevantes = pd.Series(primeira_quebra)\n",
    "\n",
    "\n",
    "palavras_quebradas_relevantes_relativa = palavras_quebradas_relevantes.value_counts(True)\n",
    "palavras_quebradas_relevantes_relativa;"
   ]
  },
  {
   "cell_type": "code",
   "execution_count": null,
   "metadata": {},
   "outputs": [],
   "source": [
    "Aplicando o looping de probabilidade por tweet dado que ele é relevan"
   ]
  },
  {
   "cell_type": "code",
   "execution_count": 26,
   "metadata": {},
   "outputs": [],
   "source": [
    "frase_quebrada = [dados_relevantes.iloc[i,0] for i in range(len(dados_relevantes))]\n",
    "lista_de_lista_de_tweets = [frase_quebrada[palavra].split() for palavra in range(len(frase_quebrada))]\n",
    "\n",
    "prob_tweet_dado_relevante = 1\n",
    "lista_proba = list()\n",
    "\n",
    "for trecho in range(len(lista_de_lista_de_tweets)):\n",
    "    for palavra in lista_de_lista_de_tweets[trecho]:\n",
    "        prob_tweet_dado_relevante *= palavras_quebradas_relevantes_relativa[palavra]\n",
    "    lista_proba.append(prob_tweet_dado_relevante)\n",
    "    prob_tweet_dado_relevante = 1\n",
    "    \n",
    "lista_proba;\n"
   ]
  },
  {
   "cell_type": "code",
   "execution_count": 15,
   "metadata": {},
   "outputs": [
    {
     "data": {
      "text/html": [
       "<div>\n",
       "<style scoped>\n",
       "    .dataframe tbody tr th:only-of-type {\n",
       "        vertical-align: middle;\n",
       "    }\n",
       "\n",
       "    .dataframe tbody tr th {\n",
       "        vertical-align: top;\n",
       "    }\n",
       "\n",
       "    .dataframe thead th {\n",
       "        text-align: right;\n",
       "    }\n",
       "</style>\n",
       "<table border=\"1\" class=\"dataframe\">\n",
       "  <thead>\n",
       "    <tr style=\"text-align: right;\">\n",
       "      <th></th>\n",
       "      <th>P_tweet_dado_relevante</th>\n",
       "      <th>P_tweet_dado_relevante * P_R</th>\n",
       "    </tr>\n",
       "  </thead>\n",
       "  <tbody>\n",
       "    <tr>\n",
       "      <th>0</th>\n",
       "      <td>2.281918e-31</td>\n",
       "      <td>1.045119e-31</td>\n",
       "    </tr>\n",
       "    <tr>\n",
       "      <th>1</th>\n",
       "      <td>1.862654e-49</td>\n",
       "      <td>8.530956e-50</td>\n",
       "    </tr>\n",
       "    <tr>\n",
       "      <th>2</th>\n",
       "      <td>1.454416e-24</td>\n",
       "      <td>6.661227e-25</td>\n",
       "    </tr>\n",
       "    <tr>\n",
       "      <th>3</th>\n",
       "      <td>3.121318e-17</td>\n",
       "      <td>1.429563e-17</td>\n",
       "    </tr>\n",
       "    <tr>\n",
       "      <th>4</th>\n",
       "      <td>1.152785e-52</td>\n",
       "      <td>5.279756e-53</td>\n",
       "    </tr>\n",
       "  </tbody>\n",
       "</table>\n",
       "</div>"
      ],
      "text/plain": [
       "   P_tweet_dado_relevante  P_tweet_dado_relevante * P_R\n",
       "0            2.281918e-31                  1.045119e-31\n",
       "1            1.862654e-49                  8.530956e-50\n",
       "2            1.454416e-24                  6.661227e-25\n",
       "3            3.121318e-17                  1.429563e-17\n",
       "4            1.152785e-52                  5.279756e-53"
      ]
     },
     "execution_count": 15,
     "metadata": {},
     "output_type": "execute_result"
    }
   ],
   "source": [
    "data_frame = pd.DataFrame(lista_proba, columns=['P_tweet_dado_relevante'])\n",
    "\n",
    "data_frame['P_tweet_dado_relevante * P_R'] = data_frame['P_tweet_dado_relevante']*P_R\n",
    "data_frame.head()"
   ]
  },
  {
   "cell_type": "markdown",
   "metadata": {},
   "source": [
    "## \n"
   ]
  }
 ],
 "metadata": {
  "kernelspec": {
   "display_name": "Python 3",
   "language": "python",
   "name": "python3"
  },
  "language_info": {
   "codemirror_mode": {
    "name": "ipython",
    "version": 3
   },
   "file_extension": ".py",
   "mimetype": "text/x-python",
   "name": "python",
   "nbconvert_exporter": "python",
   "pygments_lexer": "ipython3",
   "version": "3.7.6"
  }
 },
 "nbformat": 4,
 "nbformat_minor": 4
}
